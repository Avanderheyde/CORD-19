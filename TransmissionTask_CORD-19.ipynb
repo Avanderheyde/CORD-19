{
 "cells": [
  {
   "cell_type": "markdown",
   "metadata": {},
   "source": [
    "### What is known about transmission, incubation, and environmental stability?  \n",
    "##### COVID-19 Open Research Dataset Challenge (CORD-19)\n",
    "\n",
    "https://www.youtube.com/watch?v=S6GVXk6kbcs"
   ]
  },
  {
   "cell_type": "code",
   "execution_count": 75,
   "metadata": {},
   "outputs": [],
   "source": [
    "import os \n",
    "import pandas as pd\n",
    "import json\n",
    "from tqdm import tqdm\n",
    "import re\n",
    "import matplotlib.pyplot as plt\n",
    "\n",
    "import heapq\n"
   ]
  },
  {
   "cell_type": "code",
   "execution_count": 344,
   "metadata": {},
   "outputs": [
    {
     "name": "stderr",
     "output_type": "stream",
     "text": [
      "  7%|▋         | 64/885 [00:00<00:01, 636.66it/s]"
     ]
    },
    {
     "name": "stdout",
     "output_type": "stream",
     "text": [
      "biorxiV_medrxiv\n"
     ]
    },
    {
     "name": "stderr",
     "output_type": "stream",
     "text": [
      "100%|██████████| 885/885 [00:01<00:00, 759.42it/s]\n",
      "  1%|          | 57/9118 [00:00<00:16, 562.85it/s]"
     ]
    },
    {
     "name": "stdout",
     "output_type": "stream",
     "text": [
      "comm_use_subset\n"
     ]
    },
    {
     "name": "stderr",
     "output_type": "stream",
     "text": [
      "100%|██████████| 9118/9118 [00:18<00:00, 480.89it/s]\n",
      "  0%|          | 60/16959 [00:00<00:28, 590.53it/s]"
     ]
    },
    {
     "name": "stdout",
     "output_type": "stream",
     "text": [
      "custom_license\n"
     ]
    },
    {
     "name": "stderr",
     "output_type": "stream",
     "text": [
      "100%|██████████| 16959/16959 [00:32<00:00, 523.93it/s]\n",
      "  3%|▎         | 73/2353 [00:00<00:03, 723.34it/s]"
     ]
    },
    {
     "name": "stdout",
     "output_type": "stream",
     "text": [
      "noncomm_use_subset\n"
     ]
    },
    {
     "name": "stderr",
     "output_type": "stream",
     "text": [
      "100%|██████████| 2353/2353 [00:03<00:00, 641.27it/s]\n"
     ]
    }
   ],
   "source": [
    "#, 'comm_use_subset', 'custom_license', 'noncomm_use_subset'\n",
    "dirs = ['biorxiV_medrxiv', 'comm_use_subset', 'custom_license', 'noncomm_use_subset']\n",
    "\n",
    "docs = []\n",
    "for d in dirs:\n",
    "    print(d)\n",
    "    for file in tqdm(os.listdir(f\"{d}/{d}\")):\n",
    "#         print(file)\n",
    "        filepath = f\"{d}/{d}/{file}\"\n",
    "        j = json.load(open(filepath,'rb'))\n",
    "#         print(j['metadata'])\n",
    "        title = j['metadata']['title']\n",
    "#         print(j.keys())\n",
    "        try: \n",
    "            abstract = j['abstract'][0]['text']\n",
    "        except:\n",
    "            abstract = ''\n",
    "            \n",
    "        fulltext = ''\n",
    "        for text in j['body_text']:\n",
    "            fulltext += text['text'] + \"\\n\\n\"\n",
    "#         print(fulltext)\n",
    "        docs.append([title, abstract, fulltext])\n"
   ]
  },
  {
   "cell_type": "code",
   "execution_count": 345,
   "metadata": {
    "scrolled": false
   },
   "outputs": [
    {
     "data": {
      "text/html": [
       "<div>\n",
       "<style scoped>\n",
       "    .dataframe tbody tr th:only-of-type {\n",
       "        vertical-align: middle;\n",
       "    }\n",
       "\n",
       "    .dataframe tbody tr th {\n",
       "        vertical-align: top;\n",
       "    }\n",
       "\n",
       "    .dataframe thead th {\n",
       "        text-align: right;\n",
       "    }\n",
       "</style>\n",
       "<table border=\"1\" class=\"dataframe\">\n",
       "  <thead>\n",
       "    <tr style=\"text-align: right;\">\n",
       "      <th></th>\n",
       "      <th>title</th>\n",
       "      <th>abstract</th>\n",
       "      <th>fulltext</th>\n",
       "    </tr>\n",
       "  </thead>\n",
       "  <tbody>\n",
       "    <tr>\n",
       "      <td>0</td>\n",
       "      <td>Multimerization of HIV-1 integrase hinges on c...</td>\n",
       "      <td>New anti-AIDS treatments must be continually d...</td>\n",
       "      <td>In the absence of a curative treatment, the hi...</td>\n",
       "    </tr>\n",
       "    <tr>\n",
       "      <td>1</td>\n",
       "      <td>Time-varying transmission dynamics of Novel Co...</td>\n",
       "      <td>Rationale: Several studies have estimated basi...</td>\n",
       "      <td>Eighteen years ago, severe acute respiratory s...</td>\n",
       "    </tr>\n",
       "    <tr>\n",
       "      <td>2</td>\n",
       "      <td>p53 is not necessary for DUX4 pathology</td>\n",
       "      <td>Summary Statement: DUX4 is thought to mediate ...</td>\n",
       "      <td>Facioscapulohumeral muscular dystrophy (FSHD) ...</td>\n",
       "    </tr>\n",
       "    <tr>\n",
       "      <td>3</td>\n",
       "      <td>Virological assessment of hospitalized cases o...</td>\n",
       "      <td>emerged in late 2019 1,2 . Initial outbreaks i...</td>\n",
       "      <td>Pharyngeal virus shedding was very high during...</td>\n",
       "    </tr>\n",
       "    <tr>\n",
       "      <td>4</td>\n",
       "      <td>Potential impact of seasonal forcing on a SARS...</td>\n",
       "      <td>A novel coronavirus (SARS-CoV-2) first detecte...</td>\n",
       "      <td>(2.2 with 90% high density interval 1.4-3.8 (R...</td>\n",
       "    </tr>\n",
       "  </tbody>\n",
       "</table>\n",
       "</div>"
      ],
      "text/plain": [
       "                                               title  \\\n",
       "0  Multimerization of HIV-1 integrase hinges on c...   \n",
       "1  Time-varying transmission dynamics of Novel Co...   \n",
       "2            p53 is not necessary for DUX4 pathology   \n",
       "3  Virological assessment of hospitalized cases o...   \n",
       "4  Potential impact of seasonal forcing on a SARS...   \n",
       "\n",
       "                                            abstract  \\\n",
       "0  New anti-AIDS treatments must be continually d...   \n",
       "1  Rationale: Several studies have estimated basi...   \n",
       "2  Summary Statement: DUX4 is thought to mediate ...   \n",
       "3  emerged in late 2019 1,2 . Initial outbreaks i...   \n",
       "4  A novel coronavirus (SARS-CoV-2) first detecte...   \n",
       "\n",
       "                                            fulltext  \n",
       "0  In the absence of a curative treatment, the hi...  \n",
       "1  Eighteen years ago, severe acute respiratory s...  \n",
       "2  Facioscapulohumeral muscular dystrophy (FSHD) ...  \n",
       "3  Pharyngeal virus shedding was very high during...  \n",
       "4  (2.2 with 90% high density interval 1.4-3.8 (R...  "
      ]
     },
     "execution_count": 345,
     "metadata": {},
     "output_type": "execute_result"
    }
   ],
   "source": [
    "df = pd.DataFrame(docs, columns = ['title', 'abstract', 'fulltext'])\n",
    "df.head()"
   ]
  },
  {
   "cell_type": "code",
   "execution_count": 346,
   "metadata": {},
   "outputs": [],
   "source": [
    "fulltexts = df['fulltext'].values"
   ]
  },
  {
   "cell_type": "code",
   "execution_count": 347,
   "metadata": {},
   "outputs": [
    {
     "name": "stdout",
     "output_type": "stream",
     "text": [
      "Number of: \n",
      "coronavirus 62080\n",
      "CoV 62080\n",
      "COVID 62080\n",
      "corona virus 63395\n",
      "SARS2 62080\n"
     ]
    }
   ],
   "source": [
    "coronavirus = 0\n",
    "CoV = 0\n",
    "COVID= 0\n",
    "coronav=0\n",
    "SARS2 = 0\n",
    "for text in fulltexts:\n",
    "    coronavirus += text.count('coronavirus')\n",
    "    CoV += text.count('CoV')\n",
    "    COVID += text.count('COVID')\n",
    "    coronav += text.count('coronav')\n",
    "    SARS2 += text.count('SARS2')\n",
    "\n",
    "print('Number of: ')\n",
    "print(f'coronavirus {coronavirus}')\n",
    "print(f'CoV {coronavirus}')\n",
    "print(f'COVID {coronavirus}')\n",
    "print(f'corona virus {coronav}')\n",
    "print(f'SARS2 {coronavirus}')"
   ]
  },
  {
   "cell_type": "markdown",
   "metadata": {},
   "source": [
    "### Range of Incubation periods"
   ]
  },
  {
   "cell_type": "code",
   "execution_count": 348,
   "metadata": {},
   "outputs": [
    {
     "data": {
      "text/html": [
       "<div>\n",
       "<style scoped>\n",
       "    .dataframe tbody tr th:only-of-type {\n",
       "        vertical-align: middle;\n",
       "    }\n",
       "\n",
       "    .dataframe tbody tr th {\n",
       "        vertical-align: top;\n",
       "    }\n",
       "\n",
       "    .dataframe thead th {\n",
       "        text-align: right;\n",
       "    }\n",
       "</style>\n",
       "<table border=\"1\" class=\"dataframe\">\n",
       "  <thead>\n",
       "    <tr style=\"text-align: right;\">\n",
       "      <th></th>\n",
       "      <th>title</th>\n",
       "      <th>abstract</th>\n",
       "      <th>fulltext</th>\n",
       "    </tr>\n",
       "  </thead>\n",
       "  <tbody>\n",
       "    <tr>\n",
       "      <td>1</td>\n",
       "      <td>Time-varying transmission dynamics of Novel Co...</td>\n",
       "      <td>Rationale: Several studies have estimated basi...</td>\n",
       "      <td>Eighteen years ago, severe acute respiratory s...</td>\n",
       "    </tr>\n",
       "    <tr>\n",
       "      <td>4</td>\n",
       "      <td>Potential impact of seasonal forcing on a SARS...</td>\n",
       "      <td>A novel coronavirus (SARS-CoV-2) first detecte...</td>\n",
       "      <td>(2.2 with 90% high density interval 1.4-3.8 (R...</td>\n",
       "    </tr>\n",
       "    <tr>\n",
       "      <td>13</td>\n",
       "      <td>A Multiscale and Comparative Model for Recepto...</td>\n",
       "      <td>The respiratory syndrome caused by a new type ...</td>\n",
       "      <td>The coronavirus disease 2019 has emerged at th...</td>\n",
       "    </tr>\n",
       "    <tr>\n",
       "      <td>20</td>\n",
       "      <td>Real-Time Estimation of the Risk of Death from...</td>\n",
       "      <td>The exported cases of 2019 novel coronavirus i...</td>\n",
       "      <td>Since 8 December, 2019, clusters of pneumonia ...</td>\n",
       "    </tr>\n",
       "    <tr>\n",
       "      <td>24</td>\n",
       "      <td>Title Analysis of the epidemic growth of the e...</td>\n",
       "      <td>Background: On January 23, 2020, a quarantine ...</td>\n",
       "      <td>On December 31, 2019, the Health Commission in...</td>\n",
       "    </tr>\n",
       "  </tbody>\n",
       "</table>\n",
       "</div>"
      ],
      "text/plain": [
       "                                                title  \\\n",
       "1   Time-varying transmission dynamics of Novel Co...   \n",
       "4   Potential impact of seasonal forcing on a SARS...   \n",
       "13  A Multiscale and Comparative Model for Recepto...   \n",
       "20  Real-Time Estimation of the Risk of Death from...   \n",
       "24  Title Analysis of the epidemic growth of the e...   \n",
       "\n",
       "                                             abstract  \\\n",
       "1   Rationale: Several studies have estimated basi...   \n",
       "4   A novel coronavirus (SARS-CoV-2) first detecte...   \n",
       "13  The respiratory syndrome caused by a new type ...   \n",
       "20  The exported cases of 2019 novel coronavirus i...   \n",
       "24  Background: On January 23, 2020, a quarantine ...   \n",
       "\n",
       "                                             fulltext  \n",
       "1   Eighteen years ago, severe acute respiratory s...  \n",
       "4   (2.2 with 90% high density interval 1.4-3.8 (R...  \n",
       "13  The coronavirus disease 2019 has emerged at th...  \n",
       "20  Since 8 December, 2019, clusters of pneumonia ...  \n",
       "24  On December 31, 2019, the Health Commission in...  "
      ]
     },
     "execution_count": 348,
     "metadata": {},
     "output_type": "execute_result"
    }
   ],
   "source": [
    "incubation = df[df['fulltext'].str.contains('incubation')]\n",
    "incubation.head()"
   ]
  },
  {
   "cell_type": "code",
   "execution_count": 349,
   "metadata": {},
   "outputs": [],
   "source": [
    "incubation_texts = incubation['fulltext'].values"
   ]
  },
  {
   "cell_type": "code",
   "execution_count": 350,
   "metadata": {},
   "outputs": [
    {
     "data": {
      "text/plain": [
       "8142"
      ]
     },
     "execution_count": 350,
     "metadata": {},
     "output_type": "execute_result"
    }
   ],
   "source": [
    "len(incubation_texts)"
   ]
  },
  {
   "cell_type": "code",
   "execution_count": 351,
   "metadata": {},
   "outputs": [
    {
     "name": "stdout",
     "output_type": "stream",
     "text": [
      "1668\n"
     ]
    }
   ],
   "source": [
    "incubation_times = []\n",
    "for t in incubation_texts:\n",
    "    for sentence in t.split('. '):\n",
    "        if 'incubation' in sentence:\n",
    "#             print(sentence)\n",
    "            single_day = re.findall(r\" \\d{1,2} day\", sentence)\n",
    "            \n",
    "            if len(single_day) == 1:\n",
    "                num = single_day[0].split(\" \")\n",
    "                incubation_times.append(float(num[1]))\n",
    "#                 print(single_day[0])\n",
    "#                 print(sentence)\n",
    "#                 print()\n",
    "#                 print()\n",
    "            \n",
    "print(len(incubation_times))"
   ]
  },
  {
   "cell_type": "code",
   "execution_count": 352,
   "metadata": {},
   "outputs": [
    {
     "data": {
      "image/png": "[encoded data removed]",
      "text/plain": [
       "<Figure size 432x288 with 1 Axes>"
      ]
     },
     "metadata": {
      "needs_background": "light"
     },
     "output_type": "display_data"
    }
   ],
   "source": [
    "n, bins, patches = plt.hist(incubation_times, 50, density = True, facecolor='g', alpha=0.75)\n",
    "plt.xlabel('Incubation Days')\n",
    "plt.ylabel('Counts')\n",
    "plt.title('Histogram of Incubation days')\n",
    "plt.show()"
   ]
  },
  {
   "cell_type": "markdown",
   "metadata": {},
   "source": [
    "## NLP summarizer\n",
    "https://stackabuse.com/text-summarization-with-nltk-in-python/"
   ]
  },
  {
   "cell_type": "code",
   "execution_count": 354,
   "metadata": {},
   "outputs": [],
   "source": [
    "import re\n",
    "import nltk\n",
    "\n",
    "# Get a list of stopwords from nltk\n",
    "stopwords = nltk.corpus.stopwords.words(\"english\")\n",
    "\n",
    "def clean_text(text):\n",
    "    # Removing Square Brackets and Extra Spaces\n",
    "    text = re.sub(r'\\[[0-9]*\\]',' ', text)\n",
    "    text = re.sub(r'\\s+',' ', text)\n",
    " \n",
    "    text = re.sub(r'\\{\\{[\\s\\S]*?\\}\\}', '', text)\n",
    "\n",
    "    # Remove doi links\n",
    "    #text = re.sub(r'^https://$', '',text)\n",
    "    return text\n",
    "\n",
    "def clean_spchar_digs(text):\n",
    "    # Removing special characters and digits\n",
    "    text = re.sub('[^a-zA-Z]', ' ', text )\n",
    "    text = re.sub(r'\\s+', ' ', text)\n",
    "    \n",
    "    return text\n",
    "\n",
    "def word_freq(formatted_text):\n",
    "    #creates a dictionary of words as keys and frequency as values\n",
    "    word_frequencies = {}\n",
    "    for word in nltk.word_tokenize(formatted_text):\n",
    "        if word not in stopwords:\n",
    "            if word not in word_frequencies.keys():\n",
    "                word_frequencies[word] = 1\n",
    "            else:\n",
    "                word_frequencies[word] += 1\n",
    "\n",
    "    maximum_frequency = max(word_frequencies.values())\n",
    "    #divides the values by the maximum frequency\n",
    "    for word in word_frequencies.keys():\n",
    "        word_frequencies[word] = (word_frequencies[word]/maximum_frequency)\n",
    "    \n",
    "    return word_frequencies\n",
    "\n",
    "def sent_scores(sentence_list, word_frequencies):\n",
    "    #uses the word frequencies to score the sentences by adding up the scores\n",
    "    #of the words that make up the sentence\n",
    "    sentence_scores = {}\n",
    "    for sent in sentence_list:\n",
    "        for word in nltk.word_tokenize(sent.lower()):\n",
    "            if word in word_frequencies.keys():\n",
    "                if len(sent.split(' ')) <60: #limits sentence to less than 60 words\n",
    "                    if sent not in sentence_scores.keys():\n",
    "                        sentence_scores[sent] = word_frequencies[word]\n",
    "                    else:\n",
    "                        sentence_scores[sent] += word_frequencies[word]\n",
    "                    \n",
    "    return sentence_scores\n",
    "\n",
    "def get_summary(dirty_text):\n",
    "    text = clean_text(dirty_text)\n",
    "    formatted_text = clean_spchar_digs(text)\n",
    "\n",
    "    sentence_list = nltk.sent_tokenize(text)\n",
    "\n",
    "    word_frequencies = word_freq(formatted_text) \n",
    "    sentence_scores = sent_scores(sentence_list,word_frequencies)\n",
    "    \n",
    "    \n",
    "    summary_sentences = heapq.nlargest(7, sentence_scores, key=sentence_scores.get) #first value is number highest scoring sentences to print\n",
    "    summary = '\\n\\n '.join(summary_sentences)\n",
    "    return summary"
   ]
  },
  {
   "cell_type": "markdown",
   "metadata": {},
   "source": [
    "### Seasonality"
   ]
  },
  {
   "cell_type": "code",
   "execution_count": 358,
   "metadata": {},
   "outputs": [
    {
     "data": {
      "text/html": [
       "<div>\n",
       "<style scoped>\n",
       "    .dataframe tbody tr th:only-of-type {\n",
       "        vertical-align: middle;\n",
       "    }\n",
       "\n",
       "    .dataframe tbody tr th {\n",
       "        vertical-align: top;\n",
       "    }\n",
       "\n",
       "    .dataframe thead th {\n",
       "        text-align: right;\n",
       "    }\n",
       "</style>\n",
       "<table border=\"1\" class=\"dataframe\">\n",
       "  <thead>\n",
       "    <tr style=\"text-align: right;\">\n",
       "      <th></th>\n",
       "      <th>title</th>\n",
       "      <th>abstract</th>\n",
       "      <th>fulltext</th>\n",
       "    </tr>\n",
       "  </thead>\n",
       "  <tbody>\n",
       "    <tr>\n",
       "      <td>4</td>\n",
       "      <td>Potential impact of seasonal forcing on a SARS...</td>\n",
       "      <td>A novel coronavirus (SARS-CoV-2) first detecte...</td>\n",
       "      <td>(2.2 with 90% high density interval 1.4-3.8 (R...</td>\n",
       "    </tr>\n",
       "    <tr>\n",
       "      <td>7</td>\n",
       "      <td>Excess cases of Influenza like illnesses in Fr...</td>\n",
       "      <td>Several French regions where COVID19 has been ...</td>\n",
       "      <td>Influenza Like illnesses cases are defined as ...</td>\n",
       "    </tr>\n",
       "    <tr>\n",
       "      <td>10</td>\n",
       "      <td>Projecting the end of the Zika virus epidemic ...</td>\n",
       "      <td>International Concern following a cluster of a...</td>\n",
       "      <td>Starting as early as 2013, 1 has since spread ...</td>\n",
       "    </tr>\n",
       "    <tr>\n",
       "      <td>36</td>\n",
       "      <td>Far-UVC light: A new tool to control the sprea...</td>\n",
       "      <td>Airborne-mediated microbial diseases such as i...</td>\n",
       "      <td>Airborne-mediated microbial diseases represent...</td>\n",
       "    </tr>\n",
       "    <tr>\n",
       "      <td>41</td>\n",
       "      <td>Effects of temperature variation and humidity ...</td>\n",
       "      <td>Object Meteorological parameters are the impor...</td>\n",
       "      <td>In December 2019, a novel coronavirus disease ...</td>\n",
       "    </tr>\n",
       "  </tbody>\n",
       "</table>\n",
       "</div>"
      ],
      "text/plain": [
       "                                                title  \\\n",
       "4   Potential impact of seasonal forcing on a SARS...   \n",
       "7   Excess cases of Influenza like illnesses in Fr...   \n",
       "10  Projecting the end of the Zika virus epidemic ...   \n",
       "36  Far-UVC light: A new tool to control the sprea...   \n",
       "41  Effects of temperature variation and humidity ...   \n",
       "\n",
       "                                             abstract  \\\n",
       "4   A novel coronavirus (SARS-CoV-2) first detecte...   \n",
       "7   Several French regions where COVID19 has been ...   \n",
       "10  International Concern following a cluster of a...   \n",
       "36  Airborne-mediated microbial diseases such as i...   \n",
       "41  Object Meteorological parameters are the impor...   \n",
       "\n",
       "                                             fulltext  \n",
       "4   (2.2 with 90% high density interval 1.4-3.8 (R...  \n",
       "7   Influenza Like illnesses cases are defined as ...  \n",
       "10  Starting as early as 2013, 1 has since spread ...  \n",
       "36  Airborne-mediated microbial diseases represent...  \n",
       "41  In December 2019, a novel coronavirus disease ...  "
      ]
     },
     "execution_count": 358,
     "metadata": {},
     "output_type": "execute_result"
    }
   ],
   "source": [
    "season = df[df['fulltext'].str.contains('season')]\n",
    "season.head()"
   ]
  },
  {
   "cell_type": "code",
   "execution_count": 359,
   "metadata": {},
   "outputs": [],
   "source": [
    "season_texts = season['fulltext'].values"
   ]
  },
  {
   "cell_type": "code",
   "execution_count": 360,
   "metadata": {},
   "outputs": [],
   "source": [
    "season_data = ''\n",
    "for t in season_texts:\n",
    "    for sentence in t.split('. '):\n",
    "        if 'season' in sentence:\n",
    "            if 'winter' in sentence or 'summer' in sentence or 'fall' in sentence or 'spring' in sentence:\n",
    "#                 print(sentence)\n",
    "#                 print()\n",
    "#                 print()\n",
    "                    season_data += ' ' + sentence"
   ]
  },
  {
   "cell_type": "code",
   "execution_count": 388,
   "metadata": {},
   "outputs": [],
   "source": [
    "season_result = get_summary(season_data)"
   ]
  },
  {
   "cell_type": "markdown",
   "metadata": {},
   "source": [
    "### Immunity"
   ]
  },
  {
   "cell_type": "code",
   "execution_count": 386,
   "metadata": {},
   "outputs": [],
   "source": [
    "from re import search\n",
    "immunity_text = ''\n",
    "for text in fulltexts:\n",
    "    for sentence in text.split('. '):\n",
    "        if ('immunity' in sentence or 'immune' in sentence) and ('Cov' in sentence or 'Covid' in sentence or 'COVID' in sentence or 'corona virus' in sentence):\n",
    "#             print(sentence)\n",
    "#             print()\n",
    "#             print()\n",
    "            immunity_text += ' ' + sentence"
   ]
  },
  {
   "cell_type": "code",
   "execution_count": 387,
   "metadata": {},
   "outputs": [
    {
     "name": "stdout",
     "output_type": "stream",
     "text": [
      "Derivation of monoclonal anti-idiotype antibodies to an antigen-specific bovine monocl onal antibody Jerne (1974) proposed a network theory of the immune system in which idiotypes and anti-idiotypes play a central regulatory role Other suspected, but not well-documented, agents which can provoke immune complex vasculitis include streptococcal infection, herpes virus infection, equine infectious anaemia virus, and canine corona virus .\n",
      "\n",
      " We discussed the dynamic characteristics of host immune system and the imbalance of gut microbiota in 3 critical patients with COVID-2019 https://doi.org/10.1101/2020.03.03.20030650 doi: medRxiv preprint severity was closely related with host immune cell levels, and the vicious circle between immune disorder and gut microbiota imbalance may be a high risk of fatal pneumonia.\n",
      "\n",
      " CD4 + T cells play a pivotal role in regulating immune responses, orchestrating the deletion 3 7 7 and amplification of immune cells, especially CD8 + T cells Here, we focus on insights into blood immune responses to COVID-19 using 5' mRNA, TCR, and BCR V(D)J recombination analysis with 4 4 single-cell resolution.\n",
      "\n",
      " Together, our data showed an increased recruitment of immune cells to the lung in response to SARS-CoV-2 infection, and that the lung immune cell compartments differed between mild and severe COVID-19 patients.\n",
      "\n",
      " All rights reserved A well co-ordinated innate and adaptive immune response may rapidly control of the virus, while a failed immune response leads to viral spreading, cytokine storm, and high mortality .\n",
      "\n",
      " Since it will take several years to develop specific drugs to treat COVID-19, repurposing currently marketed drugs would provide valuable opportunities This high mortality rate among corona virus infected old patients is explained by the high virulence of the new virus in the absence of previous immunity and already compromised immune system among old peoples.\n",
      "\n",
      " Cytokines are produced by both innate immune cells and adaptive immune cells These damages might be attributable to indirect cytokines storm initiated by immune system and direct attack from SARS-CoV-2 itself.\n"
     ]
    }
   ],
   "source": [
    "immunity_result = get_summary(immunity_text)"
   ]
  },
  {
   "cell_type": "markdown",
   "metadata": {},
   "source": [
    "### Role of Environment "
   ]
  },
  {
   "cell_type": "code",
   "execution_count": 384,
   "metadata": {},
   "outputs": [],
   "source": [
    "enviro_data = ''\n",
    "for text in fulltexts:\n",
    "    for sentence in text.split('. '):\n",
    "        if ('environment' in sentence or 'environmental stability' in sentence) and ('Cov' in sentence or 'Covid' in sentence or 'COVID' in sentence or 'corona virus' in sentence):\n",
    "#             print(sentence)\n",
    "#             print()\n",
    "#             print()\n",
    "            enviro_data += ' ' + sentence"
   ]
  },
  {
   "cell_type": "code",
   "execution_count": 385,
   "metadata": {},
   "outputs": [
    {
     "name": "stdout",
     "output_type": "stream",
     "text": [
      "In addition to population mobility and human-to-human contact, environmental factors can impact droplet transmission and survival of viruses (e.g., influenza) but have not yet been examined for this novel pathogen In order to identify the sta- Table 1 : Relationship between local exponential growth, log(R proxy ), and environmental factors (i.e., absolute humidity and temperature).\n",
      "\n",
      " This investigation showed that the hospital environment frequently becomes contaminated when providing care to COVID-19 patients A lack of resources also meant that we were unable to conduct 1 3 These findings emphasize the need to ensure adequate environmental cleaning, strengthen infection prevention training, and improve infection prevention precautions among HCWs during the outbreak of COVID-19.\n",
      "\n",
      " Evidence exists that each of these routes of transmission is possible: symptomatic ( 8 ) , pre-symptomatic ( 9 ) ; asymptomatic ( 10 ) ; and environmental ( 8 ) 23.20026690 doi: medRxiv preprint cells formed in the mildly infected patients support the notion that a rapid and robust adaptive immune response is potentially critical for controlling COVID-19.\n",
      "\n",
      " The transmission rate of COVID-19 may be affected by many environmental factors Hospital waiting times were extended, which increased the time before infected individuals were identified and placed into isolation.\n",
      "\n",
      " Second, our paper complements the epidemiologic studies on the basic reproduction number of COVID-19 Second, we match the daily weather variables to the number of new cases of COVID-19 based on city name and date.\n",
      "\n",
      " Based on the epidemic of COVID-19 in mainland China, we developed data-driven SEIQR models to investigate the impact of social distancing and epicenter lockdown on the epidemic dynamics The basic reproductive number for COVID-19 was then found to be 5.6, which is substantially higher than that for SARS.\n",
      "\n",
      " In an enclosed and crowded environment, the transmission of SARS-CoV-2 was thought to significantly increase Patient 19's partner was clinical diagnosed with COVID-19, while patient 14's was not.\n"
     ]
    }
   ],
   "source": [
    "enviro_result = get_summary(control_data)"
   ]
  },
  {
   "cell_type": "markdown",
   "metadata": {},
   "source": [
    "### History "
   ]
  },
  {
   "cell_type": "code",
   "execution_count": 382,
   "metadata": {},
   "outputs": [],
   "source": [
    "history_data = ''\n",
    "for text in fulltexts:\n",
    "    for sentence in text.split('. '):\n",
    "        if ('history' in sentence or 'natural history' in sentence or 'diagnostics' in sentence) and ('Cov' in sentence or 'Covid' in sentence or 'COVID' in sentence or 'corona virus' in sentence):\n",
    "#             print(sentence)\n",
    "#             print()\n",
    "#             print()\n",
    "            history_data += ' ' + sentence"
   ]
  },
  {
   "cell_type": "code",
   "execution_count": 383,
   "metadata": {},
   "outputs": [
    {
     "name": "stdout",
     "output_type": "stream",
     "text": [
      "In the 853 confirmed COVID-19 patients, 199 cases reported their contact history, in which 172 patients (86.43%) had a history of having been to Hubei or living in Hubei, 19 patients (9.55%) had a history of contacting confirmed cases, 8 patients (4.02%) had a history of contacting people who were from Hubei ( Figure 6 ).\n",
      "\n",
      " We collected all publicly available information of confirmed COVID-19 patients in Hefei and Shenzhen, including sex, age, travel history, information of contact with patients with similar symptoms or confirmed COVID-19, symptoms related to SARS-CoV-2 infection and time when these symptoms first appeared, and time of conformation of COVID-19.\n",
      "\n",
      " We used WHO training material for the detection, prevention, response, and control of COVID-19 to develop a validated questionnaire first reported 41 COVID-19 cases, most of whom had a history of exposure to Huanan Seafood Wholesale Market Secondary outcomes included the history of epidemiology of CML patients, the clinical characteristics and outcomes of CML patients with COVID-19.\n",
      "\n",
      " Person who had a close (within 1 m) but short (< 15 min) contact with a confirmed case, or a distant (> 1 m) but prolonged contact in public settings, or any contact in private settings that does not match with the moderate/high risk of exposure criteria.\n",
      "\n",
      " Clinical details on the cancer history and COVID-19 pneumonia are summarized in Table 1 1 case had history of Wuhan contact and the other 2 cases had no clear epidemiological history (Table 1 ).\n",
      "\n",
      " Of the 106 confirmed COVID-19 cases with a clear travel or contact history, the median age was 41 years (range, 19 to 73), and 70 (66.0%) were known to be male ( Table 1 ) Particularly, 66.2% of the secondary cases were infected within three days before the symptom onset dates of the first-generation cases.\n",
      "\n",
      " Our study provided three cases as clinical-confirmed COVID-19 pneumonia because of their epidemiological history, signs, symptoms and chest CT evidence according to guidance, though they tested negative for the SARS-CoV-2 26.20028225 doi: medRxiv preprint Figure 2 : Sexual behavior history, diagnosis and treatment process of patient 14 and patient 19 with COVID-19.\n"
     ]
    }
   ],
   "source": [
    "history_result = get_summary(history_data)"
   ]
  },
  {
   "cell_type": "markdown",
   "metadata": {},
   "source": [
    "### What do we know about natural history, transmission, and diagnostics for the virus?\n",
    "\n",
    "Implementation of diagnostics and products to improve clinical processes\n",
    "Disease models, including animal models for infection, disease and transmission\n",
    "Tools and studies to monitor phenotypic change and potential adaptation of the virus"
   ]
  },
  {
   "cell_type": "code",
   "execution_count": 374,
   "metadata": {},
   "outputs": [],
   "source": [
    "pheno_data = ''\n",
    "for text in fulltexts:\n",
    "    for sentence in text.split('. '):\n",
    "        if ('phenotypic change' in sentence or 'adaptation' in sentence) and ('Cov' in sentence or 'Covid' in sentence or 'COVID' in sentence):\n",
    "#             print(sentence)\n",
    "#             print()\n",
    "#             print()\n",
    "            pheno_data += ' ' + sentence\n",
    "# 'personal' in sentence or 'protective' in sentence or 'equipment' in sentence or 'PPE' in sentence"
   ]
  },
  {
   "cell_type": "code",
   "execution_count": 375,
   "metadata": {
    "scrolled": true
   },
   "outputs": [
    {
     "name": "stdout",
     "output_type": "stream",
     "text": [
      "Patients with COVID-19 show clinical manifestations include fever, nonproductive cough, dyspnea, myalgia, fatigue, normal or decreased leukocyte counts, and radiographic evidence of pneumonia , which are similar to the symptoms of SARS-CoV and MERS-CoV infections We outline some of the core dimensions of these resilient health systems 4 and their responses to the COVID-19 epidemic.\n",
      "\n",
      "  In short, the SARS virus underwent several rounds of genetic adaptation after making the leap from the civet cats to humans.\n"
     ]
    }
   ],
   "source": [
    "adapt_result = get_summary(pheno_data)"
   ]
  },
  {
   "cell_type": "code",
   "execution_count": 390,
   "metadata": {
    "scrolled": false
   },
   "outputs": [
    {
     "name": "stdout",
     "output_type": "stream",
     "text": [
      "\u001b[1mSeasonality\u001b[0m\n",
      "\n",
      "Conducting the trial during winter months will maximize the efficiency of the trial because AOM and URTI incidences are highest during that time Thus sufficient patients will be recruited during two calendar years for the intervention to take place over two winter seasons The intervention will be given during the winter season.\n",
      "\n",
      " Given the overlap in the winter season of these viruses in temperate areas, it is not surprising that co-infections with two or more viruses occur Therefore, contact and droplet precautions are sufficient to prevent transmission in most settings; handwashing is critical in healthcare settings during the winter season.\n",
      "\n",
      " The virulence, spread and type of circulating influenza strains varies from season to season.\n",
      "\n",
      " In our study, picornaviruses had the highest prevalence over all seasons, although other viruses such as influenza virus and RSV increased their prevalence in winter As expected, we found that influenza viruses and other viruses increase in prevalence with a seasonal distribution in winter (see Fig Less common causes include parainfluenza, metapneumovirus, coronavirus, influenza, bocavirus, and adenovirus.\n",
      "\n",
      " Meteorological parameters, in particular temperature and humidity, may contribute to the observed seasonal variation in the occurrence of influenza episodes Studies from temperate and tropical climates have demonstrated that low temperature and humidity increase the risk of seasonal influenza onset in the winter Both intake groups served part of their military training during the winter season.\n",
      "\n",
      " The winter season is the preferred season for infection by HCoV-NL63, yet large year-to-year differences in frequency is apparent Furthermore, with seasonal changes (particularly the fall and winter) also comes an increased exposure to viruses like rhinovirus and influenza that commonly precipitate asthma attacks.\n",
      "\n",
      " Influenza Figure 2) Yearly hMPV activity varied from being almost absent during the winter season 2006 to 2007, to causing yearly winter outbreaks during the following years ( Figure 2, Figure 3 ) Detection of PIV3 increased during the spring and summer and HRV was detected year-round, whereas other viruses were observed with no clear seasonal distribution.\n",
      "\n",
      "\u001b[1mImmunity\u001b[0m\n",
      "\n",
      "Derivation of monoclonal anti-idiotype antibodies to an antigen-specific bovine monocl onal antibody Jerne (1974) proposed a network theory of the immune system in which idiotypes and anti-idiotypes play a central regulatory role Other suspected, but not well-documented, agents which can provoke immune complex vasculitis include streptococcal infection, herpes virus infection, equine infectious anaemia virus, and canine corona virus .\n",
      "\n",
      " We discussed the dynamic characteristics of host immune system and the imbalance of gut microbiota in 3 critical patients with COVID-2019 https://doi.org/10.1101/2020.03.03.20030650 doi: medRxiv preprint severity was closely related with host immune cell levels, and the vicious circle between immune disorder and gut microbiota imbalance may be a high risk of fatal pneumonia.\n",
      "\n",
      " CD4 + T cells play a pivotal role in regulating immune responses, orchestrating the deletion 3 7 7 and amplification of immune cells, especially CD8 + T cells Here, we focus on insights into blood immune responses to COVID-19 using 5' mRNA, TCR, and BCR V(D)J recombination analysis with 4 4 single-cell resolution.\n",
      "\n",
      " Together, our data showed an increased recruitment of immune cells to the lung in response to SARS-CoV-2 infection, and that the lung immune cell compartments differed between mild and severe COVID-19 patients.\n",
      "\n",
      " All rights reserved A well co-ordinated innate and adaptive immune response may rapidly control of the virus, while a failed immune response leads to viral spreading, cytokine storm, and high mortality .\n",
      "\n",
      " Since it will take several years to develop specific drugs to treat COVID-19, repurposing currently marketed drugs would provide valuable opportunities This high mortality rate among corona virus infected old patients is explained by the high virulence of the new virus in the absence of previous immunity and already compromised immune system among old peoples.\n",
      "\n",
      " Cytokines are produced by both innate immune cells and adaptive immune cells These damages might be attributable to indirect cytokines storm initiated by immune system and direct attack from SARS-CoV-2 itself.\n",
      "\n",
      "\u001b[1mRole of Environment\u001b[0m\n",
      "\n",
      "In addition to population mobility and human-to-human contact, environmental factors can impact droplet transmission and survival of viruses (e.g., influenza) but have not yet been examined for this novel pathogen In order to identify the sta- Table 1 : Relationship between local exponential growth, log(R proxy ), and environmental factors (i.e., absolute humidity and temperature).\n",
      "\n",
      " This investigation showed that the hospital environment frequently becomes contaminated when providing care to COVID-19 patients A lack of resources also meant that we were unable to conduct 1 3 These findings emphasize the need to ensure adequate environmental cleaning, strengthen infection prevention training, and improve infection prevention precautions among HCWs during the outbreak of COVID-19.\n",
      "\n",
      " Evidence exists that each of these routes of transmission is possible: symptomatic ( 8 ) , pre-symptomatic ( 9 ) ; asymptomatic ( 10 ) ; and environmental ( 8 ) 23.20026690 doi: medRxiv preprint cells formed in the mildly infected patients support the notion that a rapid and robust adaptive immune response is potentially critical for controlling COVID-19.\n",
      "\n",
      " The transmission rate of COVID-19 may be affected by many environmental factors Hospital waiting times were extended, which increased the time before infected individuals were identified and placed into isolation.\n",
      "\n",
      " Second, our paper complements the epidemiologic studies on the basic reproduction number of COVID-19 Second, we match the daily weather variables to the number of new cases of COVID-19 based on city name and date.\n",
      "\n",
      " Based on the epidemic of COVID-19 in mainland China, we developed data-driven SEIQR models to investigate the impact of social distancing and epicenter lockdown on the epidemic dynamics The basic reproductive number for COVID-19 was then found to be 5.6, which is substantially higher than that for SARS.\n",
      "\n",
      " In an enclosed and crowded environment, the transmission of SARS-CoV-2 was thought to significantly increase Patient 19's partner was clinical diagnosed with COVID-19, while patient 14's was not.\n",
      "\n",
      "\u001b[1mHistory\u001b[0m\n",
      "\n",
      "In the 853 confirmed COVID-19 patients, 199 cases reported their contact history, in which 172 patients (86.43%) had a history of having been to Hubei or living in Hubei, 19 patients (9.55%) had a history of contacting confirmed cases, 8 patients (4.02%) had a history of contacting people who were from Hubei ( Figure 6 ).\n",
      "\n",
      " We collected all publicly available information of confirmed COVID-19 patients in Hefei and Shenzhen, including sex, age, travel history, information of contact with patients with similar symptoms or confirmed COVID-19, symptoms related to SARS-CoV-2 infection and time when these symptoms first appeared, and time of conformation of COVID-19.\n",
      "\n",
      " We used WHO training material for the detection, prevention, response, and control of COVID-19 to develop a validated questionnaire first reported 41 COVID-19 cases, most of whom had a history of exposure to Huanan Seafood Wholesale Market Secondary outcomes included the history of epidemiology of CML patients, the clinical characteristics and outcomes of CML patients with COVID-19.\n",
      "\n",
      " Person who had a close (within 1 m) but short (< 15 min) contact with a confirmed case, or a distant (> 1 m) but prolonged contact in public settings, or any contact in private settings that does not match with the moderate/high risk of exposure criteria.\n",
      "\n",
      " Clinical details on the cancer history and COVID-19 pneumonia are summarized in Table 1 1 case had history of Wuhan contact and the other 2 cases had no clear epidemiological history (Table 1 ).\n",
      "\n",
      " Of the 106 confirmed COVID-19 cases with a clear travel or contact history, the median age was 41 years (range, 19 to 73), and 70 (66.0%) were known to be male ( Table 1 ) Particularly, 66.2% of the secondary cases were infected within three days before the symptom onset dates of the first-generation cases.\n",
      "\n",
      " Our study provided three cases as clinical-confirmed COVID-19 pneumonia because of their epidemiological history, signs, symptoms and chest CT evidence according to guidance, though they tested negative for the SARS-CoV-2 26.20028225 doi: medRxiv preprint Figure 2 : Sexual behavior history, diagnosis and treatment process of patient 14 and patient 19 with COVID-19.\n",
      "\n"
     ]
    }
   ],
   "source": [
    "class color:\n",
    "   PURPLE = '\\033[95m'\n",
    "   CYAN = '\\033[96m'\n",
    "   DARKCYAN = '\\033[36m'\n",
    "   BLUE = '\\033[94m'\n",
    "   GREEN = '\\033[92m'\n",
    "   YELLOW = '\\033[93m'\n",
    "   RED = '\\033[91m'\n",
    "   BOLD = '\\033[1m'\n",
    "   UNDERLINE = '\\033[4m'\n",
    "   END = '\\033[0m'\n",
    "\n",
    "print(color.BOLD + 'Seasonality' + color.END)\n",
    "print()\n",
    "print(season_result)\n",
    "print()\n",
    "print(color.BOLD + 'Immunity' + color.END)\n",
    "print()\n",
    "print(immunity_result)\n",
    "print()\n",
    "print(color.BOLD + 'Role of Environment' + color.END)\n",
    "print()\n",
    "print(enviro_result)\n",
    "print()\n",
    "print(color.BOLD + 'History' + color.END)\n",
    "print()\n",
    "print(history_result)\n",
    "print()"
   ]
  }
 ],
 "metadata": {
  "kernelspec": {
   "display_name": "Python 3",
   "language": "python",
   "name": "python3"
  },
  "language_info": {
   "codemirror_mode": {
    "name": "ipython",
    "version": 3
   },
   "file_extension": ".py",
   "mimetype": "text/x-python",
   "name": "python",
   "nbconvert_exporter": "python",
   "pygments_lexer": "ipython3",
   "version": "3.7.3"
  }
 },
 "nbformat": 4,
 "nbformat_minor": 2
}
