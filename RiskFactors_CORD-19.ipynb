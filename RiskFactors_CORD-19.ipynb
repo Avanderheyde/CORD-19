{
 "cells": [
  {
   "cell_type": "markdown",
   "metadata": {},
   "source": [
    "## What do we know about COVID-19 risk factors?\n",
    "##### COVID-19 Open Research Dataset Challenge (CORD-19)"
   ]
  },
  {
   "cell_type": "markdown",
   "metadata": {},
   "source": [
    "**Task Details**  \n",
    "What do we know about COVID-19 risk factors? What have we learned from epidemiological studies?  \n",
    "\n",
    "**Specifically, we want to know what the literature reports about:**  \n",
    "\n",
    "* Data on potential risks factors  \n",
    "* Smoking, pre-existing pulmonary disease  \n",
    "* Co-infections (determine whether co-existing respiratory/viral infections make the virus more transmissible or virulent) and other co-morbidities  \n",
    "* Neonates and pregnant women  \n",
    "* Socio-economic and behavioral factors to understand the economic impact of the virus and whether there were differences.  \n",
    "* Transmission dynamics of the virus, including the basic reproductive number, incubation period, serial interval, modes of transmission and environmental factors  \n",
    "* Severity of disease, including risk of fatality among symptomatic hospitalized patients, and high-risk patient groups  \n",
    "* Susceptibility of populations  \n",
    "* Public health mitigation measures that could be effective for control  "
   ]
  },
  {
   "cell_type": "code",
   "execution_count": 10,
   "metadata": {},
   "outputs": [],
   "source": [
    "import os \n",
    "import pandas as pd\n",
    "import json\n",
    "from tqdm import tqdm\n",
    "import re\n",
    "import matplotlib.pyplot as plt\n",
    "import heapq\n",
    "\n",
    "import re\n",
    "import nltk\n",
    "\n",
    "# Get a list of stopwords from nltk\n",
    "stopwords = nltk.corpus.stopwords.words(\"english\")"
   ]
  },
  {
   "cell_type": "code",
   "execution_count": 2,
   "metadata": {},
   "outputs": [
    {
     "name": "stderr",
     "output_type": "stream",
     "text": [
      "  9%|▉         | 80/885 [00:00<00:01, 796.89it/s]"
     ]
    },
    {
     "name": "stdout",
     "output_type": "stream",
     "text": [
      "biorxiV_medrxiv\n"
     ]
    },
    {
     "name": "stderr",
     "output_type": "stream",
     "text": [
      "100%|██████████| 885/885 [00:01<00:00, 869.08it/s]\n",
      "  1%|          | 60/9118 [00:00<00:15, 597.48it/s]"
     ]
    },
    {
     "name": "stdout",
     "output_type": "stream",
     "text": [
      "comm_use_subset\n"
     ]
    },
    {
     "name": "stderr",
     "output_type": "stream",
     "text": [
      "100%|██████████| 9118/9118 [00:15<00:00, 582.29it/s]\n",
      "  0%|          | 62/16959 [00:00<00:27, 611.40it/s]"
     ]
    },
    {
     "name": "stdout",
     "output_type": "stream",
     "text": [
      "custom_license\n"
     ]
    },
    {
     "name": "stderr",
     "output_type": "stream",
     "text": [
      "100%|██████████| 16959/16959 [00:30<00:00, 564.40it/s]\n",
      "  3%|▎         | 64/2353 [00:00<00:03, 637.02it/s]"
     ]
    },
    {
     "name": "stdout",
     "output_type": "stream",
     "text": [
      "noncomm_use_subset\n"
     ]
    },
    {
     "name": "stderr",
     "output_type": "stream",
     "text": [
      "100%|██████████| 2353/2353 [00:03<00:00, 624.61it/s]\n"
     ]
    }
   ],
   "source": [
    "dirs = ['biorxiV_medrxiv', 'comm_use_subset', 'custom_license', 'noncomm_use_subset']\n",
    "\n",
    "docs = []\n",
    "for d in dirs:\n",
    "    print(d)\n",
    "    for file in tqdm(os.listdir(f\"{d}/{d}\")):\n",
    "        filepath = f\"{d}/{d}/{file}\"\n",
    "        j = json.load(open(filepath,'rb'))\n",
    "        title = j['metadata']['title']\n",
    "        try: \n",
    "            abstract = j['abstract'][0]['text']\n",
    "        except:\n",
    "            abstract = ''\n",
    "            \n",
    "        fulltext = ''\n",
    "        for text in j['body_text']:\n",
    "            fulltext += text['text'] + \"\\n\\n\"\n",
    "        docs.append([title, abstract, fulltext])"
   ]
  },
  {
   "cell_type": "code",
   "execution_count": 3,
   "metadata": {},
   "outputs": [
    {
     "data": {
      "text/html": [
       "<div>\n",
       "<style scoped>\n",
       "    .dataframe tbody tr th:only-of-type {\n",
       "        vertical-align: middle;\n",
       "    }\n",
       "\n",
       "    .dataframe tbody tr th {\n",
       "        vertical-align: top;\n",
       "    }\n",
       "\n",
       "    .dataframe thead th {\n",
       "        text-align: right;\n",
       "    }\n",
       "</style>\n",
       "<table border=\"1\" class=\"dataframe\">\n",
       "  <thead>\n",
       "    <tr style=\"text-align: right;\">\n",
       "      <th></th>\n",
       "      <th>title</th>\n",
       "      <th>abstract</th>\n",
       "      <th>fulltext</th>\n",
       "    </tr>\n",
       "  </thead>\n",
       "  <tbody>\n",
       "    <tr>\n",
       "      <td>0</td>\n",
       "      <td>Multimerization of HIV-1 integrase hinges on c...</td>\n",
       "      <td>New anti-AIDS treatments must be continually d...</td>\n",
       "      <td>In the absence of a curative treatment, the hi...</td>\n",
       "    </tr>\n",
       "    <tr>\n",
       "      <td>1</td>\n",
       "      <td>Time-varying transmission dynamics of Novel Co...</td>\n",
       "      <td>Rationale: Several studies have estimated basi...</td>\n",
       "      <td>Eighteen years ago, severe acute respiratory s...</td>\n",
       "    </tr>\n",
       "    <tr>\n",
       "      <td>2</td>\n",
       "      <td>p53 is not necessary for DUX4 pathology</td>\n",
       "      <td>Summary Statement: DUX4 is thought to mediate ...</td>\n",
       "      <td>Facioscapulohumeral muscular dystrophy (FSHD) ...</td>\n",
       "    </tr>\n",
       "    <tr>\n",
       "      <td>3</td>\n",
       "      <td>Virological assessment of hospitalized cases o...</td>\n",
       "      <td>emerged in late 2019 1,2 . Initial outbreaks i...</td>\n",
       "      <td>Pharyngeal virus shedding was very high during...</td>\n",
       "    </tr>\n",
       "    <tr>\n",
       "      <td>4</td>\n",
       "      <td>Potential impact of seasonal forcing on a SARS...</td>\n",
       "      <td>A novel coronavirus (SARS-CoV-2) first detecte...</td>\n",
       "      <td>(2.2 with 90% high density interval 1.4-3.8 (R...</td>\n",
       "    </tr>\n",
       "  </tbody>\n",
       "</table>\n",
       "</div>"
      ],
      "text/plain": [
       "                                               title  \\\n",
       "0  Multimerization of HIV-1 integrase hinges on c...   \n",
       "1  Time-varying transmission dynamics of Novel Co...   \n",
       "2            p53 is not necessary for DUX4 pathology   \n",
       "3  Virological assessment of hospitalized cases o...   \n",
       "4  Potential impact of seasonal forcing on a SARS...   \n",
       "\n",
       "                                            abstract  \\\n",
       "0  New anti-AIDS treatments must be continually d...   \n",
       "1  Rationale: Several studies have estimated basi...   \n",
       "2  Summary Statement: DUX4 is thought to mediate ...   \n",
       "3  emerged in late 2019 1,2 . Initial outbreaks i...   \n",
       "4  A novel coronavirus (SARS-CoV-2) first detecte...   \n",
       "\n",
       "                                            fulltext  \n",
       "0  In the absence of a curative treatment, the hi...  \n",
       "1  Eighteen years ago, severe acute respiratory s...  \n",
       "2  Facioscapulohumeral muscular dystrophy (FSHD) ...  \n",
       "3  Pharyngeal virus shedding was very high during...  \n",
       "4  (2.2 with 90% high density interval 1.4-3.8 (R...  "
      ]
     },
     "execution_count": 3,
     "metadata": {},
     "output_type": "execute_result"
    }
   ],
   "source": [
    "df = pd.DataFrame(docs, columns = ['title', 'abstract', 'fulltext'])\n",
    "df.head()"
   ]
  },
  {
   "cell_type": "code",
   "execution_count": 180,
   "metadata": {},
   "outputs": [],
   "source": [
    "fulltexts = df['fulltext'].values"
   ]
  },
  {
   "cell_type": "code",
   "execution_count": 158,
   "metadata": {},
   "outputs": [],
   "source": [
    "def clean_text(text):\n",
    "    # Removing Square Brackets and Extra Spaces\n",
    "    text = re.sub(r'\\[[0-9]*\\]',' ', text)\n",
    "    text = re.sub(r'\\s+',' ', text)\n",
    " \n",
    "    text = re.sub(r'\\{\\{[\\s\\S]*?\\}\\}', '', text)\n",
    "\n",
    "    # Remove doi links\n",
    "    #text = re.sub(r'^https://$', '',text)\n",
    "    return text\n",
    "\n",
    "def clean_spchar_digs(text):\n",
    "    # Removing special characters and digits\n",
    "    text = re.sub('[^a-zA-Z]', ' ', text )\n",
    "    text = re.sub(r'\\s+', ' ', text)\n",
    "    \n",
    "    return text\n",
    "\n",
    "def word_freq(formatted_text):\n",
    "    #creates a dictionary of words as keys and frequency as values\n",
    "    word_frequencies = {}\n",
    "    for word in nltk.word_tokenize(formatted_text):\n",
    "        if word not in stopwords:\n",
    "            if word not in word_frequencies.keys():\n",
    "                word_frequencies[word] = 1\n",
    "            else:\n",
    "                word_frequencies[word] += 1\n",
    "\n",
    "    maximum_frequency = max(word_frequencies.values())\n",
    "    #divides the values by the maximum frequency\n",
    "    for word in word_frequencies.keys():\n",
    "        word_frequencies[word] = (word_frequencies[word]/maximum_frequency)\n",
    "    \n",
    "    return word_frequencies\n",
    "\n",
    "def sent_scores(sentence_list, word_frequencies):\n",
    "    #uses the word frequencies to score the sentences by adding up the scores\n",
    "    #of the words that make up the sentence\n",
    "    sentence_scores = {}\n",
    "    for sent in sentence_list:\n",
    "        for word in nltk.word_tokenize(sent.lower()):\n",
    "            if word in word_frequencies.keys():\n",
    "                if len(sent.split(' ')) <60: #limits sentence to less than 60 words\n",
    "                    if sent not in sentence_scores.keys():\n",
    "                        sentence_scores[sent] = word_frequencies[word]\n",
    "                    else:\n",
    "                        sentence_scores[sent] += word_frequencies[word]\n",
    "                    \n",
    "    return sentence_scores\n",
    "\n",
    "def get_summary(dirty_text):\n",
    "    text = clean_text(dirty_text)\n",
    "    formatted_text = clean_spchar_digs(text)\n",
    "\n",
    "    sentence_list = nltk.sent_tokenize(text)\n",
    "\n",
    "    word_frequencies = word_freq(formatted_text) \n",
    "    sentence_scores = sent_scores(sentence_list,word_frequencies)\n",
    "    \n",
    "    \n",
    "    summary_sentences = heapq.nlargest(7, sentence_scores, key=sentence_scores.get) #first value is number highest scoring sentences to print\n",
    "    summary = '\\n\\n '.join(summary_sentences)\n",
    "    return summary"
   ]
  },
  {
   "cell_type": "code",
   "execution_count": 182,
   "metadata": {},
   "outputs": [],
   "source": [
    "def get_summary_improved(searchlist):\n",
    "    #get summary where all you have to do is provide the words you are searching for in a list\n",
    "    covid_alias = ['CoV', 'COVID', 'Covid', 'corona virus', 'coronavirus', 'Coronavirus', 'Corona virus'] #depending on here the results w\n",
    "    desired_sents = {}\n",
    "    covid_sents = {}\n",
    "    for text in fulltexts:\n",
    "        for sentence in text.split('. '):\n",
    "            for i in searchlist:\n",
    "                if i.lower() in sentence.lower(): #using .lower changes the results dramatically\n",
    "                    if sentence not in desired_sents.keys():\n",
    "                        desired_sents[sentence] = sentence \n",
    "            for j in covid_alias:\n",
    "                if j in sentence:\n",
    "                    if sentence not in covid_sents.keys():\n",
    "                        covid_sents[sentence] = sentence\n",
    "    desired_sents = set(desired_sents.keys())\n",
    "    covid_sents = set(covid_sents.keys())\n",
    "    desired_sents = list(desired_sents.intersection(covid_sents))\n",
    "    \n",
    "    desired_text = ''\n",
    "    for x in desired_sents:\n",
    "        desired_text += ' ' + x\n",
    "    text = clean_text(desired_text)\n",
    "    formatted_text = clean_spchar_digs(text)\n",
    "\n",
    "    sentence_list = nltk.sent_tokenize(text)\n",
    "\n",
    "    word_frequencies = word_freq(formatted_text) \n",
    "    sentence_scores = sent_scores(sentence_list,word_frequencies)\n",
    "    \n",
    "    \n",
    "    summary_sentences = heapq.nlargest(7, sentence_scores, key=sentence_scores.get) #first value is number highest scoring sentences to print\n",
    "    summary = '\\n\\n '.join(summary_sentences)\n",
    "    return summary"
   ]
  },
  {
   "cell_type": "markdown",
   "metadata": {},
   "source": [
    "### Risk Factors"
   ]
  },
  {
   "cell_type": "code",
   "execution_count": 169,
   "metadata": {},
   "outputs": [
    {
     "name": "stdout",
     "output_type": "stream",
     "text": [
      "Our study results indicate that pigs and llamas are susceptible to MERS-CoV infection Primary hamster tracheobronchial epithelial cell cultures support higher virus replication in comparison to similar murine cultures, suggesting an increased susceptibility of hamster cells to SARS-CoV infection As calves are more susceptible to infection, the cows become exposed to virus repeatedly, increasing their antibody titer.\n",
      "\n",
      " It is noteworthy that OL cells of human origin and C6 cells of rat origin showed similar susceptibility to SARS-CoV infection Cats recovering from coronavirus infection will shed virus in their faeces and are a potential risk to other susceptible cats Positive binding was detected for both antigens in alpaca and dromedary (data not shown).\n",
      "\n",
      " Women were more susceptible to SARS (M: F = 0.52: 1), unlike the COVID-19 outbreak in Wuhan 14 Cats recovering from coronavirus infection will shed virus in their faeces and potentially put other susceptible cats at risk In contrast, L-SIGN homozygote individuals have a lower susceptibility to SARS infection (Chan et al.,2006) .\n",
      "\n",
      " The 12 bat cells were also tested for susceptible to HCoV-229E infection The mechanism of the MxA gene with SARS susceptibility needs to be further investigated The SARS-based SEIQR model describes the SARS virus attacks human population; any individual in the population may pass through five states: susceptible (S), exposed (E), infected (I), quarantined (Q) and recovered (R).\n",
      "\n",
      " Despite the fact that wild-type rodents are not susceptible to MERS-CoV infection , researchers have developed several models in which mice are susceptible to MERS-CoV infection 1 Obtain investigations as listed below (observe high risk infection control measures for all samples).\n",
      "\n",
      " As nosocomial infection is a key feature of SARS, precautionary measures were also taken to eliminate the risk factors leading to breakthrough infection among health care workers This mouse model is susceptible to MERS-CoV infection Small and Chi studied the effects of vaccination and isolation on the SARS epidemic and constructed the SEIRP (Susceptible-Exposed-Infective-Recovered-Persevered) model.\n",
      "\n",
      " Experts were asked which factors led to increase viral shedding in MERS-CoV infected dromedaries Accordingly, Ifnlr1 À/À mice exhibit increased susceptibility to respiratory viral infections, including influenza virus, HMPV, respiratory syncytial virus, and SARS coronavirus (Crotta et al., 2013; (Contoli et al., 2006) It is not susceptible to some common household detergents.\n"
     ]
    }
   ],
   "source": [
    "# riskfactors = ''\n",
    "# for text in fulltexts:\n",
    "#     for sentence in text.split('. '):\n",
    "#         if ('risk factors' in sentence or 'high risk' in sentence or 'susceptibility' in sentence) and ('CoV' in sentence or 'Covid' in sentence or 'COVID' in sentence or 'corona virus' in sentence):\n",
    "#             riskfactors += ' ' + sentence\n",
    "            \n",
    "# summary_rfactors = get_summary(riskfactors)\n",
    "\n",
    "slist = ['risk factors', 'high risk', 'at risk', 'susceptib']\n",
    "summary_rfactors = get_summary_improved(slist))"
   ]
  },
  {
   "cell_type": "markdown",
   "metadata": {},
   "source": [
    "### Pregnancy"
   ]
  },
  {
   "cell_type": "code",
   "execution_count": 133,
   "metadata": {},
   "outputs": [],
   "source": [
    "# preg  = ''\n",
    "# for text in fulltexts:\n",
    "#     for sentence in text.split('. '):\n",
    "#         if ('pregnant women' in sentence) and ('CoV' in sentence or 'Covid' in sentence or 'COVID' in sentence or 'corona virus' in sentence or 'coronavirus' in sentence):\n",
    "#             preg  += ' ' + sentence\n",
    "            \n",
    "# summary_preg = get_summary(preg)\n",
    "# print(summary_preg)"
   ]
  },
  {
   "cell_type": "code",
   "execution_count": 166,
   "metadata": {
    "scrolled": false
   },
   "outputs": [
    {
     "name": "stdout",
     "output_type": "stream",
     "text": [
      "We report clinical data from nine pregnant women with laboratory-confirmed COVID-19 pneumonia The largest case series of pregnant women who had SARS comes from Wong and coworkers in China Other medications, such as interferons, have been proposed for use in future SARS outbreaks, but use of these medications in pregnant women may also be of concern.\n",
      "\n",
      " The clinical outcomes among pregnant women with SARS in Hong Kong were worse than those occurring in infected women who were not pregnant Laboratory investigations on admission found lower counts of WBC, neutrophils, CRP, and ALT in pregnant women, compared to the non-pneumonia controls.\n",
      "\n",
      " Twelve pregnant women were known to be infected with SARS in Hong Kong, and most information regarding the course of SARS in pregnancy comes from this cohort To date, none of previous studies have compared maternal and neonatal outcomes of pregnant women with COVID-19 pneumonia to those without pneumonia, to investigate the adverse effects of COVID-19 infection on pregnancy.\n",
      "\n",
      " All serum samples from the 10 pregnant women and the two IVIG products were negative for IgG antibody (<1:25) to SARS-CoV 4 All nine pregnant women with COVID-19 pneumonia tested positive for severe acute respiratory syndrome coronavirus 2 (SARS-CoV-2) by use of quantitative RT-PCR (qRT-PCR) on samples from the respiratory tract.\n",
      "\n",
      " In a review of 11 pregnant women infected with MERS-CoV, 3 ten (91%) presented with adverse outcomes, six (55%) neonates required admission to the intensive care unit, and three (27%) died The basic principles of the responses in Toronto and Hong Kong included keeping healthy pregnant women away from potentially infectious SARS cases.\n",
      "\n",
      " Among the 25 pregnant women with HMPV, median gestational age at time of illness was 32 Based on data from this small group of patients, there is currently no evidence of vertical transmission in pregnant women who develop COVID-19 pneumonia in the third trimester.\n",
      "\n",
      " MERS In pregnant women affected by MERS, 7/11 (63%) were admitted to ICU and CFR was 3/11 (27%) (10-15) Second, although pregnancy is not rare, the number of cases in pregnant women in outbreaks of new or emerging diseases in any 1 location may be too small for meaningful analysis.\n"
     ]
    }
   ],
   "source": [
    "slist = ['pregnant women']\n",
    "summary_preg = get_summary_improved(slist))"
   ]
  },
  {
   "cell_type": "markdown",
   "metadata": {},
   "source": [
    "### Mitigation"
   ]
  },
  {
   "cell_type": "code",
   "execution_count": 69,
   "metadata": {},
   "outputs": [],
   "source": [
    "# miti  = ''\n",
    "# for text in fulltexts:\n",
    "#     for sentence in text.split('. '):\n",
    "#         if ('mitigation measure' in sentence) and ('CoV' in sentence or 'Covid' in sentence or 'COVID' in sentence or 'corona virus' in sentence):\n",
    "#             miti  += ' ' + sentence\n",
    "            \n",
    "# summary_miti = get_summary(miti)"
   ]
  },
  {
   "cell_type": "markdown",
   "metadata": {},
   "source": [
    "### Smoking "
   ]
  },
  {
   "cell_type": "code",
   "execution_count": 188,
   "metadata": {},
   "outputs": [],
   "source": [
    "smoke  = ''\n",
    "\n",
    "for text in fulltexts:\n",
    "    for sentence in text.split('. '):\n",
    "        if ('smoking' in sentence or 'pulmonary' in sentence) and ('CoV' in sentence or 'Covid' in sentence or 'COVID' in sentence or 'corona virus' in sentence):\n",
    "            smoke  += ' ' + sentence\n",
    "                       "
   ]
  },
  {
   "cell_type": "code",
   "execution_count": 189,
   "metadata": {
    "scrolled": false
   },
   "outputs": [],
   "source": [
    "summary_smoke = get_summary(smoke)"
   ]
  },
  {
   "cell_type": "markdown",
   "metadata": {},
   "source": [
    "### Comorbidities "
   ]
  },
  {
   "cell_type": "code",
   "execution_count": 190,
   "metadata": {},
   "outputs": [],
   "source": [
    "comor  = ''\n",
    "for text in fulltexts:\n",
    "    for sentence in text.split('. '):\n",
    "        if ('morbidities' in sentence or 'coinfection' in sentence or 'underlying' in sentence) and ('CoV' in sentence or 'Covid' in sentence or 'COVID' in sentence or 'corona virus' in sentence):\n",
    "            comor  += ' ' + sentence"
   ]
  },
  {
   "cell_type": "code",
   "execution_count": 191,
   "metadata": {},
   "outputs": [],
   "source": [
    "summary_comor = get_summary(comor)"
   ]
  },
  {
   "cell_type": "code",
   "execution_count": 178,
   "metadata": {
    "scrolled": false
   },
   "outputs": [
    {
     "name": "stdout",
     "output_type": "stream",
     "text": [
      "\u001b[1mRisk Factor Summary\u001b[0m\n",
      "\n",
      "Public bulk RNA-seq dataset analysis NA-seq profile data of 13 organs including 695 para-carcinoma normal tissues as control from public TCGA were obtained for our analysis, and Fig These findings indicated that oral cavity could be regarded as potentially high risk for 2019-nCov infectious susceptibility.\n",
      "\n",
      " Person who had a close (within 1 m) but short (< 15 min) contact with a confirmed case, or a distant (> 1 m) but prolonged contact in public settings, or any contact in private settings that does not match with the moderate/high risk of exposure criteria.\n",
      "\n",
      " Contacts are asked to measure their body temperature twice a day and check for clinical symptoms In case of occurrence of symptoms like fever, cough or dyspnoea, contacts are asked to wear a surgical mask, isolate themselves and immediately contact the emergency hotline (SAMU-centre 15) indicating that they are contacts of a confirmed COVID-19 case.\n",
      "\n",
      " Fever, cough, and dyspnoea were the most common symptoms in patients with COVID19 pneumonia, consistent with the manifestation of lower respiratory tract infections Old age, male sex, under lying comorbidities and progressive radiographic deterio ration on followup CT might be risk factors for poor prognosis in patients with COVID19 pneumonia.\n",
      "\n",
      " To the best of our knowledge, this is the first study which revealing that immunodepletion with refractory hypoxemia is a potential high risk subtype of COVID-2019 and the vicious circle between immune disorder and gut dysbiosis may be a high risk of fatal pneumonia.\n",
      "\n",
      " In our cohort, lymphocytopenia occurred in more than 70% of patients at admission, which is a main laboratory feature in COVID-19 patients 15, 17 https://doi.org/10.1101/2020.03.03.20030650 doi: medRxiv preprint severity was closely related with host immune cell levels, and the vicious circle between immune disorder and gut microbiota imbalance may be a high risk of fatal pneumonia.\n",
      "\n",
      " As discussed above, increased expression of ACE2 appears to be correlated with susceptibility to SARS-Cov and 201-nCoV infection Therefore, Gender is a risk factor for higher severity and mortality in patients with both COVID-19 and SARS independent of age and susceptibility.\n",
      "\n",
      "\u001b[1mPregnancy\u001b[0m\n",
      "\n",
      "No pediatric 2019-nCoV infections have been diagnosed so far, and infections in other vulnerable patient groups, such as transplant and other immunocompromised patients, pregnant women and those with chronic diseases (diabetes, liver, kidney, heart disease, etc.)\n",
      "\n",
      " and extremes of the body-mass index (BMI) , are yet to be reported reported the clinical characteristics of nine livebirths born to nine pregnant women with laboratory-confirmed COVID-19 via cesarean section; all nine neonates were later confirmed negative for the infection The exact prevalence of MERS-CoV antibodies and exposure of pregnant women to MERS-CoV is not known.\n",
      "\n",
      " The clinical characteristics of COVID-19 pneumonia in pregnant women were similar to those of non-pregnant adult patients with COVID-19 pneumonia Based on data from this small group of patients, there is currently no evidence of vertical transmission in pregnant women who develop COVID-19 pneumonia in the third trimester.\n",
      "\n",
      " Although there is limited experience with infection due to SARS-coronavirus in pregnant women, the experience from the Hong Kong outbreak suggests a fatality rate of 25% Because some of these infected pets were in households with pregnant mothers, there was concern about how to advise pregnant women .\n",
      "\n",
      " All serum samples from the 10 pregnant women and the two IVIG products were negative for IgG antibody (<1:25) to SARS-CoV 2, 3 12 pregnant women were infected with SARS-CoV during the 2002-03 pandemic Three (25%) women died during pregnancy.\n",
      "\n",
      " To the Editor: Two of eight persons with laboratory-confirmed severe acute respiratory syndrome-associated coronavirus (SARS-CoV) infection in the United States during 2003 were pregnant women However, too few cases have been studied to clearly define the risks and provide guidance for treating pregnant women infected with SARS CoV.\n",
      "\n",
      " Due to a gap in research on the treatment of MERS in pregnancy, there are no therapeutic options currently recommended for pregnant women For example, during the 2003 SARS outbreak, ribavirin was administered to pregnant women with severe cases of the disease, but ribavirin therapy has been documented to increase the risk of teratogenic effects in newborns .\n",
      "\n",
      "\u001b[1mMitigation\u001b[0m\n",
      "\n",
      "What has happened in China shows that quarantine, social distancing, and isolation of infected populations can contain the epidemic\n",
      "\n",
      "\u001b[1mSmoking\u001b[0m\n",
      "\n",
      "(8) When this system is overpowered by SARS-CoV-2, pulmonary inflammatory infiltrates emerge expressing the COVID-19 disease phenotype Both H7N9 infected patients and COVID-19 infected patients share similar symptoms including cough, fever, shortness of breath, sputum, and dyspnea accompanied by ARDS or later pulmonary fibrosis, some patients with severe symptoms with ARDS might benefit from novel methods including MSC-based therapy.\n",
      "\n",
      " Severe acute respiratory syndrome (SARS) is the first new infectious disease of this century caused by a novel human corona virus (SARS-CoV) that leads to pulmonary pathological features [1, 2] In more advanced disease, they may develop pulmonary hypertension, resulting in right ventricular enlargement and, as the disease progresses, right-sided heart failure (cor pulmonale).\n",
      "\n",
      " Current smoking and smoking severity were statistically significantly (P < 0.01) higher in the expired group compared to the survivors who reported that one of the independent variables that were associated with high mortality was hypoxemia among SARS patients caused by a corona virus.\n",
      "\n",
      " As the number of patients with COVID-19 continues to rise, liver injury is frequently reported as extra-pulmonary clinical feature Although the relationship between smoking history and susceptibility as well as worse outcomes in COVID-19 remains unclear, we cautioned that the prognosis of COVID-19 in patients with smoking history might be more severe.\n",
      "\n",
      " In this study, we found that there are some similarities in imaging features for patients with heart failure and COVID-19 pneumonia Different with heart failure, COVID-19 was characterized by an inflammatory pulmonary edema and alveolar damage.\n",
      "\n",
      " The combination of epidemiologic features (travel or contact history), clinical signs and symptoms, chest CT, laboratory findings and real-time RT-PCR (if available) for SARS-CoV-2 nucleic acid testing is used for the final identification of COVID-19 So pulmonary CT as an objective method will be a key point for patients without clear contact history and typical symptoms.\n",
      "\n",
      " Acute bronchitis is associated with a generalized pulmonary inflammation infection, usually caused by viruses such as rhinovirus, corona virus, respiratory syncytial virus (RSV), influenza virus, and adenoviru~.\n",
      "\n",
      "\u001b[1mComorbidities\u001b[0m\n",
      "\n",
      "8, 11 Although the risk factors of COVID-19 remain unclear, many studies reported that a significant proportion of patients had underlying conditions 8 Finally, at least 20% of COVID-19 cases had underlying diseases, and more severe cases were more likely to have comorbidities than non-severe cases.\n",
      "\n",
      " Our findings suggested that patients with comorbidities had greater disease severity compared with those without A greater number of comorbidities correlated with greater disease severity of COVID-19 As with other observational studies, our findings did not provide direct inference about the causation or reverse causation of comorbidities and the poor clinical outcomes.\n",
      "\n",
      " Data from China, South Korea, Italy, and Iran suggest that the CFR increases sharply with age and is higher in people with COVID-19 and underlying comorbidities Previous studies suggested that COVID-19 is more likely to affect older males with comorbidities 5 Thus, old age, male sex, and presence of comorbidities might be risk factors for poor prognosis.\n",
      "\n",
      " For the COVID-19 patients with diabetes, tailored therapeutic strategy and optimal goal of glucose control should be formulated based on clinical classification, coexisting comorbidities, age and other risk factors Clinicians and public health officials should maintain a low threshold for testing in patients with comorbidities that might obscure obvious signs and symptoms of COVID-19.\n",
      "\n",
      " Comorbidities were determined based on patient's self-report on admission As compared with patients without comorbidity, the HR (95%CI) was 1.79 (95%CI 1.16-2.77) among patients with at least one comorbidity and 2.59 (95%CI 1.61-4.17) among patients with two or more comorbidities (Figure 2 ).\n",
      "\n",
      " Considering their immunocompromised status, more intensive surveillance or individually tailored therapeutic approaches is needed for severe patients with COVID-19 with pre-existing conditions such as advanced liver disease, especially in older patients with other comorbidities Further research should focus on the causes of liver injury in COVID-19 and the effect of existing liver-related comorbidities on treatment and outcome of COVID-19.\n",
      "\n",
      " One possible reason is that children have fewer outdoor activities and undertake less international travel, making them less likely to contract the virus It is important to elucidate the underlying mechanism that may help to manage COVID-19 patients.\n",
      "\n"
     ]
    }
   ],
   "source": [
    "class color:\n",
    "   PURPLE = '\\033[95m'\n",
    "   CYAN = '\\033[96m'\n",
    "   DARKCYAN = '\\033[36m'\n",
    "   BLUE = '\\033[94m'\n",
    "   GREEN = '\\033[92m'\n",
    "   YELLOW = '\\033[93m'\n",
    "   RED = '\\033[91m'\n",
    "   BOLD = '\\033[1m'\n",
    "   UNDERLINE = '\\033[4m'\n",
    "   END = '\\033[0m'\n",
    "\n",
    "print(color.BOLD + 'Risk Factor Summary' + color.END)\n",
    "print()\n",
    "print(summary_rfactors)\n",
    "print()\n",
    "print(color.BOLD + 'Pregnancy' + color.END)\n",
    "print()\n",
    "print(summary_preg)\n",
    "print()\n",
    "print(color.BOLD + 'Mitigation' + color.END)\n",
    "print()\n",
    "print(summary_miti)\n",
    "print()\n",
    "print(color.BOLD + 'Smoking' + color.END)\n",
    "print()\n",
    "print(summary_smoke)\n",
    "print()\n",
    "print(color.BOLD + 'Comorbidities' + color.END)\n",
    "print()\n",
    "print(summary_comor)\n",
    "print()\n"
   ]
  }
 ],
 "metadata": {
  "kernelspec": {
   "display_name": "Python 3",
   "language": "python",
   "name": "python3"
  },
  "language_info": {
   "codemirror_mode": {
    "name": "ipython",
    "version": 3
   },
   "file_extension": ".py",
   "mimetype": "text/x-python",
   "name": "python",
   "nbconvert_exporter": "python",
   "pygments_lexer": "ipython3",
   "version": "3.7.3"
  }
 },
 "nbformat": 4,
 "nbformat_minor": 2
}
