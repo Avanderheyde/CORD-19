{
 "cells": [
  {
   "cell_type": "markdown",
   "metadata": {},
   "source": [
    "# What has been published about medical care?\n",
    "COVID-19 Open Research Dataset Challenge (CORD-19)"
   ]
  },
  {
   "cell_type": "markdown",
   "metadata": {},
   "source": [
    "**What has been published about medical care? What has been published concerning surge capacity and nursing homes? What has been published concerning efforts to inform allocation of scarce resources? What do we know about personal protective equipment? What has been published concerning alternative methods to advise on disease management? What has been published concerning processes of care? What do we know about the clinical characterization and management of the virus?**\n",
    "\n",
    "Specifically, we want to know what the literature reports about:\n",
    "\n",
    "Resources to support skilled nursing facilities and long term care facilities.\n",
    "Mobilization of surge medical staff to address shortages in overwhelmed communities\n",
    "Age-adjusted mortality data for Acute Respiratory Distress Syndrome (ARDS) with/without other organ failure – particularly for viral etiologies\n",
    "Extracorporeal membrane oxygenation (ECMO) outcomes data of COVID-19 patients\n",
    "Outcomes data for COVID-19 after mechanical ventilation adjusted for age.\n",
    "Knowledge of the frequency, manifestations, and course of extrapulmonary manifestations of COVID-19, including, but not limited to, possible cardiomyopathy and cardiac arrest.\n",
    "Application of regulatory standards (e.g., EUA, CLIA) and ability to adapt care to crisis standards of care level.\n",
    "Approaches for encouraging and facilitating the production of elastomeric respirators, which can save thousands of N95 masks.\n",
    "Best telemedicine practices, barriers and faciitators, and specific actions to remove/expand them within and across state boundaries.\n",
    "Guidance on the simple things people can do at home to take care of sick people and manage disease.\n",
    "Oral medications that might potentially work.\n",
    "Use of AI in real-time health care delivery to evaluate interventions, risk factors, and outcomes in a way that could not be done manually.\n",
    "Best practices and critical challenges and innovative solutions and technologies in hospital flow and organization, workforce protection, workforce allocation, community-based support resources, payment, and supply chain management to enhance capacity, efficiency, and outcomes.\n",
    "Efforts to define the natural history of disease to inform clinical care, public health interventions, infection prevention control, transmission, and clinical trials\n",
    "Efforts to develop a core clinical outcome set to maximize usability of data across a range of trials\n",
    "Efforts to determine adjunctive and supportive interventions that can improve the clinical outcomes of infected patients (e.g. steroids, high flow oxygen)"
   ]
  },
  {
   "cell_type": "code",
   "execution_count": null,
   "metadata": {},
   "outputs": [],
   "source": []
  }
 ],
 "metadata": {
  "kernelspec": {
   "display_name": "Python 3",
   "language": "python",
   "name": "python3"
  },
  "language_info": {
   "codemirror_mode": {
    "name": "ipython",
    "version": 3
   },
   "file_extension": ".py",
   "mimetype": "text/x-python",
   "name": "python",
   "nbconvert_exporter": "python",
   "pygments_lexer": "ipython3",
   "version": "3.7.3"
  }
 },
 "nbformat": 4,
 "nbformat_minor": 2
}
