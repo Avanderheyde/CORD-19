{
 "cells": [
  {
   "cell_type": "markdown",
   "metadata": {},
   "source": [
    "# What do we know about virus genetics, origin, and evolution?\n",
    " What do we know about virus genetics, origin, and evolution? What do we know about the virus origin and management measures at the human-animal interface?"
   ]
  },
  {
   "cell_type": "markdown",
   "metadata": {},
   "source": [
    "**Specifically, we want to know what the literature reports about:**\n",
    "\n",
    "* Real-time tracking of whole genomes and a mechanism for coordinating the rapid dissemination of that information to inform the development of diagnostics and therapeutics and to track variations of the virus over time.\n",
    "* Access to geographic and temporal diverse sample sets to understand geographic distribution and genomic differences, and determine whether there is more than one strain in circulation. Multi-lateral agreements such as the Nagoya Protocol could be leveraged.\n",
    "* Evidence that livestock could be infected (e.g., field surveillance, genetic sequencing, receptor binding) and serve as a reservoir after the epidemic appears to be over.\n",
    "* Evidence of whether farmers are infected, and whether farmers could have played a role in the origin.\n",
    "* Surveillance of mixed wildlife- livestock farms for SARS-CoV-2 and other coronaviruses in Southeast Asia.\n",
    "* Experimental infections to test host range for this pathogen.\n",
    "* Animal host(s) and any evidence of continued spill-over to humans\n",
    "* Socioeconomic and behavioral risk factors for this spill-over\n",
    "* Sustainable risk reduction strategies"
   ]
  },
  {
   "cell_type": "code",
   "execution_count": 1,
   "metadata": {},
   "outputs": [],
   "source": [
    "import os \n",
    "import pandas as pd\n",
    "import json\n",
    "from tqdm import tqdm\n",
    "import re\n",
    "import matplotlib.pyplot as plt\n",
    "import heapq\n",
    "\n",
    "import re\n",
    "import nltk"
   ]
  },
  {
   "cell_type": "code",
   "execution_count": 2,
   "metadata": {},
   "outputs": [
    {
     "name": "stderr",
     "output_type": "stream",
     "text": [
      "  9%|▊         | 76/885 [00:00<00:01, 758.59it/s]"
     ]
    },
    {
     "name": "stdout",
     "output_type": "stream",
     "text": [
      "biorxiV_medrxiv\n"
     ]
    },
    {
     "name": "stderr",
     "output_type": "stream",
     "text": [
      "100%|██████████| 885/885 [00:01<00:00, 837.79it/s]\n",
      "  1%|          | 65/9118 [00:00<00:14, 640.68it/s]"
     ]
    },
    {
     "name": "stdout",
     "output_type": "stream",
     "text": [
      "comm_use_subset\n"
     ]
    },
    {
     "name": "stderr",
     "output_type": "stream",
     "text": [
      "100%|██████████| 9118/9118 [00:16<00:00, 565.89it/s]\n",
      "  0%|          | 0/16959 [00:00<?, ?it/s]"
     ]
    },
    {
     "name": "stdout",
     "output_type": "stream",
     "text": [
      "custom_license\n"
     ]
    },
    {
     "name": "stderr",
     "output_type": "stream",
     "text": [
      "100%|██████████| 16959/16959 [00:28<00:00, 590.25it/s]\n",
      "  3%|▎         | 81/2353 [00:00<00:02, 804.55it/s]"
     ]
    },
    {
     "name": "stdout",
     "output_type": "stream",
     "text": [
      "noncomm_use_subset\n"
     ]
    },
    {
     "name": "stderr",
     "output_type": "stream",
     "text": [
      "100%|██████████| 2353/2353 [00:03<00:00, 678.31it/s]\n"
     ]
    }
   ],
   "source": [
    "# Get a list of stopwords from nltk\n",
    "stopwords = nltk.corpus.stopwords.words(\"english\")\n",
    "\n",
    "dirs = ['biorxiV_medrxiv', 'comm_use_subset', 'custom_license', 'noncomm_use_subset']\n",
    "\n",
    "docs = []\n",
    "for d in dirs:\n",
    "    print(d)\n",
    "    for file in tqdm(os.listdir(f\"{d}/{d}\")):\n",
    "        filepath = f\"{d}/{d}/{file}\"\n",
    "        j = json.load(open(filepath,'rb'))\n",
    "        title = j['metadata']['title']\n",
    "        try: \n",
    "            abstract = j['abstract'][0]['text']\n",
    "        except:\n",
    "            abstract = ''\n",
    "            \n",
    "        fulltext = ''\n",
    "        for text in j['body_text']:\n",
    "            fulltext += text['text'] + \"\\n\\n\"\n",
    "        docs.append([title, abstract, fulltext])"
   ]
  },
  {
   "cell_type": "code",
   "execution_count": 5,
   "metadata": {},
   "outputs": [],
   "source": [
    "df = pd.DataFrame(docs, columns = ['title', 'abstract', 'fulltext'])\n",
    "fulltexts = df['fulltext'].values"
   ]
  },
  {
   "cell_type": "code",
   "execution_count": 10,
   "metadata": {},
   "outputs": [],
   "source": [
    "def clean_text(text):\n",
    "    # Removing Square Brackets and Extra Spaces\n",
    "    text = re.sub(r'\\[[0-9]*\\]',' ', text)\n",
    "    text = re.sub(r'\\s+',' ', text)\n",
    " \n",
    "    text = re.sub(r'\\{\\{[\\s\\S]*?\\}\\}', '', text)\n",
    "\n",
    "    # Remove doi links\n",
    "    #text = re.sub(r'^https://$', '',text)\n",
    "    return text\n",
    "\n",
    "def clean_spchar_digs(text):\n",
    "    # Removing special characters and digits\n",
    "    text = re.sub('[^a-zA-Z]', ' ', text )\n",
    "    text = re.sub(r'\\s+', ' ', text)\n",
    "    \n",
    "    return text\n",
    "\n",
    "def word_freq(formatted_text):\n",
    "    #creates a dictionary of words as keys and frequency as values\n",
    "    word_frequencies = {}\n",
    "    for word in nltk.word_tokenize(formatted_text):\n",
    "        if word not in stopwords:\n",
    "            if word not in word_frequencies.keys():\n",
    "                word_frequencies[word] = 1\n",
    "            else:\n",
    "                word_frequencies[word] += 1\n",
    "\n",
    "    maximum_frequency = max(word_frequencies.values())\n",
    "    #divides the values by the maximum frequency\n",
    "    for word in word_frequencies.keys():\n",
    "        word_frequencies[word] = (word_frequencies[word]/maximum_frequency)\n",
    "    \n",
    "    return word_frequencies\n",
    "\n",
    "def sent_scores(sentence_list, word_frequencies):\n",
    "    #uses the word frequencies to score the sentences by adding up the scores\n",
    "    #of the words that make up the sentence\n",
    "    sentence_scores = {}\n",
    "    for sent in sentence_list:\n",
    "        for word in nltk.word_tokenize(sent.lower()):\n",
    "            if word in word_frequencies.keys():\n",
    "                if len(sent.split(' ')) <60: #limits sentence to less than 60 words\n",
    "                    if sent not in sentence_scores.keys():\n",
    "                        sentence_scores[sent] = word_frequencies[word]\n",
    "                    else:\n",
    "                        sentence_scores[sent] += word_frequencies[word]\n",
    "                    \n",
    "    return sentence_scores\n",
    "\n",
    "def get_summary(dirty_text):\n",
    "    text = clean_text(dirty_text)\n",
    "    formatted_text = clean_spchar_digs(text)\n",
    "\n",
    "    sentence_list = nltk.sent_tokenize(text)\n",
    "\n",
    "    word_frequencies = word_freq(formatted_text) \n",
    "    sentence_scores = sent_scores(sentence_list,word_frequencies)\n",
    "    \n",
    "    \n",
    "    summary_sentences = heapq.nlargest(7, sentence_scores, key=sentence_scores.get) #first value is number highest scoring sentences to print\n",
    "    summary = '\\n\\n '.join(summary_sentences)\n",
    "    return summary\n",
    "\n",
    "def get_improved_summary(searchlist):\n",
    "    #get summary where all you have to do is provide the words you are searching for in a list\n",
    "    covid_alias = ['CoV', 'COVID', 'Covid', 'corona virus', 'coronavirus', 'Coronavirus', 'Corona virus'] #depending on here the results w\n",
    "    desired_sents = {}\n",
    "    covid_sents = {}\n",
    "    for text in fulltexts:\n",
    "        for sentence in text.split('. '):\n",
    "            for i in searchlist:\n",
    "                if i.lower() in sentence.lower(): #using .lower changes the results dramatically\n",
    "                    if sentence not in desired_sents.keys():\n",
    "                        desired_sents[sentence] = sentence \n",
    "            for j in covid_alias:\n",
    "                if j in sentence:\n",
    "                    if sentence not in covid_sents.keys():\n",
    "                        covid_sents[sentence] = sentence\n",
    "    desired_sents = set(desired_sents.keys())\n",
    "    covid_sents = set(covid_sents.keys())\n",
    "    desired_sents = list(desired_sents.intersection(covid_sents))\n",
    "    desired_text = ''\n",
    "    for x in desired_sents:\n",
    "        desired_text += ' ' + x\n",
    "    text = clean_text(desired_text)\n",
    "    formatted_text = clean_spchar_digs(text)\n",
    "\n",
    "    sentence_list = nltk.sent_tokenize(text)\n",
    "\n",
    "    word_frequencies = word_freq(formatted_text) \n",
    "    sentence_scores = sent_scores(sentence_list,word_frequencies)\n",
    "    \n",
    "    \n",
    "    summary_sentences = heapq.nlargest(7, sentence_scores, key=sentence_scores.get) #first value is number highest scoring sentences to print\n",
    "    summary = '\\n\\n '.join(summary_sentences)\n",
    "    return summary   "
   ]
  },
  {
   "cell_type": "markdown",
   "metadata": {},
   "source": [
    "### Livestock"
   ]
  },
  {
   "cell_type": "code",
   "execution_count": 22,
   "metadata": {
    "scrolled": false
   },
   "outputs": [
    {
     "name": "stdout",
     "output_type": "stream",
     "text": [
      "Although three animals were identified as susceptible to SARS-CoV infection, the larger sale volume of civets in comparison to other animals in the market made them the target animals of subsequent surveillance studies Thus, even highly susceptible infant mice do not easily favor infection with non-mouse coronaviruses.\n",
      "\n",
      " The causative agent has now been determined to be a novel coronavirus (SARS-CoV) that is genetically distinct from any previously identified coronavirus known to cause disease in animals or humans [1, These studies indicate that an enormous, previously unrecognized reservoir for coronaviruses exists among animals, which is not unlike the reservoir that exists for influenza viruses in animals.\n",
      "\n",
      " The 12 bat cells were also tested for susceptible to HCoV-229E infection Interestingly, among characterization of many respiratory virus infections such as various influenza strains , respiratory syncytial virus , Nipah virus , and coronaviruses , other viruses have also recently been tested in ferrets including hepatitis E , and three species of ebolavirus .\n",
      "\n",
      " The potential for emergence of zoonotic viruses into the human population depends on the prevalence of the virus in its host species, host range mutations within viral quasispecies, and the degree to which the reservoir host interacts with humans Peridomestic animals may serve as intermediate hosts, facilitating the recombination of the virus, and serving as amplification hosts.\n",
      "\n",
      " A study limitation is that precise events of individuallevel human exposure to infected animals cannot be ascertained because different animals were infected at different times over the 1-month period These findings suggest these animals' possible relevance (e.g., as intermediate hosts) for human acquisition of MERS-CoV.\n",
      "\n",
      " The coronaviruses of animals produce serious illnesses in their respective species CoVs are widespread among birds and animals The presence of natural reservoir also suggests that there is a risk for reintroduction of SARS-CoV-like virus from animals into humans The number and location of these accessory ORFs vary between the CoV species [2, 3] .\n",
      "\n",
      " Coronaviruses infect a wide range of mammalian hosts to produce a variety of disease outcomes including respiratory disease, enteritis and encephalitis These domestic animals may be a large reservoir for coronavirus, although the contribution of domestic animals to the epidemiology of coronavirus in carnivore species in the Serengeti is currently unknown.\n"
     ]
    }
   ],
   "source": [
    "slist = ['livestock', 'animals', 'hosts', 'spillover', 'suscept']\n",
    "livestock_sum = get_improved_summary(slist)\n",
    "print(livestock_sum)"
   ]
  },
  {
   "cell_type": "markdown",
   "metadata": {},
   "source": [
    "### Genetic sequencing recptor binding"
   ]
  },
  {
   "cell_type": "code",
   "execution_count": 9,
   "metadata": {
    "scrolled": false
   },
   "outputs": [
    {
     "name": "stdout",
     "output_type": "stream",
     "text": [
      "Considerable evidence has proved that recombinant receptor binding domain (rRBD)-based subunit vaccine is a promising candidate vaccine against the SARS-CoV infection The viral receptor binding domain (RBD) of the S protein, located between residue 318 and 510 of the S1 domain , interacts with angiotensin-converting enzyme 2 (ACE2), which has been identified as the SARS-CoV receptor .\n",
      "\n",
      " Coronavirus infection starts with receptor binding via the S protein (Figure 1) S1-NTD -S1 subunit N terminal domain is shown in purple; S1-CTD -S1 subunit C terminal domain is shown in red; RBD -PDCoV receptor binding domain is shown in yellow; TMD -trans-membrane domain is shown in orange.\n",
      "\n",
      " The S protein of coronaviruses is usually responsible for receptor binding and is solely responsible for membrane fusion for cellular entry The discovery of HCoVs, their receptor usage, cell tropism and receptor binding domain (RBD) is summarized in Table 1 .\n",
      "\n",
      "  The three dimensional structural analysis revealed that this receptor has α/β-hydrolase domain and a β-propeller domain with eight blades that helped in the binding of receptor binding domain in MERS-CoV (Raj et al., 2014) Therefore, it is necessary to determine which virus protein is the major antigen responsible for eliciting neutralizing antibodies.\n",
      "\n",
      " In the context of a virus particle, we generated MLV-pseudovirions containing either WT or mutant S proteins Importantly, syncytia formation/membrane fusion and viral replication can be specifically inhibited by an anti-ACE-2 an-tibody or a fragment containing the receptor binding domain or antibodies recognizing the receptor binding domain (Sui et al., 2004; Chou et al., 2004) .\n",
      "\n",
      " As a membrane-anchored structural protein of MERS-CoV, spike (S) protein mediates viral receptor binding and entry (Belouzard et al Both are able to function as receptor binding domains (RBDs) and bind variety of proteins and sugars.\n",
      "\n",
      " Following receptor binding via S1, the CoV S2 functions to mediate fusion between the viral and the cellular membranes Owing to its function of receptor binding, the variation in S protein defines in large part the tissue tropism and host range of different coronaviruses .\n"
     ]
    }
   ],
   "source": [
    "slist = ['field surveillance', 'genetic sequencing', 'receptor binding']\n",
    "livestock_sum = get_improved_summary(slist)\n",
    "print(livestock_sum)"
   ]
  },
  {
   "cell_type": "markdown",
   "metadata": {},
   "source": [
    "### Strains"
   ]
  },
  {
   "cell_type": "code",
   "execution_count": 13,
   "metadata": {},
   "outputs": [
    {
     "name": "stdout",
     "output_type": "stream",
     "text": [
      "As shown in Additional file 1, thirty-two FCoV strains, seven canine coronavirus (CCoV) strains, four transmissible gastroenteritis coronavirus (TGEV) strains, a porcine respiratory coronavirus (PRCV) strain and a Mink coronavirus (MiCoV) strain were used for comparative genome analysis Therefore, our results clearly demonstrate the usefulness of the sequence variation information as molecular fingerprint in ''tagging'' SARS-CoV viral strains.\n",
      "\n",
      " Feline coronavirus strains including type I feline infectious peritonitis virus (FIPV) , type II FIPV WSU 79-1146, and type II feline enteric coronavirus (FECV) WSU 79-1683 were kindly provided by Dr However, there is no serotypic discrimination between strains because the ability of human serum to neutralize diverse MERS-CoV strains, including the EMC/2012 strain, does not differ (14) .\n",
      "\n",
      " Intense coronavirus surveillance is ongoing in China since the SARS-CoV outbreak, and it was demonstrated that co-roosting can maintain all strains with the necessary components to make SARS C-Z!43 strain; RS, Long strain; influenza types A and B, strains A/PR/X/34 and BILEEI40; human coronavirus, strains 229E and OC-43; and poliovirus types I ?\n",
      "\n",
      " Diverse strains of coronavirus have been described in bats According to the phylogenetic analysis result, the CCoV-I strains segregate with either Elmo/02 (2 strains, 84.9-87.2% nt identity) or 23/03 (74.1-92.8% nt identity), forming two unique clades of CCoV-I viruses Disease pathogenesis differs according to the system involved, as well as the strain of the virus .\n",
      "\n",
      " In vitro-transcribed ORF5 genes of strains 259/03 (Pratelli et al., 2003a) and 45/93 (Buonavoglia et al., 1994) were used as standard RNAs for the CCoV type I-and type IIspecific fluorogenic assays, respectively To determine the genetic relationship of the first imported strain ChinaGD01 and other global MERS-CoV strains, the complete genome of the ChinaGD01 strain was sequenced and analyzed.\n",
      "\n",
      " Section of a gene feature report comparing SARS coronavirus strains BJ03 and BJ04 Figure 2 Section of a gene feature report comparing SARS coronavirus strains BJ03 and BJ04 The structural gene sequences and other coronavirus strains sequence were subjected to phylogenetic analysis using the neighbor-joining method in MEGA software, version 6.06.\n",
      "\n",
      " The HCoV-HKU1 pol gene sequences shared 95.8-99.6% nucleotide identity and 90.7-99.3% amino acid identity with HCoV-HKU1 strain N15 (No Reference strains of other bovine viruses were obtained from NADC: bovine respiratory syncycial virus (BRSV), parain¯uenza type 3 (PI3), infectious bovine rhinotracheitus virus (IBR), bovine rotavirus, bovine coronavirus, bluetongue virus (BT) and bovine cytomegalovirus (BCMV).\n"
     ]
    }
   ],
   "source": [
    "slist = ['strain']\n",
    "livestock_sum = get_improved_summary(slist)\n",
    "print(livestock_sum)"
   ]
  }
 ],
 "metadata": {
  "kernelspec": {
   "display_name": "Python 3",
   "language": "python",
   "name": "python3"
  },
  "language_info": {
   "codemirror_mode": {
    "name": "ipython",
    "version": 3
   },
   "file_extension": ".py",
   "mimetype": "text/x-python",
   "name": "python",
   "nbconvert_exporter": "python",
   "pygments_lexer": "ipython3",
   "version": "3.7.3"
  }
 },
 "nbformat": 4,
 "nbformat_minor": 2
}
