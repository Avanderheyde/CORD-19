{
 "cells": [
  {
   "cell_type": "markdown",
   "metadata": {},
   "source": [
    "# COVID-19 Open Research Dataset Challenge\n",
    "\n",
    "https://www.youtube.com/watch?v=S6GVXk6kbcs"
   ]
  },
  {
   "cell_type": "markdown",
   "metadata": {},
   "source": [
    "##### Import Libraries"
   ]
  },
  {
   "cell_type": "code",
   "execution_count": 6,
   "metadata": {
    "collapsed": true
   },
   "outputs": [
    {
     "name": "stdout",
     "output_type": "stream",
     "text": [
      "Collecting rank_bm25\n",
      "  Downloading https://files.pythonhosted.org/packages/d2/e4/38d03d6d5e2deae8d2838b81d6ba2742475ced42045f5c46aeb00c5fb79c/rank_bm25-0.2.tar.gz\n",
      "Requirement already satisfied: nltk in /Users/Alderik/anaconda3/lib/python3.7/site-packages (3.4.5)\n",
      "Requirement already satisfied: numpy in /Users/Alderik/anaconda3/lib/python3.7/site-packages (from rank_bm25) (1.17.2)\n",
      "Requirement already satisfied: six in /Users/Alderik/anaconda3/lib/python3.7/site-packages (from nltk) (1.12.0)\n",
      "Building wheels for collected packages: rank-bm25\n",
      "  Building wheel for rank-bm25 (setup.py) ... \u001b[?25ldone\n",
      "\u001b[?25h  Created wheel for rank-bm25: filename=rank_bm25-0.2-cp37-none-any.whl size=4163 sha256=2657ddad49320196843f207152609bd14baef5631c0deade72f1bf844333f1cd\n",
      "  Stored in directory: /Users/alderik/Library/Caches/pip/wheels/6f/0c/1f/78945dd6a5478bbcdb50d73ac96ae5af2ffcdfcd374fd9b1bf\n",
      "Successfully built rank-bm25\n",
      "Installing collected packages: rank-bm25\n",
      "Successfully installed rank-bm25-0.2\n"
     ]
    }
   ],
   "source": [
    "!pip install rank_bm25 nltk"
   ]
  },
  {
   "cell_type": "code",
   "execution_count": 65,
   "metadata": {},
   "outputs": [],
   "source": [
    "import os \n",
    "import pandas as pd\n",
    "import numpy as np\n",
    "import json\n",
    "from tqdm import tqdm\n",
    "import re\n",
    "import matplotlib.pyplot as plt\n",
    "import heapq\n",
    "from rank_bm25 import BM25Okapi\n",
    "import nltk\n",
    "from nltk.corpus import stopwords\n",
    "from requests.exceptions import HTTPError, ConnectionError\n",
    "from ipywidgets import interact\n",
    "import ipywidgets as widgets"
   ]
  },
  {
   "cell_type": "code",
   "execution_count": 1,
   "metadata": {
    "scrolled": true
   },
   "outputs": [
    {
     "data": {
      "application/vnd.jupyter.widget-view+json": {
       "model_id": "9bc3a51a95fb4502bb79bd1910c8c746",
       "version_major": 2,
       "version_minor": 0
      },
      "text/plain": [
       "interactive(children=(IntSlider(value=200, description='ColumnWidth', max=400, min=50, step=50), IntSlider(val…"
      ]
     },
     "metadata": {},
     "output_type": "display_data"
    }
   ],
   "source": [
    "#https://www.kaggle.com/dgunning/browsing-research-papers-with-a-bm25-search-engine?scriptVersionId=31027514\n",
    "\n",
    "from ipywidgets import interact\n",
    "import ipywidgets as widgets\n",
    "import pandas as pd\n",
    "\n",
    "def set_column_width(ColumnWidth, MaxRows):\n",
    "    pd.options.display.max_colwidth = ColumnWidth\n",
    "    pd.options.display.max_rows = MaxRows\n",
    "    print('Set pandas dataframe column width to', ColumnWidth, 'and max rows to', MaxRows)\n",
    "    \n",
    "interact(set_column_width, \n",
    "         ColumnWidth=widgets.IntSlider(min=50, max=400, step=50, value=200),\n",
    "         MaxRows=widgets.IntSlider(min=50, max=500, step=100, value=100));"
   ]
  },
  {
   "cell_type": "markdown",
   "metadata": {},
   "source": [
    "##### Import Data"
   ]
  },
  {
   "cell_type": "code",
   "execution_count": 87,
   "metadata": {},
   "outputs": [],
   "source": [
    "#Import metadata\n",
    "metadata = pd.read_csv(\"metadata.csv\", dtype={'Microsoft Academic Paper ID': str,\n",
    "                                      'pubmed_id': str}) \n",
    "metadata = metadata.dropna(subset=['sha'])\n",
    "metadata.rename(columns={\"sha\": \"paper_id\"}, inplace = True)\n",
    "metadata.rename(columns={\"source_x\": \"source\"}, inplace = True)\n",
    "metadata= metadata.drop(columns = ['title','abstract'])"
   ]
  },
  {
   "cell_type": "code",
   "execution_count": 88,
   "metadata": {},
   "outputs": [],
   "source": [
    "for i in metadata['doi']:\n",
    "    url = doi_url(str(i))\n",
    "    metadata.loc[metadata['doi'] == i, 'doi'] = url"
   ]
  },
  {
   "cell_type": "code",
   "execution_count": 9,
   "metadata": {},
   "outputs": [
    {
     "name": "stderr",
     "output_type": "stream",
     "text": [
      "  5%|▍         | 43/885 [00:00<00:01, 427.76it/s]"
     ]
    },
    {
     "name": "stdout",
     "output_type": "stream",
     "text": [
      "biorxiV_medrxiv\n"
     ]
    },
    {
     "name": "stderr",
     "output_type": "stream",
     "text": [
      "100%|██████████| 885/885 [00:01<00:00, 718.70it/s]\n",
      "  1%|          | 60/9118 [00:00<00:15, 592.93it/s]"
     ]
    },
    {
     "name": "stdout",
     "output_type": "stream",
     "text": [
      "comm_use_subset\n"
     ]
    },
    {
     "name": "stderr",
     "output_type": "stream",
     "text": [
      "100%|██████████| 9118/9118 [00:16<00:00, 553.10it/s]\n",
      "  0%|          | 0/16959 [00:00<?, ?it/s]"
     ]
    },
    {
     "name": "stdout",
     "output_type": "stream",
     "text": [
      "custom_license\n"
     ]
    },
    {
     "name": "stderr",
     "output_type": "stream",
     "text": [
      "100%|██████████| 16959/16959 [00:29<00:00, 568.21it/s]\n",
      "  3%|▎         | 74/2353 [00:00<00:03, 736.15it/s]"
     ]
    },
    {
     "name": "stdout",
     "output_type": "stream",
     "text": [
      "noncomm_use_subset\n"
     ]
    },
    {
     "name": "stderr",
     "output_type": "stream",
     "text": [
      "100%|██████████| 2353/2353 [00:03<00:00, 668.94it/s]\n"
     ]
    }
   ],
   "source": [
    "#import text from papers json objects\n",
    "#https://www.youtube.com/watch?v=S6GVXk6kbcs\n",
    "dirs = ['biorxiV_medrxiv', 'comm_use_subset', 'custom_license', 'noncomm_use_subset']\n",
    "\n",
    "docs = []\n",
    "for d in dirs:\n",
    "    print(d)\n",
    "    for file in tqdm(os.listdir(f\"{d}/{d}\")):\n",
    "        filepath = f\"{d}/{d}/{file}\"\n",
    "        j = json.load(open(filepath,'rb'))\n",
    "        title = j['metadata']['title']\n",
    "        paper_id = j['paper_id']\n",
    "        try: \n",
    "            abstract = j['abstract'][0]['text']\n",
    "        except:\n",
    "            abstract = ''\n",
    "            \n",
    "        fulltext = ''\n",
    "        for text in j['body_text']:\n",
    "            fulltext += text['text']\n",
    "        docs.append([paper_id,title, abstract, fulltext])\n"
   ]
  },
  {
   "cell_type": "code",
   "execution_count": 95,
   "metadata": {
    "scrolled": true
   },
   "outputs": [],
   "source": [
    "df = pd.DataFrame(docs, columns = ['paper_id','title', 'abstract', 'fulltext'])"
   ]
  },
  {
   "cell_type": "code",
   "execution_count": 96,
   "metadata": {
    "scrolled": false
   },
   "outputs": [],
   "source": [
    "#Join metadata with paper text on paper_id\n",
    "allpapers_df = pd.merge(df, metadata, on=\"paper_id\")\n",
    "allpapers_df['journal'] = allpapers_df['journal'].astype(str)\n",
    "peer_reviewed = allpapers_df['journal'] !='nan'\n",
    "#Make column to say whether a paper was peer reviewed\n",
    "#basically anything from bioRxiv/medRxiv subset \n",
    "allpapers_df.insert(12, \"peer_reviewed\", peer_reviewed, True) "
   ]
  },
  {
   "cell_type": "code",
   "execution_count": 97,
   "metadata": {},
   "outputs": [],
   "source": [
    "#Made data frame for all journal papers\n",
    "journals_df = allpapers_df[allpapers_df['journal']!='nan']\n",
    "#dataframe for unpublished papers\n",
    "unpublished_df = allpapers_df[allpapers_df['journal']=='nan']"
   ]
  },
  {
   "cell_type": "code",
   "execution_count": 98,
   "metadata": {},
   "outputs": [
    {
     "name": "stdout",
     "output_type": "stream",
     "text": [
      "Total number of papers including journals 27690 \n",
      "\n",
      "Total number of journals 26796 \n",
      "\n",
      "Number of unpublsihed papers 894\n"
     ]
    }
   ],
   "source": [
    "print(f'Total number of papers including journals {len(allpapers_df)} \\n\\nTotal number of journals {len(journals_df)} \\n\\nNumber of unpublsihed papers {len(unpublished_df)}')"
   ]
  },
  {
   "cell_type": "markdown",
   "metadata": {},
   "source": [
    "##### Python Object Oriented Programming\n",
    "https://www.kaggle.com/dgunning/browsing-research-papers-with-a-bm25-search-engine?scriptVersionId=31027514"
   ]
  },
  {
   "cell_type": "code",
   "execution_count": 90,
   "metadata": {},
   "outputs": [],
   "source": [
    "def get(url, timeout=6):\n",
    "    try:\n",
    "        r = requests.get(url, timeout=timeout)\n",
    "        return r.text\n",
    "    except ConnectionError:\n",
    "        print(f'Cannot connect to {url}')\n",
    "        print(f'Remember to turn Internet ON in the Kaggle notebook settings')\n",
    "    except HTTPError:\n",
    "        print('Got http error', r.status, r.text)\n",
    "        \n",
    "# Convert the doi to a url\n",
    "def doi_url(d): \n",
    "    return f'http://{d}' if d.startswith('doi.org') else f'http://doi.org/{d}'\n",
    "\n",
    "class ResearchPapers:\n",
    "    \n",
    "    def __init__(self, metadata: pd.DataFrame):\n",
    "        self.metadata = metadata\n",
    "        \n",
    "    def __getitem__(self, item):\n",
    "        return Paper(self.metadata.iloc[item])\n",
    "    \n",
    "    def __len__(self):\n",
    "        return len(self.metadata)\n",
    "    \n",
    "    def head(self, n):\n",
    "        return ResearchPapers(self.metadata.head(n).copy().reset_index(drop=True))\n",
    "    \n",
    "    def tail(self, n):\n",
    "        return ResearchPapers(self.metadata.tail(n).copy().reset_index(drop=True))\n",
    "    \n",
    "    def abstracts(self):\n",
    "        return self.metadata.abstract\n",
    "    \n",
    "    def titles(self):\n",
    "        return self.metadata.title.dropna()\n",
    "    \n",
    "    #i added\n",
    "    def texts(self):\n",
    "        return self.metadata.fulltext\n",
    "        \n",
    "    def _repr_html_(self):\n",
    "        return self.metadata._repr_html_()\n",
    "    \n",
    "    \n",
    "class Paper:\n",
    "    \n",
    "    '''\n",
    "    A single research paper\n",
    "    '''\n",
    "    def __init__(self, item):\n",
    "        self.paper = item.to_frame().fillna('')\n",
    "        self.paper.columns = ['Value']\n",
    "    \n",
    "    def text(self):\n",
    "        return self.paper.loc['fulltext'].values[0]\n",
    "    \n",
    "    def abstract(self):\n",
    "        return self.paper.loc['abstract'].values[0]\n",
    "    \n",
    "    def title(self):\n",
    "        return self.paper.loc['title'].values[0]\n",
    "    \n",
    "    def doi(self):\n",
    "        return self.paper.loc['doi'].values[0]\n",
    "    \n",
    "    def peer_reviewed(self):\n",
    "        return self.paper.loc['peer_reviewed'].values[0]\n",
    "    \n",
    "    def journal(self):\n",
    "        return self.paper.loc['journal'].values[0]\n",
    "    \n",
    "    def authors(self, split=False):\n",
    "        '''\n",
    "        Get a list of authors\n",
    "        '''\n",
    "        authors = self.paper.loc['authors'].values[0]\n",
    "        if not authors:\n",
    "            return []\n",
    "        if not split:\n",
    "            return authors\n",
    "        if authors.startswith('['):\n",
    "            authors = authors.lstrip('[').rstrip(']')\n",
    "            return [a.strip().replace(\"\\'\", \"\") for a in authors.split(\"\\',\")]\n",
    "        \n",
    "        # Todo: Handle cases where author names are separated by \",\"\n",
    "        return [a.strip() for a in authors.split(';')]\n",
    "        \n",
    "    def _repr_html_(self):\n",
    "        return self.paper._repr_html_()\n",
    "    \n",
    "papers = ResearchPapers(allpapers_df)"
   ]
  },
  {
   "cell_type": "markdown",
   "metadata": {},
   "source": [
    "#### BM25 Query\n",
    "https://pypi.org/project/rank-bm25/  \n",
    "http://www.cs.otago.ac.nz/homepages/andrew/papers/2014-2.pdf"
   ]
  },
  {
   "cell_type": "code",
   "execution_count": 122,
   "metadata": {
    "scrolled": false
   },
   "outputs": [],
   "source": [
    "english_stopwords = list(set(stopwords.words('english')))\n",
    "\n",
    "def strip_characters(text):\n",
    "    t = re.sub('\\(|\\)|:|,|;|\\.|’|”|“|\\?|%|>|<', '', text)\n",
    "    t = re.sub('/', ' ', t)\n",
    "    t = t.replace(\"'\",'')\n",
    "    return t\n",
    "\n",
    "def clean(text):\n",
    "    t = text.lower()\n",
    "    t = strip_characters(t)\n",
    "    return t\n",
    "\n",
    "def tokenize(text):\n",
    "    words = nltk.word_tokenize(text)\n",
    "    return list(set([word for word in words \n",
    "                     if len(word) > 1\n",
    "                     and not word in english_stopwords\n",
    "                     and not (word.isnumeric() and len(word) is not 4)\n",
    "                     and (not word.isnumeric() or word.isalpha())] )\n",
    "               )\n",
    "\n",
    "def preprocess(text):\n",
    "    t = clean(text)\n",
    "    tokens = tokenize(t)\n",
    "    return tokens\n",
    "\n",
    "class SearchResults:\n",
    "    \n",
    "    def __init__(self, \n",
    "                 data: pd.DataFrame,\n",
    "                 columns = None):\n",
    "        self.results = data\n",
    "        if columns:\n",
    "            self.results = self.results[columns]\n",
    "            \n",
    "    def __getitem__(self, item):\n",
    "        return Paper(self.results.loc[item])\n",
    "    \n",
    "    def __len__(self):\n",
    "        return len(self.results)\n",
    "        \n",
    "    def _repr_html_(self):\n",
    "        return self.results._repr_html_()\n",
    "\n",
    "SEARCH_DISPLAY_COLUMNS = ['title', 'abstract', 'doi', 'peer_reviewed', 'journal','fulltext']\n",
    "    \n",
    "class RankBM25Index:\n",
    "    \n",
    "    def __init__(self, corpus: pd.DataFrame, columns=SEARCH_DISPLAY_COLUMNS):\n",
    "        self.corpus = corpus\n",
    "        self.columns = columns\n",
    "        raw_search_str = self.corpus.abstract + ' ' + self.corpus.title\n",
    "        self.index = raw_search_str.apply(preprocess).to_frame()\n",
    "        self.index.columns = ['terms']\n",
    "        self.index.index = self.corpus.index\n",
    "        self.bm25 = BM25Okapi(self.index.terms.tolist())\n",
    "        \n",
    "    def search(self, search_string, n=4):\n",
    "        search_terms = preprocess(search_string)\n",
    "        doc_scores = self.bm25.get_scores(search_terms)\n",
    "        ind = np.argsort(doc_scores)[::-1][:n]\n",
    "        results = self.corpus.iloc[ind][self.columns]\n",
    "        results['Score'] = doc_scores[ind]\n",
    "        results = results[results.Score > 0]\n",
    "        return SearchResults(results.reset_index(), self.columns + ['Score'])\n",
    "\n",
    "bm25_index = RankBM25Index(allpapers_df)"
   ]
  },
  {
   "cell_type": "code",
   "execution_count": 123,
   "metadata": {},
   "outputs": [],
   "source": [
    "results = bm25_index.search('smoking')"
   ]
  },
  {
   "cell_type": "code",
   "execution_count": 124,
   "metadata": {},
   "outputs": [
    {
     "data": {
      "text/plain": [
       "4"
      ]
     },
     "execution_count": 124,
     "metadata": {},
     "output_type": "execute_result"
    }
   ],
   "source": [
    "len(results)"
   ]
  },
  {
   "cell_type": "code",
   "execution_count": 125,
   "metadata": {
    "scrolled": true
   },
   "outputs": [
    {
     "data": {
      "text/html": [
       "<div>\n",
       "<style scoped>\n",
       "    .dataframe tbody tr th:only-of-type {\n",
       "        vertical-align: middle;\n",
       "    }\n",
       "\n",
       "    .dataframe tbody tr th {\n",
       "        vertical-align: top;\n",
       "    }\n",
       "\n",
       "    .dataframe thead th {\n",
       "        text-align: right;\n",
       "    }\n",
       "</style>\n",
       "<table border=\"1\" class=\"dataframe\">\n",
       "  <thead>\n",
       "    <tr style=\"text-align: right;\">\n",
       "      <th></th>\n",
       "      <th>title</th>\n",
       "      <th>abstract</th>\n",
       "      <th>doi</th>\n",
       "      <th>peer_reviewed</th>\n",
       "      <th>journal</th>\n",
       "      <th>fulltext</th>\n",
       "      <th>Score</th>\n",
       "    </tr>\n",
       "  </thead>\n",
       "  <tbody>\n",
       "    <tr>\n",
       "      <td>0</td>\n",
       "      <td>Eff ects of smoking and solid-fuel use on COPD, lung cancer, and tuberculosis in China: a time-based, multiple risk factor, modelling study</td>\n",
       "      <td>Background Chronic obstructive pulmonary disease (COPD), lung cancer, and tuberculosis are three leading causes of death in China, where prevalences of smoking and solid-fuel use are also high. We aimed to predict the eff ects of risk-factor tren...</td>\n",
       "      <td>http://doi.org/10.1016/S0140-6736(08)61345-8</td>\n",
       "      <td>True</td>\n",
       "      <td>The Lancet</td>\n",
       "      <td>Chronic obstructive pulmonary disease (COPD), lung cancer, and tuberculosis are the second, sixth, and eighth leading causes of death in China, accounting for almost 2 million deaths in 2002 (20·5% of all deaths in China). 1 A half of Chinese men...</td>\n",
       "      <td>8.399632</td>\n",
       "    </tr>\n",
       "    <tr>\n",
       "      <td>1</td>\n",
       "      <td>Environmental factors and their regulation of immunity in multiple sclerosis</td>\n",
       "      <td>Epidemiological and clinical studies have shown that environmental factors such as infections, smoking and vitamin D are associated with the risk of developing multiple sclerosis (MS). Some of these factors also play a role in the MS disease cour...</td>\n",
       "      <td>http://doi.org/10.1016/j.jns.2012.10.021</td>\n",
       "      <td>True</td>\n",
       "      <td>Journal of the Neurological Sciences</td>\n",
       "      <td>Multiple sclerosis (MS) is an inflammatory disease of the central nervous system (CNS) in which an interplay of genetic and environmental factors leads to the chronic activation of immune cells and to neuronal injury. Epidemiological studies have...</td>\n",
       "      <td>7.727815</td>\n",
       "    </tr>\n",
       "    <tr>\n",
       "      <td>2</td>\n",
       "      <td>Bulk and single-cell transcriptomics identify tobacco-use disparity in lung gene expression of ACE2, the receptor of 2019-nCov</td>\n",
       "      <td>In current severe global emergency situation of 2019-nCov outbreak, it is imperative to identify vulnerable and susceptible groups for effective protection and care. Recently, studies found that 2019-nCov and SARS-nCov share the same receptor, AC...</td>\n",
       "      <td>http://doi.org/10.1101/2020.02.05.20020107</td>\n",
       "      <td>False</td>\n",
       "      <td>nan</td>\n",
       "      <td>In the past two decades, pathogenic coronaviruses (CoVs) have caused epidemic infections, including the server acute respiratory syndrome (SARS)-CoV outbreak in 2003, the Middle East Respiratory Syndrome Coronavirus (MERS-CoV) outbreak in 2012 an...</td>\n",
       "      <td>7.097105</td>\n",
       "    </tr>\n",
       "    <tr>\n",
       "      <td>3</td>\n",
       "      <td>Brief Communication Psychological Responses among Humidifier Disinfectant Disaster Victims and Their Families</td>\n",
       "      <td>To substantiate psychological symptoms following humidifier disinfectant (HD) disasters, counseling records of 26 victims and 92 family members of victims (45 were bereaved) were analyzed retrospectively. Among the victims, 34.6% had Clinical Glo...</td>\n",
       "      <td>http://doi.org/10.3346/jkms.2019.34.e29</td>\n",
       "      <td>True</td>\n",
       "      <td>J Korean Med Sci</td>\n",
       "      <td>In Korea, several types of chemical disinfectants that had been widely used in humidifiers since 1994 were found to be associated with lung injury, including interstitial pneumonitis and widespread lung fibrosis, 1,2 collectively referred to as h...</td>\n",
       "      <td>6.872736</td>\n",
       "    </tr>\n",
       "  </tbody>\n",
       "</table>\n",
       "</div>"
      ],
      "text/plain": [
       "<__main__.SearchResults at 0x1a73f986a0>"
      ]
     },
     "execution_count": 125,
     "metadata": {},
     "output_type": "execute_result"
    }
   ],
   "source": [
    "results"
   ]
  },
  {
   "cell_type": "code",
   "execution_count": 129,
   "metadata": {},
   "outputs": [
    {
     "name": "stdout",
     "output_type": "stream",
     "text": [
      "Chronic obstructive pulmonary disease (COPD), lung cancer, and tuberculosis are the second, sixth, and eighth leading causes of death in China, accounting for almost 2 million deaths in 2002 (20·5% of all deaths in China). 1 A half of Chinese men smoke and more than 70% of Chinese households use solid fuels, such as wood, crop residues, and coal for heating and cooking. 2 Tobacco smoking and indoor air pollution from solid-fuel use are the most important global risk factors for COPD and lung cancer and account for a signifi cant proportion of deaths from these diseases in developing countries. 3, 4 Without interventions, the annual numbers of COPD and lung cancer deaths in China are predicted to double over the next 30 years. 1 Systematic reviews have concluded that smoking is also an independent risk factor for tuberculosis [5] [6] [7] and suggested a positive association between indoor air pollution and the disease. 5 Integrated programmes that incorporate multiple risk factor and therapeutic interventions are a potentially eff ective way to target the cluster of respiratory diseases that share common risks. 8 Planning integrated programmes for respiratory diseases and risk factors requires quantitative estimates of how future COPD, lung cancer, and tuberculosis will be aff ected by trends in smoking and indoor air pollution. Estimating the eff ects of smoking and indoor air pollution on COPD and lung cancer requires incorporation of how fast risk accumulates after initiation, or reverses after cessation. Smoking and indoor air pollution also infl uence the dynamics of tuberculosis, both via direct eff ect in exposed individuals, and indirect eff ect in unexposed individuals through infectious source cases.We provide a systematic assessment of the future trends of these three leading communicable and non-communicable respiratory diseases in China that share smoking and indoor air pollution as risk factors. These results quantify the potential benefi ts of programmes that target one or more of these risk factors or disease outcomes.To estimate the proportional eff ects of future smoking and solid-fuel use on projected lung cancer and COPD mortality, we used a generalised version of the population attributable fraction (PAF) relationship: P t,i =proportion of population in the i th exposure category at time t in one future exposure scenario. We used the scenario of constant exposure as the baseline to which all other scenarios were compared. P´t ,i =proportion of population in the i th exposure category at time t in an alternative future scenario. RR t,i =relative risk of disease-specifi c mortality for the i th exposure category at time t. n=number of exposure categories. The exposure categories include continuously exposed, non-exposed, as well as those whose exposure began or stopped at diff erent times during the analysis.PAF estimates the proportional reduction in disease or death that would occur if the observed exposure to a risk factor (P) were modifi ed to an alternative exposure scenario (P´). 9 The generalised version of the PAF relationship allows both exposure and relative risk to vary over time. Relative risk at time (t) depends on time since exposure initiation or cessation, because the eff ects of smoking and indoor air pollution accumulate gradually after exposure begins (eg, smoking initiation) and reverse gradually after exposure stops (eg, smoking cessation). 10, 11 We did separate analyses for lung cancer and COPD and for men and women, because they have diff erent relative risks. For both lung cancer and COPD, we fi rst computed PAFs separately for smoking and solid-fuel use. COPD and lung cancer are caused by multiple risk factors acting simultaneously, and hence a proportion of deaths might be prevented by reducing exposure to either factor. 9, 12, 13 For example, some COPD deaths among smokers who cook with solid fuels may be prevented by smoking prevention or by use of clean fuels. As a result of multicausality, the PAFs for multiple risk factors overlap, and cannot be combined by simple addition. We estimated the PAFs for the combined eff ects of smoking and solid fuel, accounting for multicausality and avoiding double-counting the overlap of multiple risk factors: 9, [12] [13] [14] PAF i =PAF of the i th risk factor n=number of risk factors Three conditions must hold when using the above equation. First, exposures to risks should be uncorrelated. The cross-province correlation coeffi cient between solidfuel use and smoking, from the data sources described in webappendix 1, was 0·04 (95% CI -0·32 to 0·40, p=0·82) for men and -0·11 (-0·45 to 0·26, p=0·56) for women, indicating small and non-signifi cant correlation. We also examined individual-level correlation with the 2006 panel from The China Health and Nutrition Survey (a multistage, random cluster survey, including 9788 adults in nine provinces throughout China with signifi cant variation in socioeconomic and health status). 15 61% of men and 4% of women had ever smoked in homes that did not use solid fuels and 63% of men and 4% of women had ever smoked in homes that did. The odds ratios for smoking, comparing solid-fuel users to non-users, was 1·07 (0·95-1·20) for men and 1·02 (0·76-1·36) for women, showing uncorrelated exposures. The second condition is that the hazardous eff ects of one risk are not mediated through other risks. Smoking and solid-fuel combustion are both sources of respirable pollutants, but the eff ects of pollutants from one source are not mediated through exposure to the other. The third condition is that the proportional eff ects of one risk do not depend on exposure to the other risk factor. The proportional mortality study of smoking in China showed that the relative risks of lung cancer and respiratory-disease mortality among Chinese smokers were not modifi ed by background disease levels, 16When susceptible (S) individuals are infected, they enter a state of fast latency (L) from which they may experience primary progression to the infectious (I) state. If not progressed within 5 years of infection, patients enter slow latency, where they may progress to the infectious state via endogenous reactivation at a greatly reduced rate. Individuals in the infectious state can be treated and enter the recovered (R) state from which they remain at risk of relapse to active disease. Individuals in the slowly progressive latent state or the recovered state are at risk of reinfection, although prior infection confers partial immunity. Individuals in any state can die, and new individuals enter the system via the susceptible compartment. See Online for webappendix 1 which is consistent with no eff ect modifi cation of relative risks between these two risks.We calculated the annual number of lung cancer and COPD deaths avoidable by reducing exposure to smoking and solid fuels, individually as well as combined, by multiplying the corresponding PAF by the projected total disease-specifi c deaths for the year of analysis.The incidence of tuberculosis depends on risk-factor exposure and population prevalence of infectious cases. We used a dynamic tuberculosis transmission model, specifi cally the deterministic compartmental susceptiblelatent-infectious-recovered model (fi gure 1), described in detail elsewhere. 17, 18 The susceptible-latent-infectious-recovered model parameters were based on previous epidemiological studies on the natural history of tuberculosis and risk factors, China-specifi c demographic parameters, and calibration to epidemiology in China (webtable 1). We introduced smoking and indoor air pollution into the model by stratifying the model population into the four possible combinations of exposure to these risk factors, proportional to their actual (time-varying) prevalence in each province. We fi tted a time-varying transmission parameter, defi ned as the rate at which infectious individuals are able to infect people who are susceptible. Available data and previous modelling suggested that the transmission parameter declined almost linearly in England and Wales from about 20 in 1900 to about 1 at the end of the 20th century. 19 We set the value of the transmission parameter to 20 in 1900, and it declined linearly to an empirically-fi tted lower bound; the rate of decline and the lower bound were fi tted to minimise the root mean square of the diff erences between the modelled and observed tuberculosis prevalence by province. The fi tted lower bound, which determines tuberculosis incidence after 2000, was not sensitive to the initial transmission parameter in 1900. Model fi tting also considered that chemotherapy was unavailable before 1960 20 and that the mean duration of disease is 2 years without treatment, 0·8 years under eff ective DOTS (directly observed treatment, short course), and 1·5 years for programmes other than eff ective DOTS. 21 We applied the calibrated model to estimate future tuberculosis incidence under diff erent scenarios of smoking, solid-fuel use, and DOTS coverage.To account for heterogeneity across provinces, we did tuberculsosis analyses at the provincial level. We present results for provinces that span a range of characteristics: Jiangsu, a province with moderate historical prevalence of tuberculosis and representative historical trend in prevalence compared to other provinces and Guizhou and Shanghai which have prevalences and trends that diff er from other provinces (webfi gure 1).We detail the methods and sources for estimating past trends in smoking, 22 Smoking prevalence in Chinese men has recently declined; 33 many high-income and some middleincome countries (eg, South Africa, Poland, Thailand) have reduced tobacco smoking from its peak through a combination of taxation, regulation (eg, public smoking or advertising ban), and health education; 34-37 the fi nal smoking prevalence of 30% is selected to be slightly higher than those in high-income countries, such as the UK and the USA, where more eff ective tobacco control policies and programmes have been implemented 38 Aggressive controlMale smoking prevalence declines more rapidly between 2003 and 2033, reaching 15% in each province in 2033Nationally, Singapore, Australia, and Canada have successfully reduced smoking prevalence to below 20% through eff ective tobacco control policies and interventions; 38-40 below 20% prevalence was also achieved through the Massachusetts Tobacco Control Program; 41 a prevalence of 15% is therefore feasible through eff ective tobacco control mechanismsTo zero Male smoking prevalence declines to zero in 2033This is an ideal scenario, included to provide a theoretical upper-bound on the benefi ts of gradual smoking reduction over the projection periodLarge rise Female smoking prevalence rises to reach 30% in each province in 2033The worst-case scenario for female smoking, in which the female smoking epidemic succeeds that of males, as seen in high-income, central European, and Latin American countries, 37, 38 where female smoking prevalence typically peaked at levels lower that of men, 37,38 hence set to 30%Female smoking prevalence rises to reach 15% in each province in 2033Similar to large rise in female smoking with a lower peak, as seen for example in Japan; 38 This is an ideal scenario, included to provide a theoretical upper-bound on the benefi ts of gradual smoking reduction over the projection period See webfi gure 2 for prevalence over time. We used China Data Online 31 for data on provincial populations. The future projections of the national population came from the Population Division of the Department of Economic and Social Aff airs of the UN Secretariat 32 and those of the disease-specifi c mortality from the global burden of disease study conducted by the WHO. Global burden of disease forecasts disease-specifi c mortality on the basis of projections of economic and social development, smoking, obesity, and selected other disease determinants. 1 We constructed scenarios that represent the range of policies and programmes that can reduce smoking and solid-fuel use on the basis of experiences and trends in other countries and some parts of China (tables 1 and 2 and webfi gure 2). All scenarios covered a period of 30 years (2003-33). We constructed prevalence of risk factors over time in the scenarios for each province with a linear time trend, and aggregated the provincial prevalences to the national level. More than 99% of the tobacco market share in China is controlled by the Chinese National Tobacco Corporation. Tobacco prices and taxes are low and there are only a few tobacco control measures in place. 38 However, China ratifi ed the Framework Convention on Tobacco Control in October 2005, which came into eff ect in January, 2006. Future smoking prevalence will largely depend on the extent to which economic and regulatory approaches to tobacco control are pursued. Although male and female smoking prevalences probably have common policy determinants, the analyses of lung cancer and chronic disease mortality were done separately for men and women and included all sex-specifi c scenarios. The analysis for tuberculosis was done for men and women combined because relative risks were for both sexes combined and because there are indirect eff ects of smoking on tuberculosis between sexes. National adult smoking prevalence was 49·6% for men and 3·0% for women in 2003 according to the National Health Service Survey. Another National Tobacco Prevalence Survey in 2002 reported current smoking prevalence of 57·4% for men and 2·6% for women. The two surveys had slightly diff erent defi nitions of current smoking. 22, 33 Tobacco consumption per person in China peaked around 1990 and has declined slowly since then. 38 Data from three National Health Service Surveys (1993, 1998, 2003) show that smoking prevalence declined from 60·3% to 49·6% among men (standardised to the 2003 population); smoking in women declined from 4·7% to 3·0% in this period.Solid fuels comprise biomass (wood, crop residues, animal dung, and charcoal) and coal and are used for cooking and heating. Only coal smoke raises the risk of lung cancer in epidemiological studies although wood smoke contains small amounts of carcinogens. 47 Non-solid fuels, which have substantially lower emissions of health-damaging pollutants, include liquid and gaseous fuels and electricity. 47 Solid-fuel scenarios only encompass fuel changes and did not take into account alternative stoves. China has implemented an ambitious programme to disseminate improved cooking stoves, 54, 55 primarily to improve effi ciency and reduce fuel use. TheReason for scenario useUnchanged Proportion of households using solid fuels remains at its 2003 level in every provinceEvidence indicates that few households revert back to solid fuels once they have transitioned to cleaner fuels, with the possible exception of the poorest countries (eg, some in sub-Saharan Africa) during international or national energy or economic crises; 42 therefore, stabilisation at current prevalence is the likely upper bound for household solid fuel useHalf current Percent of households using solid fuels declines to one half of its 2003 level in each province in 2033In China, rapid economic growth has contributed to near-universal access to electricity for lighting and for services such as television, but solid-fuel use for cooking and heating has persisted, with 72% of Chinese households continuing to use solid fuels according the 2000 National Census; [43] [44] [45] [46] this scenario is based on the experience of middle-income countries (eg, those in Latin America) that have reduced household solid-fuel use through active policy interventions [47] [48] [49] Urban-rural Percent of households using solid fuels declines to zero in urban populations and to one half of its 2003 level in rural populations in each province in 2033This scenario modifi es the previous scenario of \"decline to half the current level\" to acknowledge that there are better-developed supply chains in urban populations, even at the same income level; 8, 42, 50 in China, increased attention to urban air quality may also motivate faster and more extensive transitions in urban areas as has been done in other cities [51] [52] [53] To zero Percent of households using solid fuels declines to zero in 2033This is an ideal scenario which provides an upper-bound on the benefi ts of clean fuels over the projection periodAll biomass converted to coalThe coal share of solid fuel increases to 100% in each province by 2033Although until the 1980s and 1990s biomass was the dominant source of household energy in China, deforestation and policies to reduce and reverse it have compelled many rural residents to switch to from biomass to coal 43, 54 Unchanged coal share of solid fuelsThe coal share of solid fuel remains at its 2003 level Given the past trends in biomass to coal conversion, and its policy drivers, this is the lowest bound for coal share of solid fuels See webfi gure 2 for fuel-use over time. 54 If alternative stove designs reduce exposure signifi cantly, they can be treated as equivalent to fuel change; partial exposure reduction can be modelled with eff ect sizes between those for solid fuels and clean fuels.The same solid-fuel scenarios were used for men and women but the relative risk is higher for women (table 3) 32 The national change in relative proportion of urban and rural population over time was applied to all provinces. The proportion of diff erent categories of solid-fuel use in future scenarios were calculated such that transitions from coal and biomass to clean fuels in any year were proportional to their prevalence in the year of transition.China made signifi cant progress in DOTS expansion between 1990 and 2000 in 13 provinces, municipalities, and autonomous regions. After the outbreak of severe acute respiratory syndrome, China further expanded DOTS coverage so that nationally an estimated 80% of smear-positive cases of tuberculosis were detected and treated in 2005. 56 We used time-varying treatment coverage in each province and municipality based on province-specifi c implementation before 2002 and a range of possible scenarios from 2003 (webtable 2).We used relative risks for the eff ects of smoking on lung cancer and COPD from the retrospective proportional mortality study of smoking in China 16 (table 3) , and from meta-analyses of Chinese cohort studies in a sensitivity analysis (webappendix 2). The relations between smoking or indoor air pollution from solid-fuel use and chronic diseases have a dose-response relationship; therefore risks might diff er for men and women.Because the deaths in the proportional mortality study occurred in 1986-88, around the peak of the smoking epidemic in China, 16, 38 relative risks for COPD and lung cancer were substantially lower than in populations in Europe and the USA, which have smoked longer. Low relative risks have also been observed in other Asian populations, which likewise began smoking late. 57 Studies in European and American cohorts at diff erent stages of the tobacco epidemic have shown that relative risks for chronic diseases rise for decades after the peak of the smoking epidemic. 10, 58 To account for the accumulation of risk, we allowed COPD and lung cancer relative risks from the proportional mortality study to increase to those from the American Cancer Society Cancer Prevention Study, phase II (CPS-II), which was done primarily in lifelong smokers. 58 In sensitivity analyses, we allowed relative risks to remain at their 1986-88 levels over the complete analysis period, representing the possibility that smoking may be associated with smaller relative risks in Asian populations than among others.We used relative risks for the eff ects of indoor air pollution from solid-fuel use on COPD (all solid fuels) and lung cancer (coal only) from a recent systematic review and meta-analysis of cohort, case-control, and cross-sectional studies. 47 Because the Chinese population and those in the epidemiological studies have used solid fuels for a long time, relative risks are expected to be at their peak. The relative risks for the eff ects of smoking and solid-fuel use on tuberculosis were from a recent meta-analysis. 5 The relative risks of smoking and indoor air pollution for COPD and lung cancer decline gradually after exposure stops. We used the change after exposure cessation estimated with data from CPS-II (webfi gure 3). The CPS-II fi ndings are consistent with studies on how indoor air pollution interventions reduce the COPD and lung cancer relative risks over time 59, 60 but provide data in fi ner time intervals. We used a symmetric pattern for the increase in relative risk after exposure begins.Smoking might increase the risk of latent tuberculosis infection or the risk of progression to active disease from latent infection. For smoking and latent infection, we used the pooled estimate from a recent meta-analysis, 5 which had relative risks for disease similar to other published meta-analyses. 6, 7 The relative risk for progression to active tuberculosis was obtained by dividing that for smoking and active tuberculosis from the only cohort study (2·87) 61 relative risk in the only study of smoking and active disease among people who were latently infected. 62 We separated the relative risk for the eff ects of solid-fuel use on active tuberculosis into the eff ects on latent infection and progression to active diseases using the same proportions as for smoking.The sponsor of the study had no role in study design, data collection, data analysis, data interpretation or writing of the report. The corresponding author had full access to all data in the study and had fi nal responsibility for the decision to submit for publication.If tobacco smoking and solid-fuel use remain at their current levels, between 2003 and 2033 an estimated 65 million people will die of COPD and 18 million of lung cancer in China, accounting for 19% and 5%, respectively, of all deaths over this period. 1 82% of the COPD deaths (53 million) and 75% of lung cancer deaths (14 million) will be attributable to the combined eff ects of smoking and solid-fuel use (fi gure 2). 52% of COPD deaths and 82% of lung cancer deaths attributable to these risks will be among men. Of the 67 million COPD and lung cancer deaths attributable to smoking and solid-fuel use, over 10 million (8·1 million from COPD and 2·0 million from lung cancer) are unavoidable, even if all smokers had quit and all households had begun to use clean fuels in 2003, because the eff ect of the exposures on chronic diseases persist even after exposure ends. Men who stop smoking in 2003 are expected to lower their absolute risks of COPD by 56% and lung cancer by 60% after 5 years relative to those who continue smoking (the reductions for women are 63% for COPD and 75% for lung cancer; webfi gure 3). Risks will be lowered by 83-84% (COPD) and 83-86% (lung cancer) after 10 years and 91-92% (COPD) and 88-91% (lung cancer) after 20 years (webfi gure 3). At the population level, with moderate tobacco control, the sum of the annual avoided COPD and lung cancer deaths among men would be an estimated 4·6 and 1·9 million, respectively, 15% of all projected deaths of men from these diseases (webfi gure 4). If tobacco control is aggressive, with smoking in men declining to 15% by 2033, 8·0 million COPD deaths and 3·3 million lung cancer deaths would be averted.If female smoking gradually declines to zero by 2033, the sum of the annual avoided COPD and lung cancer deaths would be 4·9 and 0·76 million, averting 14% and 13% all projected female deaths from these diseases (webfi gure 4). Conversely, if female smoking rises to 30% by 2033, an additional 2·2 million COPD deaths and 0·60 million lung cancer deaths are expected among Chinese women. This asymmetry of benefi ts and harms occurs because the relative risks seem to rise slowly among new smokers but fall steeply in former smokers (webfi gure 3).Halving solid-fuel use by 2033 would lower the sum of the annual number of COPD and lung cancer deaths, respectively, by 2·2 million and 0·30 million in men (7% and 2% of deaths from these causes) and by 4·3 million and 0·27 million in women (12% and 5% of deaths from these causes; webfi gure 5). Proportionally, more deaths are prevented among women because they are closer to the pollution source during cooking, have higher exposure to pollutants, and hence higher relative risks. The benefi ts would be twice as large with a complete transition to clean fuels.After accounting for the overlap between the eff ects of the two risk factors, if smoking and solid-fuel use are If there is sustained 80% coverage of eff ective DOTS (webtable 2), the annual incidence of infectious tuberculosis in the three provinces presented here is estimated to decline after 2003, even if smoking and solid-fuel use remain at their current levels (fi gure 4). Nonetheless, reducing smoking and solid fuels would further reduce incidence of tuberculosis from projected levels. The estimated reductions in 2033, under diff erent scenarios of smoking and solid-fuel use, range from 10% to 23% of the projected levels in Jiangsu, 35% to 52% in Guizhou (where prevalence has increased), and 5% to 14% in Shanghai (where prevalence has been lowest; fi gure 4).Incidence of tuberculosis is projected to decline even when DOTS implementation is less eff ective. The decline in incidence in these three provinces will be 4-28% less under moderate DOTS than under optimum DOTS, and 11-79% smaller under minimum DOTS. This slower decline in tuberculosis incidence would, in turn, lead to smoking and solid-fuel interventions having larger relative and absolute benefi cial eff ects on trends in tuberculosis (fi gure 4). For example, in Jiangsu province, the relative reduction in projected incidence in 2033, under diff erent scenarios of smoking and Reductions in smoking and solid-fuel use can signifi cantly reduce the burden of COPD and lung cancer. Moderate, aggressive, and complete reduction of these exposures over the next three decades, through mechanisms such as tobacco taxation, advertising ban, and fuel pricing, can lead to 7-38% reduction in deaths from these two diseases, which have few other eff ective treatments.We observed a diff erence in how risk-factor interventions aff ect population-level trends in tuberculosis compared with those of COPD and lung cancer: in the absence of new technologies for early detection and treatment, the burden of COPD and lung cancer will remain high as long as smoking and indoor air pollution persist because these two risk factors are the most important causes of chronic respiratory disease incidence and mortality in China. But tuberculosis incidence can decline signifi cantly because treatment reduces the risk of infection through reducing the duration of infectiousness. Nonetheless, smoking and solid-fuel interventions should be components of tuberculosis control for at least three reasons. First, irrespective of coverage and eff ectiveness of DOTS, risk-factor interventions can further reduce incidence of tuberculosis. The complementary eff ects of risk-factor interventions occur through reducing the risk of latent infection and progression from latent infection to infectious disease. Second, reducing smoking in patients with tuberculosis might further strengthen DOTS eff ectiveness because smoking has been associated with delayed response to treatment. 63 Third, reducing smoking may itself lower the risk of drug resistance as recent studies have suggested a link between smoking and drug-resistant tuberculosis. 64, 65 Our quantitative analysis of the eff ects of the two leading environmental and lifestyle sources of respirable pollutants on a common set of infectious and chronic diseases used models that incorporated the aetiological risk factors in disease incidence and mortality over time. Specifi cally, our models and data sources accounted for the fact that eff ects on lung cancer and COPD accumulate or reverse gradually after exposure begins or stops and for dependency of tuberculosis incidence on prevalent infectious cases. We used several large sources of data to reconstruct consistent and comparable trends of smoking, solid-fuel use, and tuberculosis in China's provinces. Scenarios were constructed on the basis of policy experiences in China and other countries, and can provide programme targets and benchmarks. Current and projected mortality from COPD and lung cancer from the global burden of disease analysis used Chinese mortality data sources and accounted for demographic and socioeconomic development. 1 The relative risks and how they change over time were based on meta-analyses and large high-quality epidemiological studies in China and elsewhere.Population-level analyses of mortality eff ects of risk factors, including ours, may also be aff ected by some limitations and uncertainties. We quantifi ed selected major sources of uncertainty in sensitivity analyses (webappendices 2 and 3, webfi gures 6 and 7, and webtables 3-5). These analyses show that the largest source of uncertainty for COPD and lung cancer is whether the relative risks of smoking related diseases in China will reach those observed in western populations. One recent study in China is consistent with increasing relative risks, 66 but the possibility of ethnic diff erences cannot be ruled out. 67 Benefi ts of tobacco control in diff erent scenarios would be 23-81% smaller for men and 84-94% smaller for women if the relative risks for eff ects of smoking on COPD and lung cancer do not rise signifi cantly after the peak of the smoking epidemic (webfi gure 6). The eff ects of all other sensitivity analyses on the number of averted deaths from COPD and lung cancer were less than 11% for the combined eff ects of smoking and solid-fuel use, and less than 18% for the eff ects of individual risk factors.The predictions for tuberculsosis are subject to uncertainties of model parameters, including how smoking and indoor air pollution aff ect the risk of diff erent stages of tuberculosis natural history (latent infection versus progression) and the values of the transmission and progression parameters (webappendix 3, webfi gure 8, and webtable 5). These analyses show that the largest source of uncertainty for the tuberculosis model is the future trend of transmission parameter, which depends on how sociodemographic change aff ects the patterns of contact and other determinants of transmission in China. If factors such as higher population density and increased travel increase the number of contacts that lead to tuberculosis transmission, the transmission parameter might not continue its expected decline. In this case, reducing smoking and indoor air pollution will have an even greater eff ect on tuberculosis control than estimated. For example, if the transmission parameter in Jiangsu doubles over the next 30 years, the benefi ts of the diff erent scenarios of smoking, solid-fuel use would be 58-77% greater than the original analysis in fi gure 4. Multiparameter uncertainty analysis showed the interquartile range of the estimated eff ects was within 14-33% of its central value in all provinces and in all scenarios of DOTS, smoking, and solid-fuel use. Finally, the causal link between smoking and tuberculosis is based on a larger number of epidemiological studies than that of indoor air pollution from solid-fuel use. If the causal eff ect on tuberculosis were only from smoking, the benefi ts of reducing exposure would be smaller than those in fi gure 4, by 19-37% for diff erent scenarios in Jiangsu, by 23-32% in Guizhou, and by 9-13% in Shanghai. In addition to the above sources of uncertainty, fundamentally new technologies for early detection and treatment of chronic diseases could signifi cantly aff ect future burden. Discovery and large-scale use of such technologies over the duration of our analysis are less likely for COPD, but cannot be ruled out for lung cancer and tuberculosis. Finally, relative risks from meta-analyses may not be generalisable to population-level eff ects; nevertheless, such estimation is necessary and indispensable to inform policy making.In addition to smoking and solid-fuel use, respiratory diseases are aff ected by other sources of inhaled pollutants, including passive smoking, air pollution from transport and industrial sources, and occupational exposures. In China, in 2003 passive smoking was responsible for an estimated 17 000 and 7000 deaths from COPD and lung cancer, respectively, among men (compared with 412 000 and 170 000 from direct smoking) and 126 000 and 25 000 deaths among women (compared with 113 000 and 16 000) because substantially more women are non-smokers and exposed to passive smoking 33 (webappendix 2). The quantitative evidence on the eff ects of passive smoking on tuberculosis is more limited, although a causal eff ect is likely. 5 Ambient urban air pollution, which in China might be partly due to household solid-fuel use, was responsible for an estimated 32 000 lung cancer deaths and 317 000 cardiopulmonary deaths in the Western Pacifi c region in 2000 (no independent eff ects on COPD were estimated for ambient urban air pollution) and selected occupational exposures for an estimated 34 000 lung cancer deaths and 161 000 COPD deaths in the same region. 4 The eff ect of ambient air pollution on tuberculosis has not been investigated in epidemiological studies.Infectious and chronic respiratory diseases, smoking, and indoor air pollution are either already concentrated or increasingly prevalent in developing countries. In addition to their disease burden, these diseases have large and inequitable household and societal economic burden associated with health-care costs, reduced labour-market participation, and decreased accumulation of human capital, described in detail elsewhere for China and for other developing countries. [68] [69] [70] [71] [72] Our results show that reducing common risk factors could have a substantial eff ect on future burden of COPD and lung cancer, and be an important contributor to tuberculosis control. Our fi ndings have several potential policy and programme implications at the national, community, household, or individual levels. At the national level, our results on the projected burden of disease from COPD and lung cancer alone reinforce the need for regulatory and economic policies that reduce smoking and promote clean household energy sources in China. Tuberculosis control however cannot rely on risk-factor reduction as its main intervention, and the core of national or regional tuberculosis control programmes should remain interventions that can reduce and eventually interrupt transmission under generalisable circumstances, currently DOTS. Nonetheless, at the community level, some interventions could increase the coverage or community eff ectiveness of others. For example, case detection and treatment completion under DOTS in China have been constrained by limitations of physical and human infrastructure, fi nancial factors, and compliance, especially in rural areas and marginalised social groups. [73] [74] [75] [76] Low-income or marginalised communities could be enrolled in programmes that provide cleaner fuels or stoves and nutritional supplements, conditional on periodic tuberculosis tests and DOTS treatment completion. At the individual level, tobacco cessation can be added to tuberculosis treatment, possibly with fi nancial incentives. 77, 78 If multiple interventions are implemented, the management structure of DOTS, including its standardised approach to registration, recording, and reporting of enrolled individuals (or households) and their status in receiving intervention, can strengthen planning and implementation of interventions for indoor air pollution and smoking. 79 Tobacco taxes might also be used to subsidise DOTS, clean energy technology, and nutrition for low-income households that take part in integrated programmes. An important next step would be a policy dialogue between the diff erent economic, energy, and health-sector agencies in China as well as community-based intervention studies that assess the eff ectiveness of combining risk factor interventions with tuberculosis case fi nding and treatment under actual conditions of implementation.HHL, MM, and ME designed the study and the analyses. HHL and ME collected data and wrote the report, with input from other authors. HHL conducted data analysis. ME contributed to analysis for chronic diseases. MM, TC, and CC contributed to analysis for TB. All authors reviewed and approved the fi nal report.We declare that we have no confl ict of interest.\n",
      "Multiple sclerosis (MS) is an inflammatory disease of the central nervous system (CNS) in which an interplay of genetic and environmental factors leads to the chronic activation of immune cells and to neuronal injury. Epidemiological studies have identified several environmental risk factors in MS, including exposure to certain viruses and smoking; conversely, the lack of exposure to sunlight is correlated with an increased risk for MS. While most of these factors are associated with the susceptibility to developing MS, more recent studies show that some of these factors also impact on the MS disease course.However, the identification of environmental risk factors in MS is made difficult by the fact that no single risk factor in isolation appears to be responsible for the development of the disease; most likely a multifactorial interplay of factors determines the susceptibility to MS as well as the disease course. Given the many possible factors that may influence MS susceptibility and disease course, studies need to be large enough and the data needs to be of high quality to determine the impact of individual possible risk factors. For example, diet and the exposure to organic solvents may play a role in MS, but the investigation of these risk factors is difficult, because high quality data on these factors over a long observation period is often not available. The results of studies on these factors, are therefore less reliable and sometimes contradictory [1] [2] [3] [4] .In this article we provide an overview of the immunopathogenesis of MS and discuss how environmental factors may affect aspects of immune function in MS.The etiology of MS is unresolved [5] . One hypothesis postulates that various classes of immune cells are activated in the periphery and then enter the CNS to produce pathology. An alternate hypothesis infers that the initial dysfunction is within the CNS and need not be immunological or inflammatory; potential pathologic processes include mitochondrial dysfunction in neurons or oligodendrocytes, axonal energy insufficiency, or inactivation of neural organelles such as peroxisomes [6] . Following the initial injury, the leakage of CNS antigens into draining lymph nodes contributes to the activation of T cells and other immune cell subsets that enter the CNS. Thus, whatever the origin of MS pathology, the result is the activation and recruitment of immune cell subsets into the CNS which then produce the hallmarks of MS pathology: demyelination, oligodendrocyte loss, and axonal/neuronal injury and loss [7] .Antigen presentation (Fig. 1 ) is necessary to activate T cells. Commonly, a pathogen in exposed tissues is engulfed and broken down by antigen presenting cells (APC) such as dendritic cells. The APCs then migrate to lymph nodes, carrying a short segment of the pathogen, the antigen, bound to major histocompatibility complex (MHC) on the cell surface. In the lymph nodes, the antigen is presented to naïve T cells such that those with T-cell receptors (TCR) recognizing the antigen/MHC combination become initially engaged. The antigen/ MHC and TCR interaction constitutes a first signal. A second signal, mediated by co-stimulatory molecules (e.g. B7 on antigen presenting cells and CD28 on T cells), is necessary for T-cells to undergo activation, proliferation and subsequent differentiation into effector cells.CD8+ T cells are activated by the engagement of TCR on CD8+ T cells with antigen/MHC class I complex, while CD4+ cells are activated by the engagement of TCR on CD4+ T cells with antigen/MHC class II complex. CD4+ T cells are particularly interesting in MS as they can differentiate into pro-inflammatory T helper (Th) 1 or 17 subsets, antiinflammatory Th2 cells, or into cells with regulatory/anti-inflammatory properties (Tregs), depending on the microenvironment and cytokine milieu [8] . CD4+ T cells in MS patients tend to differentiate into Th1 and/or Th17 subsets, which are not only pro-inflammatory [9] , but potentially neurotoxic as well [10] . In contrast to the propensity to generate Th1/17, there is an apparent deficiency of the regulatory/ anti-inflammatory Th2 and Tregs subsets in MS, on the whole favoring a pro-inflammatory milieu [11] . Besides the CD4+ subsets, CD8+ T cells also have several tissue damaging roles in MS [12] .B cells are also important contributors to disease activity in MS. The best supporting evidence for this is that monoclonal antibodies B cells Fig. 1 . Steps in the immunopathogenesis of MS and modulation by environmental factors. An initial activation of T cells by antigen presenting cells in the periphery [1] , particularly in lymph nodes, leads to the increased generation of Th1 and/or Th17 pro-inflammatory subsets in MS. These cells, and other leukocyte subsets including monocytes and B cells, transit in blood where they can adhere [2] onto inflamed endothelial cells (EC). Predominantly at post-capillary venules in the CNS, the leukocyte populations produce MMPs to invade [3] across the glia limitans into the CNS parenchyma. T cells may undergo reactivation within the CNS and they, together with other leukocyte populations that have entered the CNS, contribute to tissue injury [4] . This figure also displays where the environmental factors that influence MS may act in the cascade of immunopathogenesis. that target the B cell antigen, CD20, are effective therapies in MS [13, 14] . Oligoclonal bands in the cerebrospinal fluid, representing immunoglobulins of many specificities, are common in MS patients, and B cell follicular-like structures can be found in the meninges of many patients with MS [15] . Besides the production of antibodies targeting CNS structures such as proteins at the node of Ranvier [16] , the pathogenic roles of B cells are thought to be related to their cellular functions such as antigen presentation and providing help for T cells [17] .When activated, immune cells upregulate various adhesion molecules and adhere to endothelial cells of post-capillary venules in the CNS. After crossing the endothelial cell barrier, immune cells readily cross the endothelial basement membrane. Then, in the presence of proteolytic activity largely furnished by the family of matrix metalloproteinases (MMPs), they migrate across a second basement membrane barrier, the glia limitans or parenchymal basement membrane, into the CNS parenchyma ( Fig. 1) . Without proteolytic activity, immune cells are trapped in the perivascular space that separates both basement membrane layers [18] . However, MMPs are upregulated in MS which facilitates the transmigration of activated immune cells into the CNS parenchyma [19] . MMPs themselves are induced by an upstream switch, Extracellular Matrix Metalloproteinase Inducer, EMMPRIN (CD147) [20] .Upon entering the CNS parenchyma, T cells can become reactivated through repeated antigen presentation by APCs such as microglia, macrophages, B cells and dendritic cells. The products of activated immune cell subsets include free radicals, glutamate and other excitotoxins, proteases, and cytokines, all of which can cause or promote neuronal injury and loss [10, 21] .Findings from migration studies have led to the idea that a viral infection may trigger the development of MS. Several studies have shown that people migrating from a country of high MS prevalence to one of lower prevalence are at lower risk of developing MS than they would be in their country of origin. Those migrating from a low-risk country to a high-risk one retain the low risk of their country of origin, while their children have a risk comparable to the country they emigrate to [for review see [22] ]. Further studies suggested that this effect of migration on the risk of developing MS was stronger in those migrating before the age of 15 [23] , suggesting that an infection at a young age may predispose to the later development of MS. In addition to these migration studies, some classical studies on the incidence and prevalence of MS have suggested that there may have been 'MS epidemics' in several locations, with the rise in MS incidence after the second world war in the Faroe islands as the best known example [24, 25] . Similar increases in the Shetland islands [26] , Ferrara [27] and Sardinia [28] have been taken to suggest that an infectious agent may be involved in the pathogenesis of MS.Several viruses have been implicated as factors that may influence MS risk. These include the Epstein-Barr-Virus (EBV), Herpes simplex virus (HSV) types 1 and 2, human herpesvirus 6, measles, mumps and rubella. The evidence for and against a role of most of these viruses in MS is inconsistent, except for that supporting EBV.Studies on the influence of EBV in MS are generally difficult due to the very high prevalence of EBV seropositivity in the general population (around 95% seropositivity by adulthood) which translates into very large sample sizes to achieve adequate power in epidemiological studies. Despite this methodological challenge, seronegativity for EBV is associated with a very low risk of MS. A meta-analysis including 1779 MS patients and 2526 non-MS controls showed an OR of 0.06 (95% CI: 0.03-0.13) for developing MS in seronegative persons compared to seropositives [29] . A history of symptomatic EBV infection (infectious mononucleosis), on the other hand, roughly doubled the risk of developing MS, as shown in a recent meta analysis including 19,390 patients and 16,007 controls (relative risk: 2.17, 95% CI: 1.97-2.39) [30] .Studies on the association of EBV with the disease course of MS have shown diverging results. One small prospective cohort study (n = 73) found that patients with a higher serum antibody titer to EBV early antigen (EA) had significantly more gadolinium enhancing lesions on MRI, while their disability and other clinical characteristics did not differ [31] . Another prospective cohort study followed 100 patients over a period of five years and found significant but relatively weak correlations (Spearman's rank correlation r= 0.27 to 0.33) between serum anti-Epstein Barr nuclear antigen-1 (EBNA1) IgG titers and the number of gadolinium enhancing lesions, change in T2 lesion volume, and change in EDSS scores [32] .The possible influence of EBV on the early stages of the disease process in MS was investigated in another cohort study which compared 147 patients with CIS with 50 matched controls. Increased levels of serum EBNA1 IgG titers were found among the CIS patients, as well as significant, although weak correlations of serum EBNA1 IgG titers with gadolinium enhancing lesions, the number of T2 lesions, and EDSS scores (Spearman's rank correlation r=0.21 to 0.3) [33] . This apparent relationship of EBV antibody titers and measures of disease activity has not consistently been found however, as Ingram and co-workers found no correlation between serum EBNA1 IgG titers and EDSS and MSSS scores in their investigation of 75 MS patients [34] .Most observational studies compared healthy controls to MS patients and limited their analyses to EBV serology. A clearer picture has recently emerged through studies with different controls. Pohl and colleagues found elevated antibody indices to EBV, but also to other neurotropic viruses in the CSF and serum from 43 children and 50 adults with MS. Interestingly, the antibody indices for measles, rubella, varicella zoster virus and herpes simplex virus were all higher than those for EBV. This suggests that the humoral immune response that elevates EBV titers in MS is not exclusively directed against EBV antigens but is part of a general polyspecific immune response [35] . These findings were confirmed by a similar study in patients with CIS or MS [36] .There are several hypotheses to explain how viral infections are associated with MS [37] . One hypothesis is that of \"bystander activation\" which postulates that autoreactive T cells are activated by nonspecific inflammatory molecules occurring during infections, such as cytokines, superantigens and toll-like receptor ligands [38] .Yet another hypothesis is that viruses activate immune cells through the process of \"molecular mimicry\" [39, 40] . The hypothesis postulates that upon exposure to a pathogen, the pathogen/MHC conformation on an APC bears molecular similarity to that of a endogenous peptide, such as a fragment from myelin basic protein (MBP), presented within an MHC. If co-stimulatory molecules are properly engaged, the result could be the expansion and differentiation of not only the pathogen-reactive T cells, a properly directed immune response, but also the expansion of MBP-reactive T cells, an improper outcome. If both pools differentiate into Th1 or Th17 pro-inflammatory subsets (Fig. 1) , these can become reactivated within the CNS to promote pathology. In support of this idea, T cell lines isolated from MS patients demonstrate cross-reactivity between MBP and coronavirus [41] or EBV [42] antigens. Moreover, crystal structure analyses revealed a significant degree of structural similarity between the DRB5*0101-EBV peptide complex to the DRB1*1501-MBP peptide complex at the cell surface for TCR recognition [43] .Overall, given that there are several pathogens with molecular similarity to a number of myelin peptides and other molecules within the CNS, the probability is high that several viruses can lead to the improper expansion of CNS-reactive T cells that can promote pathology within the CNS. For this reason it will be difficult to pinpoint a single infectious pathogen uniquely associated with MS.There are other immunological bases to the association of EBV with MS. The follicular-like structures under the meninges harbor B cells that are infected with EBV in many patients and this is thought to be a Trojan horse-like mechanism by which EBV infects the brain [44, 45] . MS subjects have antibodies that cross-react between MBP and EBV [46] , providing a mechanism by which EBV-reactive antibodies may disrupt myelin. Moreover, cellular immune responses such as EBV-reactive CD8 + T cells that are restricted by HLA-B7, a common allele in MS, are dysregulated in MS [47] . Pender has postulated an initial CD8+ T cell deficiency in MS that impairs the capacity to control EBV infection with the result that EBV-infected B cells accumulate in the CNS where they produce pathogenic autoantibodies and provide survival signals to autoreactive T cells [48] .Although there is no evidence that parasitic infections impact MS risk they may impact disease activity. Report from a single MS center in Argentina noted that 12 patients with relapsing-remitting MS patients had eosinophilia, caused by mild, asymptomatic intestinal parasitosis. These patients were compared with an age and gendermatched relapsing-remitting MS group with no evidence of intestinal parasites and prospectively followed for more than seven years [49, 50] . Interestingly, the number of new relapses, the accumulation of disability and the number of new enhancing lesions on MRI were all much lower in the parasite infected group than in the uninfected control group. When four of the 12 patients became symptomatic with regards to their infection they received anti-parasite medication. This resulted in clearing of the parasitic infection but they experienced an increase in relapses, MRI lesions and disability [50] .These findings encouraged others to undertake a pilot trial of five relapsing-remitting MS patients where treatment consisted of parasites being introduced by ingestion of helminth eggs. Preliminary results showed that the number of new enhancing MRI lesions was reduced during treatment [51] .Exposure to parasites results in a characteristic immunological response aimed at eradicating the parasites: a CD4 + T helper cell response that is predominantly Th2 biased, increases in the frequency of regulatory T cells and regulatory B cells, amongst others. These are, on balance, anti-inflammatory or regulatory and can return an active immune response back to homeostasis. In the context of MS, the elevation of these anti-inflammatory and regulatory immune responses would help overcome the pro-inflammatory conditions seen in MS. Indeed, in the infected MS patients described in the Argentinean study, they had higher levels of Th2 anti-inflammatory cells, and regulatory T and B cells compared to the uninfected MS control group [49, 50, 52] .Smoking has recently been recognized as an environmental risk factor in MS. Convincing evidence that smoking increases the susceptibility to MS comes from an analysis of the The Nurses' Health Study, which showed that the relative incidence rate of MS in current smokers compared to never smokers was 1.6 (95% confidence interval (CI) 1.2-2.1), with a dose-response dependent on pack years smoked [53] . Two studies have also shown that second hand smoke exposure increased the risk of developing MS among children (adjusted rate ratio of 2.12, 95% CI 1. 43-3.15) [54] and adults (OR 1.3, 95% CI 1.1-1.6) [55] .Smoking also seems to impact inflammatory outcomes in MS. A study in patients with a clinically isolated syndrome (CIS) showed an increased risk of conversion to clinically definite MS in smokers compared to non-smokers (HR: 1.8 (95% confidence interval: 1.2-2.8)) [56] . One imaging cross-sectional study showed that smokers had more gadolinium enhancing lesions, a greater T2-lesion load and more brain atrophy than non-smokers [57] . Another study followed patients for an average of 2.8 years and reported a quicker increase in T2 lesion volume and brain atrophy in smokers [58] .The association between smoking and disease progression, however, is less clear. A study from a hospital based MS cohort suggested that smoking was neither associated with the risk of secondary progression (HR: 0.89, 95% CI: 0.60-1.32) nor with that of reaching EDSS 4.0 (HR: 0.93, 95% CI: 0.66-1.33) or EDSS 6.0 (HR: 0.88, 95% CI: 0.61-1.28) [59] . An analysis of data collected by general practitioners however suggested that smoking is associated with a greater risk of evolving to a secondary progressive course (hazard ratio (HR): 3.6, 95% CI: 1.3-9.9) [60] . The most recent large hospital based cohort-study also found smoking to be associated with the risk of secondary progression (HR: 2.50, 95% CI: 1.42-4.41), but not with an increase in EDSS scores [58] ; and in a prospective Australian study, smoking was associated with an increase in EDSS scores during two years of follow-up [61] . Thus, while it appears that smoking influences the early disease course of MS, more research is needed to ascertain its relative impact on early versus late disease stages of MS.It is not known how smoking increases the risk of MS and although cigarette smoke contains many mutagens which potentially may affect long lasting immunity, a recent review indicates that smoking generally leads to an immunosuppressant state [62] . Nonetheless, aspects of immune functions are promoted by cigarette smoking and genetic studies indicate an interaction between smoking and genes that regulate immune function [63] . It may be instructive to determine whether constituents of tobacco alter signaling through the aryl hydrocarbon receptor, a transcription factor affected by polycyclic aromatic hydrocarbons and polychlorinated dioxins; the latter can regulate T cell polarization and alter the course of experimental autoimmune encephalomyelitis [64] , an animal model of MS.One potential mechanism by which smoking affects MS is by upregulating MMPs since immune cells and biological fluids of smokers tend to have higher levels of several MMPs [65] . The higher expression of MMPs in smokers could be advantageous for immune cells to cross the blood brain barrier into the CNS parenchyma. It is noteworthy that a comparison of MRI scans from smokers and nonsmokers with MS showed more contrast enhancing lesions among the smokers, which suggests an increased breakdown of the blood brain barrier [57] .That MS is more prevalent in regions of higher latitude has been shown in many populations [66] and more recently this phenomenon has been associated with sunlight (UV) exposure and the subsequent production of vitamin D [67] . In a retrospective study Van der Mei and colleagues showed that the risk of MS is decreased in people with greater exposure to sunlight [68] . More recently it was demonstrated that the risk of developing MS decreased with increasing serum 25hydroxy-vitamin D levels (OR: 0.59; 95% CI: 0.36-0.97 per 50 nmol/L increase) in a prospective nested case-control study; 25-hydroxyvitamin D levels from routine serum samples were related to the subsequent risk of developing MS in US military personnel [69] . In a study that calculated the risks of MS posed by various suspected environmental factors in MS, the lack of UV exposure was found to be the most significant risk factor [70] .There is also mounting evidence that vitamin D influences the disease course of MS. Cross-sectional studies showed that low levels of vitamin D and one consequence of low vitamin D levels, lower bone mineral density, are common in MS [71] , and that lower vitamin D levels are associated with higher levels of disability [72] . Evidence for an association between vitamin D and relapses comes from a prospective cohort study which showed a decreased risk of relapse during the subsequent six months in patients with higher serum vitamin D levels (HR per 10 nmol/L increase 0.91, 95% CI: 0.85-0.97) [73] . A retrospective cohort study showed similar results in children with MS [74] .There is also some evidence to suggest that vitamin D supplementation may be an effective treatment for MS. Burton and co-workers performed a randomized controlled trial investigating high-dose vitamin D treatment in MS and found a trend towards decreased relapses during treatment [75] .Although other immune modulatory mechanisms potentially exist for ultraviolet radiation [76] , the association of sunlight with MS is most likely due to the ultraviolet B radiation of sunlight (290-320 nm) converting cutaneous 7-dehydrocholesterol to previtamin D 3 , which then spontaneously forms vitamin D 3 . The latter then undergoes 2 hydroxylations, most notably in the liver and kidney by D-25-hydroxylase (CYP2R1) and 25-hydroxyvitamin D-1α-hydroxylase (CYP27B1), to produce the biologically active form of vitamin D, 1,25-dihydroxyvitamin D3. Notably, variants of the CYP27B1 gene have been found to be associated with increased risk of MS [77] . Another study found association of MS with CYP27B1 and a second region containing another vitamin D associated gene, CYP24A1 [78] , a vitamin D response element lies close to the promoter region of HLA-DRB1, the main risk allele for MS [79] .The utility of vitamin D in MS is almost certainly due to its multiple immune-regulating properties that impact on the majority of the immunopathogenic steps outlined in Fig. 1 . Vitamin D suppresses the maturation and activity of APCs, including dendritic cells, or increases their \"tolerogenic\" phenotype [80] , thereby reducing the probability of presenting self-antigens to generate autoreactive cells, or decreasing the likelihood of expanding autoreactive cells through molecular mimicry.The differentiation of CD4+ T helper cells is also affected by vitamin D, with a reduced production of pro-inflammatory Th1 and Th17 cells [81] ; concurrently, Th2 cells are increased [82] , thereby helping to reduce the pro-inflammatory state that typifies MS. Other major immunologic consequences of vitamin D treatment are the increased activity of regulatory T cells [81] and the reduction of pro-inflammatory molecules produced by stimulated monocytes [83] . These immunologic changes caused by vitamin D can be detected in culture, in samples obtained from MS patients, and in EAE. In EAE, treatment with vitamin D either prevents the development of symptoms when given early in the disease course [84] , or reduces the severity of EAE when treatment is initiated at onset of clinical signs or at peak disease [85] .Vitamin D is known to penetrate into the CNS, and it may potentially have several activities within the CNS including the reduction of antigen presentation to reduce neuroinflammation. More intriguing is the possibility that vitamin D may be neuro-protective. The enzymes necessary to synthesize the bioactive 1,25-dihydroxyvitamn D3 are present in the brain [86] . In rats that are deficient of vitamin D during gestation, abnormal brain development such as alteration of brain shape and enlargement of lateral ventricle volume has been observed. Mice with gestational vitamin D deficiency have impaired learning in adulthood [87] . In tissue culture, glutamate excitotoxicity to cortical, cerebellar or hippocampal neurons is reduced by vitamin D [88] . To what extent these neuroprotective activities of vitamin D account for its effect in MS remains to be clarified. Overall, there is substantial evidence that vitamin D corrects many of the immune abnormalities seen in MS. It is not clear which of its multiple mechanisms are most critical to its therapeutic efficacy. Whether some of the benefits of vitamin D may relate to its actions within the CNS remains to be determined.We are now at a point where the separate fields of MS epidemiology and basic laboratory research come together to improve our overall understanding of the disease process of MS. Recent epidemiological studies have identified new risk factors, not only associated with the risk of developing MS, but also, and perhaps more immediately important, with the MS disease course. While previous factors associated with MS disease course, such as gender or the age at disease onset, are not modifiable, the newly identified factors such as smoking and vitamin D levels are modifiable through individual and public health measures.Future studies on risk factors in MS will need to build upon the classical epidemiological studies and integrate the new factors into the \"big picture\". Such studies will need to unravel how the whole set of classic and newly identified factors interact with each other, how they are modulated by immunomodulatory drugs, genetic factors, gender and hormones, and at which stages of disease they have their greatest impact.Basic laboratory research can help us understand the mechanisms that underlie these epidemiological associations, and hopefully lead to useful experimental models and eventually new treatments.The authors declare no conflict of interest.\n",
      "In the past two decades, pathogenic coronaviruses (CoVs) have caused epidemic infections, including the server acute respiratory syndrome (SARS)-CoV outbreak in 2003, the Middle East Respiratory Syndrome Coronavirus (MERS-CoV) outbreak in 2012 and the current Wuhan 2019 Novel Coronavirus (2019-nCov) outbreak. They typically affect the respiratory tract and cause severe respiratory illnesses. We have learned from SARS-Cov and MERS-Cov that human populations showed disparities in susceptibility to these viruses. For example, epidemiology studies found that males had higher incidence and mortality rates than females. 1, 2 We believe that the susceptibility to the novel 2019-nCov is also different among population groups. In current severe global emergency situation of 2019-nCov outbreak, it is imperative to identify vulnerable and susceptible groups for effective protection and care.Recently, Xu et.al. computationally modelled protein interactions and identified a putative cell entry receptor of 2019-nCov, angiotensin-converting enzyme 2 (ACE2), which is also a receptor for SARS-nCov. 3 Zhou et.al. further confirmed this virus receptor in the HELA cell line. 4 Interestingly, Zhao et al. found ACE2 is specifically expressed in a subset of type II alveolar cells (AT2), in which genes regulating viral reproduction and transmission are highly expressed. 5 They also found that an Asian male had much higher ratio of ACE2-expressing cell than other seven white and African American donors, which may indicate the higher susceptibility of Asian. However, the sample size was too small to draw conclusion on this racial disparity. Here, we analyzed four large-scale bulk transcriptomic datasets of normal lung tissue to investigate the disparities related to race, age, gender and smoking status in ACE2 gene expression. Also, we analyzed two lung tissue single-cell transcriptomic datasets to investigate the distribution of ACE2 gene expression among cell types, which will provide new knowledge for understanding the mechanism and population disparities of 2019-nCov infection.. CC-BY-NC-ND 4.0 International license It is made available under a author/funder, who has granted medRxiv a license to display the preprint in perpetuity.is the (which was not peer-reviewed) The copyright holder for this preprint . https://doi.org/10.1101/2020.02.05.20020107 doi: medRxiv preprint Two RNA-seq datasets and two DNA microarray datasets from lung cancer patients were analyzed in this study, including a Caucasian RNA-seq dataset from TCGA (https://www.cancer.gov/tcga), an Asian RNA-seq dataset from Gene Expression Omnibus (GEO) with the accession number GSE40419 6 , an Asian microarray dataset from GEO with the accession number GSE19804 7 and a Caucasian microarray dataset from GEO with the accession number GSE10072 8 . Both RNA-seq datasets were generated with the Illumina HiSeq platform and both microarray datasets were generated with the Affymetrix GeneChip Human Genome U133 Array. The details and processing of data were described in our previous study 9 . All these datasets contain samples from tumor and normal pairs and we only use the normal samples in this study. In addition, we analyzed a GSE34450 10 microarray dataset of gene expression from small airway epithelium and large airway epithelium of 50 healthy nonsmokers and 71 healthy smokers. In total, 54 samples in the TCGA dataset, 77 samples in the GSE40419 dataset, 60 samples in the GSE19804 dataset, 33 samples in the GSE10072 dataset and 121 samples in the GSE34450 dataset were analyzed. We studied the Reads Per Kilobase per Million mapped reads (RPKM) values for RNA-seq data and Robust Multi-Array Average (RMA) 11 values for microarray data. All data were log2 transformed to improve normality. The means of data values across samples in datasets from the same platform were highly correlated (Pearson correlation coefficient r=0.9 for microarray datasets and r=0.97 for RNA-seq datasets, Fig. S1 ), indicating no significant system variation in datasets from the same platform.Simple linear regressions were used to test the association of ACE2 gene expression with each single variable of age, gender, race and smoking status. And, multiple linear regression was used to test the association of ACE2 expression with multiple factors (age, gender, race, smoking status and data platform). Also, ordinal regression was performed to investigate the association between ACE2 expression and ordinal categorical smoking history. All data management, statistical analyses and visualizations were accomplished using R 3.6.1.. CC-BY-NC-ND 4.0 International license It is made available under a author/funder, who has granted medRxiv a license to display the preprint in perpetuity.is the (which was not peer-reviewed) The copyright holder for this preprint . https://doi.org/10.1101/2020.02.05.20020107 doi: medRxiv preprintTwo single-cell RNA sequencing (scRNA-seq) datasets available in GEO with accession numbers GSE122960 12 and GSE131391 13 were downloaded and analyzed. The GSE122960 dataset was generated from lung tissue of 8 lung transplant donors (including 1 Asian former smoker, 2 Caucasian current smoker and 5 African American non-smokers), using 3' V2 chemistry kit on 10x Genomics Chromium single cell controller. The GSE131391 study profiled bronchial epithelial cells from 6 never and 6 current smokers using CEL-Seq 14 .Counts of single cells were downloaded, and subsequent data analyses were performed using the Seurat 3.0 package 15 , including data normalization, high variable feature selection, data scaling, dimension reduction and cluster identification. We also used SCANNER 16 to assist the data visualization and cell type identification.Inconsistent with the study of Zhao et al. 5 , we observed no significant difference in ACE2 expression in Caucasian lung tissue samples compared to Asian lung tissue samples in the RNAseq datasets (p-value=0.45, Fig 1A) . In the microarray datasets, a higher ACE2 expression was observed in Caucasian samples compared to Asian samples (p-value=0.001, Fig 1A) . Given that the GSE19804 microarray study focused on female nonsmokers while the GSE10072 dataset includes samples from both males and females and both smokers and non-smokers, we believe that the observed disparity may be due to other factors other than race, such as smoking, gender and unknown factors. Therefore, we performed multiple linear regression on multiple independent variables (age, gender, race, smoking status and platform) and found no significant difference between racial groups (p-value=0.36, Fig. 1B ).Furthermore, we didn't observe a disparity between age groups (>60 vs <60) or gender groups (male vs female) in ACE2 gene expression in each available dataset (Fig.   1C, D) . Consistently, multivariate analysis didn't detect a significant difference between . CC-BY-NC-ND 4.0 International license It is made available under a author/funder, who has granted medRxiv a license to display the preprint in perpetuity.is the (which was not peer-reviewed) The copyright holder for this preprint . https://doi.org/10.1101/2020.02.05.20020107 doi: medRxiv preprint groups of age or gender after other variables (age/gender, race, smoking status and platforms) were adjusted (p-value=0.90 for age, p-value=0.35 for gender, Fig. 1B) . We also consistently found no difference between male and female healthy lung tissue samples from GTEx 17 (Fig. S2 ).We found a significant higher ACE2 gene expression in smoker (including current smoker and former smoker) samples compared to non-smoker samples in the TCGA (p-value=0.05) and GSE40419 RNA-seq datasets (p-value=0.01, Fig. 2A ). Smokers in GSE10072 showed a higher mean of ACE2 gene expression than non-smokers. The difference is not significant (p-value=0.18), which may be due to the small sample size of this study (n=33) with insufficient power to detect the difference. The GSE19804 data which has only non-smoker samples available was not included into the analysis. Adjusted by other factors (age, gender, race and platforms) in multivariate analysis, smoking still shows a significant disparity in ACE2 gene expression (p-value=0.01, Fig. 1B) . These data were from the normal lung tissue of patients with lung adenocarcinoma, which may be different with the lung tissue of healthy people. Therefore, we also analyzed a gene expression dataset of airway epithelium from healthy smokers and healthy non-smokers. Consistently, we observed a significant upregulation of ACE2 gene expression in both large airway epithelium and small airway epithelium of smokers (p-value=4.99E-4 and 7.02E-3, respectively, Fig. 2C ). Furthermore, we investigated ordinal categorized smoking history (non-smoker, former smoker quit more than 15yrs, former smoker quit less than15yrs, and current smoker) and showed results in Figure 2B . In the TCGA dataset, we found a significant trend of ACE2 gene expression regulation associated with the smoking history that current smokers had the highest expression, non-smokers had the lowest expression and former smokers had that inbetween (ordinal regression p-value=0.01, Fig. 2B ). We found a similar but non-significant trend in the GSE10072 due to its small size (ordinal regression p-value=0.11). We didn't observe such a tread in the TCGA dataset. Instead, we found a higher average expression in recent quitters (<=15 years) compared to non-smokers, current smokers and former . CC-BY-NC-ND 4.0 International license It is made available under a author/funder, who has granted medRxiv a license to display the preprint in perpetuity.is the (which was not peer-reviewed) The copyright holder for this preprint . https://doi.org/10.1101/2020.02.05.20020107 doi: medRxiv preprint smokers who have quit for longer durations (>15 years). This may indicate a difference in ACE2 gene expression between Caucasian and Asian current smokers, but it is not statistically significantly detected due to the limited sample size in this study (p-value=0.43).Compared to non-smokers, multivariate analysis on all data showed a significant higher ACE2 expression in former smokers (p-value=0.04) and a higher mean of ACE2 expression in current smokers, which did not reach statistical significance from current analysis though (p-value=0.11).Duclos G et.al. studied human bronchial epithelial cells using single-cell RNA sequencing and found smokers showed a remodeled cell composition in bronchial epithelium with a loss of club cells and extensive hyperplasia of goblet cells. 14 We confirmed their analysis in this study based on the same set of cell makers, including KRT5 for basal cells, FOXJ1 for ciliated cells, SCGB1A1 for club cells, MUC5AC for goblet cells and CD45 for WBCs (white blood cells) (Fig. 3A,C, Fig. S3) . We also identified a smoking related basal cell subpopulation which might be pro-goblet precursor cells and has been discussed in the study of Duclos G et.al. 14 Interestingly, we found ACE2 is mainly expressed in goblet cells in current smokers and club cells in non-smokers (Fig. 3B) , indicating 2019-nCov may infect different cell types in bronchial epithelium of current smokers and non-smokers.Further, we analysed a scRNA-seq dataset of whole-lung tissue. Based on the expression of a set of markers shown in Figure 4C and Figure S4 , we identified 13 distinct cell populations including alveolar type I (AT1) cells, alveolar type II (AT2) cells, endothelial cells, ciliated cells, club cells, fibroblast, monocytes, macrophages, B, T cell or natural killer T cell (T/NKT), dendritic cells, a former smoker-specific subpopulation of AT2 cells (AT2reformed) and a current smoker-specific subpopulation of AT2 cells (AT2-smoking) (Fig. 4A) .Significantly, current smoker and former smoker showed differently remodelled AT2 cells (AT2-smoking and AT2-reformed, respectively). Also, we found ACE2 is most actively expressed in AT2-reformed cells in former Asian smokers but not in Caucasian current smokers and African American non-smokers (Fig. 4B, D) , which is consistent with our finding . CC-BY-NC-ND 4.0 International license It is made available under a author/funder, who has granted medRxiv a license to display the preprint in perpetuity.is the (which was not peer-reviewed) The copyright holder for this preprint . https://doi.org/10.1101/2020.02.05.20020107 doi: medRxiv preprint from above large-scale bulk transcriptome analysis. In addition, we observed an expression of MUSC5AC (the marker of goblet cells) in a subpopulation of club cells of current smokers, indicating the smoking related tissue remodelling with club cell loss and goblet cell hyperplasia (Fig. S5 top) . This is consistent with our finding in bronchial epithelium.However, we failed to observe an active expression of ACE2 in the goblet cells of current smokers in a way similar to what we found in bronchial epithelial cells (Fig. S5 bottom) . The limited cell number of this cluster in this dataset might be the reason.In this study, we investigated the disparities related to race, age, gender and smoking status in ACE2 gene expression by analyzing bulk and single-cell transcriptome data. We found significantly higher ACE2 gene expression in lung tissue of former smokers compared to that of non-smokers. This may explain the reason why more males (56% of 425 cases) were found in a recent epidemiology report of 2019-nCov early transmission by China CDC 18 . It also consistent with the epidemiology study of 24,554 cases that former smokers (49%) have the higher risk to develop severe disease than non-smokers (14.5%) and current smokers (21.7%) 19 . We didn't observe significant disparities in ACE2 gene expression between racial groups (Asian vs Caucasian), age groups (>60 vs <60) or gender groups (male vs female). However, Asian current smokers may have higher ACE2 gene expression than Caucasian current smokers. The different is not statistically significant in this study but may indicate an existence of gene-smoking interaction.We also found that ACE2 gene is expressed in specific cell types related to smoking history and location. In bronchial epithelium, ACE2 is actively expressed in goblet cells of current smokers and club cells of non-smokers. In alveoli, ACE2 is actively expressed in remodelled AT2 cells of former smokers. This may indicate that 2019-nCov infect respiratory tract through different paths in smokers, former smokers and non-smokers, and this may partially lead to different susceptibility, disease severity and treatment outcome.. CC-BY-NC-ND 4.0 International license It is made available under a author/funder, who has granted medRxiv a license to display the preprint in perpetuity.is the (which was not peer-reviewed) The copyright holder for this preprint . https://doi.org/10.1101/2020.02.05.20020107 doi: medRxiv preprint One limitation of this study is that the small sample size of current single-cell transcriptome datasets has limited power in studying multiple factors involved in this question.Whether ACE2 is the only or major receptor of 2019-nCov is unknown. The reason(s) for the tobacco-related disparity in ACE2 expression is unknown. Studies found smoke significantly increased ACE2 expression in the lung of rats 20 There is no direct involvement of human subjects in this study. All the data use existing deidentified biological samples and data from prior studies. Therefore, ethical oversight and patient consent were not handled in this project. Figure   Figure 1 . ACE2 gene expression profiles in groups.A, C and D shows groups in race (Caucasian vs Asian), age (>60 vs <60) and gender (male vs female). B shows the result from multivariate analysis with all factors including age, gender, race, smoking and platforms.. CC-BY-NC-ND 4.0 International license It is made available under a author/funder, who has granted medRxiv a license to display the preprint in perpetuity.is the (which was not peer-reviewed) The copyright holder for this preprint . https://doi.org/10.1101/2020.02.05.20020107 doi: medRxiv preprint A shows expression in normal lung tissues of smoker and non-smoker with lung adenocarcinoma. B shows expression in normal lung tissues of never-smoker/non-smoker, reformed/former smoker and current smoker with lung adenocarcinoma. TCGA dataset has more categories of smoking history, including never-smoker, smoker reformed more than 15 years, smoker reformed less than 15 years and current smoker. C shows expression in healthy lungs of smoker and non-smoker.. CC-BY-NC-ND 4.0 International license It is made available under a author/funder, who has granted medRxiv a license to display the preprint in perpetuity.is the (which was not peer-reviewed) The copyright holder for this preprint . https://doi.org/10.1101/2020.02.05.20020107 doi: medRxiv preprint . CC-BY-NC-ND 4.0 International license It is made available under a author/funder, who has granted medRxiv a license to display the preprint in perpetuity.is the (which was not peer-reviewed) The copyright holder for this preprint . https://doi.org/10.1101/2020.02.05.20020107 doi: medRxiv preprint . CC-BY-NC-ND 4.0 International license It is made available under a author/funder, who has granted medRxiv a license to display the preprint in perpetuity.is the (which was not peer-reviewed) The copyright holder for this preprint . https://doi.org/10.1101/2020.02.05.20020107 doi: medRxiv preprint\n",
      "In Korea, several types of chemical disinfectants that had been widely used in humidifiers since 1994 were found to be associated with lung injury, including interstitial pneumonitis and widespread lung fibrosis, 1,2 collectively referred to as humidifier disinfectant-associated lung injury (HDLI). In 2011, the Korea Centers for Disease Control and Prevention and the Korean Ministry of Environment began a program to collect information on individuals with respiratory disease, including lung injury, who presumed their disease to be related to the use of humidifier disinfectants (HDs), in order to determine the veracity of these claims. Approximately 75.6% of Korean children used humidifiers, and 31.1% of children were exposed to HDs. 3 As of March 2018, the number of cases of respiratory damage reported by people who thought their diseases were related to HDs exceeded 6,000. Among these cases, to date, a total of 416 people (179 deaths and 237 survivors) have been judged as having suffered from HDLI. 4 Though there have been various studies on related issues such as the examination of causal relationships between respiratory damage and HD use, 1,5-9 discussion on a national surveillance system to track toxic chemical substances, 10 and the government's legal liability, 11 few studies focusing on psychological responses among victims have been conducted. Considering that several studies related to the sequelae of toxic chemical substance disasters pointed out physical and psychological symptoms such as posttraumatic stress disorder (PTSD), anxiety, and depression among victims, 12-14 it is important to investigate psychological responses in the aftermath of HD disasters.After the Ministry of Environment set out to monitor physical and psychological health among HD disaster victims and their family members mainly in cooperation with Asan Medical Center (Seoul), the National Center for Mental Health, affiliated to the Ministry of Health and Welfare, was requested to conduct psychological assessment and counseling support.In May 2016, it was decided that mental health support would be provided to 138 victims and 205 family members, as well as 288 bereaved family members who were confirmed to be suffering from respiratory diseases resulting from HDs. Subjects were assigned to 5 regional National Mental Health Centers corresponding to their areas of residence. The National Center for Mental Health (NCMH) provided psychological support to subjects in Seoul and Gyeonggi province.The aim of the psychological support from NCMH was to screen the high risk group regarding mental health via telephone, and in case of need, refer them to the local mental health centers in communities for psychological treatment. Psychological support was carried out in accordance with the psychological support guidelines which had been shared with Asan Medical Center (Seoul) and 5 regional National Mental Health Centers. Also, trained mental health specialists and psychiatrists in charge of intervention via telephone had been educated about the procedure and the interview process in advance, and all results of the telephone counseling were shared with the psychological support team in the NCMH every day. Based on the same psychological support guidelines, mental health specialists or psychiatrists conducted primary telephone counseling and visited each subject in case of necessity from June to December 2016. A mental health specialist conducted psychological evaluation through open-ended conversations using semi-structured questions (e.g., \"Have you experienced insomnia since the event?\"). The evaluation interview included previous physical or mental illness, respiratory symptoms, emotional responses (e.g., sadness, depression, anger, anxiety, fear, and guilt), and behavioral responses (e.g., insomnia, avoidance, and isolation). Subjects were informed of the purpose of the counseling as well as the fact that continued counseling would be available if they provided consent.General impressions about psychological distress were rated using the Clinical Global Impression-Severity (CGI-S) 15 scale, which has a range of responses from 1 (normal) to 7 (among the most severely ill patients). To determine the need to monitor subjects and make referrals to psychiatric hospitals or local mental health centers, the severity of psychological distress was classified into 4 levels corresponding to CGI-S scores: level 1, \"normal\" (CGI-S score = 1, not at all ill); level 2, \"slightly normal\" (CGI-S score between 2 and 3, borderline to mildly ill); level 3, \"slightly bad\" (CGI-S score between 4 and 5, moderately-markedly ill and possibly in need of medical treatment); and level 4, \"very bad\" (CGI-S score from 6-7, severely to most extremely ill, in need of support from others and possible hospitalization).Counseling records of 118 people (26 victims, 47 family members of victims, 45 bereaved family members of victims) who cooperatively engaged in the call or counseling services provided by the NCMH were retrospectively analyzed. Family members were divided into 2 groups-bereaved because of HDs and others-to compare psychological responses. HD disaster-related symptoms were compared between 3 groups (victims, the bereaved, other family members) using χ 2 tests.The study and consent exemptions were authorized by the Institutional Review Board (IRB) of the NCMH (IRB No. 116271-2016-03).Among 26 victims (10 men, 38.5%; mean age, 46.2 years; standard deviation [SD], 11.2), 11 (42.3%) had reported the exposure period to HD substances, which was a minimum of 3 months to a maximum of 120 months (median 6 months). Forty-seven family members of victims (21 men, 44.7%; mean age, 42.7 years; SD, 7.6) included 32 (68.1%) parents and 13 (27.7%) spouses. Forty-five bereaved family members (25 men, 55.6%; mean age, 42.8 years; SD, 7.0) included 28 (70.0%) parents and 11 (27.5%) spouses of the deceased.The frequency of psychological responses among victims and family members including the bereaved is described in Table 1 . It was revealed that 65.4% of victims had respiratory symptoms. Anxiety/fear and depression were the most frequently observed psychological symptoms in victims, significantly higher than in the bereaved group (38.5% and 6.7%, P = 0.001; 35.5% and 8.9%, P = 0.003, respectively). Also, the level of anger felt by victims (30.8%) was significantly higher than other groups (2.1% and 6.7%, P < 0.001).With respect to the clinical severity of psychological distress demonstrated by the CGI-S, only 7.7% of victims were classified into the \"normal\" group, whereas scores of 34.6% of victims 4-5 (\"slightly bad\" group, possible medical treatment). Moreover, 1.2% of victims scored higher than 6 (\"very bad\" group, possible hospitalization). Additionally, during the interviews, victims expressed distrust and anxiety regarding chemical substances and concerns about the respiratory aftereffects of HD use, as well as chronic depression including helplessness and decline of self-confidence.Anxiety/fear and depression were the most common symptoms among family members of victims (19.1% and 21.3%, respectively). Although family members of victims had not suffered damage to the respiratory system, they, along with the bereaved, had also experienced respiratory symptoms (21.3% and 11.1%).However, the bereaved showed a relatively higher rate of alcohol/smoking abuse and insomnia than other psychological responses.The findings from this study demonstrated that HD disaster victims and their family members including the bereaved still experienced psychological distress even 7 years after the event. However, the characteristics of psychological symptoms among subject groups were slightly different; victims frequently showed anxiety and fear, whereas the bereaved showed alcohol/smoking abuse and insomnia, which indicates chronic psychological distress.With regard to the severity of psychological distress using the CGI-S, 34.6% of victims were classified into the \"slightly bad\" group that needed to consider psychiatric treatment. In several studies, the prevalence of PTSD in the first year after human-made/technological disasters has been documented to range between approximately 25 and 75 percent, which is generally higher than that documented in studies after natural disasters. 16 Especially in terms of the aftermath of toxic chemical substance disasters, it has been reported that prolonged psychological symptoms such as anxiety last regardless of the elapse of time. For example, among the 474 people who were exposed to methyl isocyanate gas in India, the frequency of anxiety was 65% and depression 25% even 9 years after the disaster. 13 Similarly, 32% of the Tokyo subway disaster victims exposed to sarin gas experienced PTSD symptoms even after 5 years. 12 The reasons for psychological responses lasting for such long periods after disasters could include hidden exposure and prolonged potential complications including cancer and genetic disorders. 17, 18 Compared to the grief and anger of family members of those who succumbed to Middle East Respiratory Syndrome and received similar psychological support from the NCMH in 2015 (81.3% and 51.6%, respectively), the grief and anger of bereaved family members of HD victims were lower. This implies that the psychological responses of the bereaved might be relieved by mourning victims' deaths. The relatively high rates of alcohol/smoking abuse and insomnia among bereaved family members of HD disaster victims imply that the bereaved might be suffering from chronic psychological distress.It was revealed that family members of victims experienced not only anxiety and fear but also respiratory symptoms, even though their respiratory systems might not have been damaged. This result would be understandable considering previous findings, as follows: 1) toxic chemical substance disasters trigger high anxiety because it can be difficult to identify prolonged complications 18 and 2) somatization symptoms observed in toxic chemical substance disaster victims need to be regarded from both the organic and psychogenic perspectives because physical symptoms can be related to psychiatric symptoms such as anxiety, depression, and anger as well as the degree of exposure to toxic chemical substances. 17 Prolonged psychological distress among victims and their family members (including the bereaved) might be caused by the absence of adequate psychological support such as psychological first aid immediately after the event. According to Ponsford et al., 19 patients in the non-intervention group reported more symptoms and were significantly more stressed than those in the early intervention group, which implies that psychological intervention immediately after a traumatic event mitigates psychological distress. Also, Brewin et al. 20 reported that outreach with screening, linked to the provision of evidence-based treatment, significantly mitigated posttraumatic symptoms among London bombing victims. In addition to the absence of psychological support, there can be several stressors such as monetary compensation and legal suits that arouse prolonged psychological distress. In fact, there is an outpouring of blame and anger from victims and their families toward the administration in terms of neglecting their duties in managing HD products as well as manufacturers and sellers.Limitations of this study may be derived from analyzing the initial counseling records via telephone, which might hinder detailed examination of mental health of HDs victims. However, considering that psychological aftereffects of HD disaster have been disregarded due to the legal problems related to judgement and compensation, it is valuable to reveal the need of psychological intervention as well as financial compensation for the HDs victims. Further research is needed to elucidate the predictors of psychological responses and which way of intervention will be as effective when toxic chemical disasters occur.In conclusion, the findings from this study imply that the psychological aftereffects of HD disasters continue despite the time elapsed. Also, victims of HD disasters mainly experience anxiety/fear, depression, and anger while bereaved family members show relatively high rates of alcohol/smoking abuse and insomnia. Hence, it is important to provide psychological support to victims and their families, focusing on the characteristic symptoms of each group as well as monetary compensation for the damage caused.\n"
     ]
    }
   ],
   "source": [
    "for i in range(len(results)):\n",
    "    print(results[i].text())\n",
    "    \n"
   ]
  },
  {
   "cell_type": "code",
   "execution_count": 130,
   "metadata": {},
   "outputs": [],
   "source": [
    "import re\n",
    "import nltk\n",
    "\n",
    "# Get a list of stopwords from nltk\n",
    "stopwords = nltk.corpus.stopwords.words(\"english\")\n",
    "\n",
    "def clean_text(text):\n",
    "    # Removing Square Brackets and Extra Spaces\n",
    "    text = re.sub(r'\\[[0-9]*\\]',' ', text)\n",
    "    text = re.sub(r'\\s+',' ', text)\n",
    " \n",
    "    text = re.sub(r'\\{\\{[\\s\\S]*?\\}\\}', '', text)\n",
    "    return text\n",
    "\n",
    "def clean_spchar_digs(text):\n",
    "    # Removing special characters and digits\n",
    "    text = re.sub('[^a-zA-Z]', ' ', text )\n",
    "    text = re.sub(r'\\s+', ' ', text)\n",
    "    \n",
    "    return text\n",
    "\n",
    "def word_freq(formatted_text):\n",
    "    #creates a dictionary of words as keys and frequency as values\n",
    "    word_frequencies = {}\n",
    "    for word in nltk.word_tokenize(formatted_text):\n",
    "        if word not in stopwords:\n",
    "            if word not in word_frequencies.keys():\n",
    "                word_frequencies[word] = 1\n",
    "            else:\n",
    "                word_frequencies[word] += 1\n",
    "\n",
    "    maximum_frequency = max(word_frequencies.values())\n",
    "    #divides the values by the maximum frequency\n",
    "    for word in word_frequencies.keys():\n",
    "        word_frequencies[word] = (word_frequencies[word]/maximum_frequency)\n",
    "    \n",
    "    return word_frequencies\n",
    "\n",
    "def sent_scores(sentence_list, word_frequencies):\n",
    "    #uses the word frequencies to score the sentences by adding up the scores\n",
    "    #of the words that make up the sentence\n",
    "    sentence_scores = {}\n",
    "    for sent in sentence_list:\n",
    "        for word in nltk.word_tokenize(sent.lower()):\n",
    "            if word in word_frequencies.keys():\n",
    "                if len(sent.split(' ')) <60: #limits sentence to less than 60 words\n",
    "                    if sent not in sentence_scores.keys():\n",
    "                        sentence_scores[sent] = word_frequencies[word]\n",
    "                    else:\n",
    "                        sentence_scores[sent] += word_frequencies[word]\n",
    "                    \n",
    "    return sentence_scores\n",
    "\n",
    "def get_summary(dirty_text):\n",
    "    '''\n",
    "    Input: text that is already filtered for desired keywords\n",
    "    '''\n",
    "    #cleans the text\n",
    "    text = clean_text(dirty_text)\n",
    "    #remove special chars and nums\n",
    "    formatted_text = clean_spchar_digs(text)\n",
    "    #tokenize\n",
    "    sentence_list = nltk.sent_tokenize(text)\n",
    "    #wordfrequencies\n",
    "    word_frequencies = word_freq(formatted_text)\n",
    "    #dictionary of sentences with sentence as key and word frequency score as value\n",
    "    sentence_scores = sent_scores(sentence_list,word_frequencies)\n",
    "    \n",
    "    summary_sentences = heapq.nlargest(7, sentence_scores, key=sentence_scores.get) #first value is number highest scoring sentences to print\n",
    "    summary = '\\n\\n '.join(summary_sentences)\n",
    "    return summary\n",
    "\n",
    "def run_nlp(fulltexts, searchlist):\n",
    "    '''\n",
    "    Input: list of key words\n",
    "    Output: sentence with a keyword and a covid aliases summarizer thought were important\n",
    "    '''\n",
    "    #get summary where all you have to do is provide the words you are searching for in a list\n",
    "    covid_alias = ['CoV', 'COVID', 'Covid', 'corona virus', 'coronavirus', 'Coronavirus', 'Corona virus'] #depending on here the results w\n",
    "    #dictionary of sentences that contain the key terms\n",
    "    desired_sents = {}\n",
    "    #dictionary of sentences that contain a covid alias\n",
    "    covid_sents = {}\n",
    "    \n",
    "    for text in fulltexts:\n",
    "        for sentence in text.split('. '):\n",
    "            for i in searchlist:\n",
    "                if i.lower() in sentence.lower(): #using .lower changes the results dramatically\n",
    "                    if sentence not in desired_sents.keys():\n",
    "                        desired_sents[sentence] = sentence \n",
    "            for j in covid_alias:\n",
    "                if j in sentence:\n",
    "                    if sentence not in covid_sents.keys():\n",
    "                        covid_sents[sentence] = sentence\n",
    "    desired_sents = set(desired_sents.keys())\n",
    "    covid_sents = set(covid_sents.keys())\n",
    "    #list of the intersetion of sentences with key terms and covid aliases\n",
    "    desired_sents = list(desired_sents.intersection(covid_sents))\n",
    "    \n",
    "    desired_text = ''\n",
    "    for x in desired_sents:\n",
    "        desired_text += ' ' + x\n",
    "    \n",
    "    result = get_summary(desired_text)\n",
    "    return result"
   ]
  },
  {
   "cell_type": "code",
   "execution_count": 103,
   "metadata": {},
   "outputs": [],
   "source": [
    "# tasks = [('What is known about transmission, incubation, and environmental stability?', \n",
    "#         'transmission incubation environment coronavirus'),\n",
    "#         ('What do we know about COVID-19 risk factors?', 'risk factors'),\n",
    "#         ('What do we know about virus genetics, origin, and evolution?', 'genetics origin evolution'),\n",
    "#         ('What has been published about ethical and social science considerations','ethics ethical social'),\n",
    "#         ('What do we know about diagnostics and surveillance?','diagnose diagnostic surveillance'),\n",
    "#         ('What has been published about medical care?', 'medical care'),\n",
    "#         ('What do we know about vaccines and therapeutics?', 'vaccines vaccine vaccinate therapeutic therapeutics')] \n",
    "# tasks = pd.DataFrame(tasks, columns=['Task', 'Keywords'])\n",
    "\n",
    "\n",
    "# def show_task(Task):\n",
    "#     print(Task)\n",
    "#     keywords = tasks[tasks.Task == Task].Keywords.values[0]\n",
    "#     search_results = bm25_index.search(keywords, n=200)\n",
    "#     return search_results\n",
    "    \n",
    "# results = interact(show_task, Task = tasks.Task.tolist());"
   ]
  },
  {
   "cell_type": "markdown",
   "metadata": {},
   "source": [
    "## Text Summarizer\n",
    "Now that we have the queries working we need to summarize the text"
   ]
  }
 ],
 "metadata": {
  "kernelspec": {
   "display_name": "Python 3",
   "language": "python",
   "name": "python3"
  },
  "language_info": {
   "codemirror_mode": {
    "name": "ipython",
    "version": 3
   },
   "file_extension": ".py",
   "mimetype": "text/x-python",
   "name": "python",
   "nbconvert_exporter": "python",
   "pygments_lexer": "ipython3",
   "version": "3.7.3"
  }
 },
 "nbformat": 4,
 "nbformat_minor": 2
}
