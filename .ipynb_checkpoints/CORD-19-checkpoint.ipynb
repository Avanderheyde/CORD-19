{
 "cells": [
  {
   "cell_type": "markdown",
   "metadata": {},
   "source": [
    "# COVID-19 Open Research Dataset Challenge\n",
    "\n",
    "https://www.youtube.com/watch?v=S6GVXk6kbcs"
   ]
  },
  {
   "cell_type": "code",
   "execution_count": 2,
   "metadata": {},
   "outputs": [],
   "source": [
    "import os \n",
    "import pandas as pd\n",
    "import json\n",
    "from tqdm import tqdm\n",
    "import re\n",
    "import matplotlib.pyplot as plt\n",
    "import heapq\n",
    "from rank_bm25 import BM25Okapi\n",
    "import nltk\n",
    "import nltk.corpus import stopwords\n"
   ]
  },
  {
   "cell_type": "code",
   "execution_count": 48,
   "metadata": {},
   "outputs": [],
   "source": [
    "metadata = pd.read_csv(\"metadata.csv\") \n",
    "metadata = metadata.dropna(subset=['sha'])\n",
    "metadata.rename(columns={\"sha\": \"paper_id\"}, inplace = True)\n",
    "metadata.rename(columns={\"source_x\": \"source\"}, inplace = True)\n",
    "metadata= metadata.drop(columns = ['title','abstract'])"
   ]
  },
  {
   "cell_type": "code",
   "execution_count": 49,
   "metadata": {},
   "outputs": [
    {
     "name": "stderr",
     "output_type": "stream",
     "text": [
      "  9%|▊         | 76/885 [00:00<00:01, 747.33it/s]"
     ]
    },
    {
     "name": "stdout",
     "output_type": "stream",
     "text": [
      "biorxiV_medrxiv\n"
     ]
    },
    {
     "name": "stderr",
     "output_type": "stream",
     "text": [
      "100%|██████████| 885/885 [00:01<00:00, 748.33it/s]\n",
      "  1%|          | 53/9118 [00:00<00:17, 512.28it/s]"
     ]
    },
    {
     "name": "stdout",
     "output_type": "stream",
     "text": [
      "comm_use_subset\n"
     ]
    },
    {
     "name": "stderr",
     "output_type": "stream",
     "text": [
      "100%|██████████| 9118/9118 [00:17<00:00, 521.04it/s]\n",
      "  0%|          | 0/16959 [00:00<?, ?it/s]"
     ]
    },
    {
     "name": "stdout",
     "output_type": "stream",
     "text": [
      "custom_license\n"
     ]
    },
    {
     "name": "stderr",
     "output_type": "stream",
     "text": [
      "100%|██████████| 16959/16959 [00:27<00:00, 611.60it/s]\n",
      "  4%|▍         | 89/2353 [00:00<00:02, 884.96it/s]"
     ]
    },
    {
     "name": "stdout",
     "output_type": "stream",
     "text": [
      "noncomm_use_subset\n"
     ]
    },
    {
     "name": "stderr",
     "output_type": "stream",
     "text": [
      "100%|██████████| 2353/2353 [00:03<00:00, 646.33it/s]\n"
     ]
    }
   ],
   "source": [
    "#, 'comm_use_subset', 'custom_license', 'noncomm_use_subset'\n",
    "dirs = ['biorxiV_medrxiv', 'comm_use_subset', 'custom_license', 'noncomm_use_subset']\n",
    "\n",
    "docs = []\n",
    "for d in dirs:\n",
    "    print(d)\n",
    "    for file in tqdm(os.listdir(f\"{d}/{d}\")):\n",
    "        filepath = f\"{d}/{d}/{file}\"\n",
    "        j = json.load(open(filepath,'rb'))\n",
    "        title = j['metadata']['title']\n",
    "        paper_id = j['paper_id']\n",
    "        try: \n",
    "            abstract = j['abstract'][0]['text']\n",
    "        except:\n",
    "            abstract = ''\n",
    "            \n",
    "        fulltext = ''\n",
    "        for text in j['body_text']:\n",
    "            fulltext += text['text']\n",
    "        docs.append([paper_id,title, abstract, fulltext])\n"
   ]
  },
  {
   "cell_type": "code",
   "execution_count": 50,
   "metadata": {
    "scrolled": true
   },
   "outputs": [
    {
     "data": {
      "text/plain": [
       "29315"
      ]
     },
     "execution_count": 50,
     "metadata": {},
     "output_type": "execute_result"
    }
   ],
   "source": [
    "df = pd.DataFrame(docs, columns = ['paper_id','title', 'abstract', 'fulltext'])\n",
    "len(df)"
   ]
  },
  {
   "cell_type": "code",
   "execution_count": 52,
   "metadata": {
    "scrolled": false
   },
   "outputs": [],
   "source": [
    "allpapers_df = pd.merge(df, metadata, on=\"paper_id\")\n",
    "allpapers_df['journal'] = allpapers_df['journal'].astype(str)\n",
    "peer_reviewed = allpapers_df['journal'] !='nan'\n",
    "allpapers_df.insert(12, \"peer_reviewed\", peer_reviewed, True) "
   ]
  },
  {
   "cell_type": "code",
   "execution_count": 53,
   "metadata": {},
   "outputs": [
    {
     "data": {
      "text/html": [
       "<div>\n",
       "<style scoped>\n",
       "    .dataframe tbody tr th:only-of-type {\n",
       "        vertical-align: middle;\n",
       "    }\n",
       "\n",
       "    .dataframe tbody tr th {\n",
       "        vertical-align: top;\n",
       "    }\n",
       "\n",
       "    .dataframe thead th {\n",
       "        text-align: right;\n",
       "    }\n",
       "</style>\n",
       "<table border=\"1\" class=\"dataframe\">\n",
       "  <thead>\n",
       "    <tr style=\"text-align: right;\">\n",
       "      <th></th>\n",
       "      <th>paper_id</th>\n",
       "      <th>title</th>\n",
       "      <th>abstract</th>\n",
       "      <th>fulltext</th>\n",
       "      <th>source</th>\n",
       "      <th>doi</th>\n",
       "      <th>pmcid</th>\n",
       "      <th>pubmed_id</th>\n",
       "      <th>license</th>\n",
       "      <th>publish_time</th>\n",
       "      <th>authors</th>\n",
       "      <th>journal</th>\n",
       "      <th>peer_reviewed</th>\n",
       "      <th>Microsoft Academic Paper ID</th>\n",
       "      <th>WHO #Covidence</th>\n",
       "      <th>has_full_text</th>\n",
       "      <th>full_text_file</th>\n",
       "    </tr>\n",
       "  </thead>\n",
       "  <tbody>\n",
       "    <tr>\n",
       "      <td>0</td>\n",
       "      <td>f905f78b32f63c6d14a79984dfb33f1b358b8ab4</td>\n",
       "      <td>Multimerization of HIV-1 integrase hinges on c...</td>\n",
       "      <td>New anti-AIDS treatments must be continually d...</td>\n",
       "      <td>In the absence of a curative treatment, the hi...</td>\n",
       "      <td>biorxiv</td>\n",
       "      <td>10.1101/301721</td>\n",
       "      <td>NaN</td>\n",
       "      <td>NaN</td>\n",
       "      <td>biorxiv</td>\n",
       "      <td>2018-04-16</td>\n",
       "      <td>Galilee, M.; Alian, A.</td>\n",
       "      <td>nan</td>\n",
       "      <td>False</td>\n",
       "      <td>NaN</td>\n",
       "      <td>NaN</td>\n",
       "      <td>True</td>\n",
       "      <td>biorxiv_medrxiv</td>\n",
       "    </tr>\n",
       "    <tr>\n",
       "      <td>1</td>\n",
       "      <td>abcfffafab399149d4adadd6bb458c4994e2025d</td>\n",
       "      <td>Time-varying transmission dynamics of Novel Co...</td>\n",
       "      <td>Rationale: Several studies have estimated basi...</td>\n",
       "      <td>Eighteen years ago, severe acute respiratory s...</td>\n",
       "      <td>biorxiv</td>\n",
       "      <td>10.1101/2020.01.25.919787</td>\n",
       "      <td>NaN</td>\n",
       "      <td>NaN</td>\n",
       "      <td>biorxiv</td>\n",
       "      <td>2020-02-13</td>\n",
       "      <td>Liu, T.; Hu, J.; Xiao, J.; He, G.; Kang, M.; R...</td>\n",
       "      <td>nan</td>\n",
       "      <td>False</td>\n",
       "      <td>NaN</td>\n",
       "      <td>NaN</td>\n",
       "      <td>True</td>\n",
       "      <td>biorxiv_medrxiv</td>\n",
       "    </tr>\n",
       "    <tr>\n",
       "      <td>2</td>\n",
       "      <td>0cb9c296684ca5e71462d825cab2827854a01544</td>\n",
       "      <td>p53 is not necessary for DUX4 pathology</td>\n",
       "      <td>Summary Statement: DUX4 is thought to mediate ...</td>\n",
       "      <td>Facioscapulohumeral muscular dystrophy (FSHD) ...</td>\n",
       "      <td>biorxiv</td>\n",
       "      <td>10.1101/118315</td>\n",
       "      <td>NaN</td>\n",
       "      <td>NaN</td>\n",
       "      <td>biorxiv</td>\n",
       "      <td>2017-03-19</td>\n",
       "      <td>Bosnakovski, D.; Toso, E. A.; Recht, O. O.; Cu...</td>\n",
       "      <td>nan</td>\n",
       "      <td>False</td>\n",
       "      <td>NaN</td>\n",
       "      <td>NaN</td>\n",
       "      <td>True</td>\n",
       "      <td>biorxiv_medrxiv</td>\n",
       "    </tr>\n",
       "    <tr>\n",
       "      <td>3</td>\n",
       "      <td>9bbfd3d34ee18ea1b9f4669331a6cee9c5992893</td>\n",
       "      <td>Virological assessment of hospitalized cases o...</td>\n",
       "      <td>emerged in late 2019 1,2 . Initial outbreaks i...</td>\n",
       "      <td>Pharyngeal virus shedding was very high during...</td>\n",
       "      <td>medrxiv</td>\n",
       "      <td>10.1101/2020.03.05.20030502</td>\n",
       "      <td>NaN</td>\n",
       "      <td>NaN</td>\n",
       "      <td>medrvix</td>\n",
       "      <td>2020-03-08</td>\n",
       "      <td>Roman Woelfel; Victor Max Corman; Wolfgang Gug...</td>\n",
       "      <td>nan</td>\n",
       "      <td>False</td>\n",
       "      <td>NaN</td>\n",
       "      <td>NaN</td>\n",
       "      <td>True</td>\n",
       "      <td>biorxiv_medrxiv</td>\n",
       "    </tr>\n",
       "    <tr>\n",
       "      <td>4</td>\n",
       "      <td>1218f278a4f8d83dac14b23c8f698062812ef9d5</td>\n",
       "      <td>Potential impact of seasonal forcing on a SARS...</td>\n",
       "      <td>A novel coronavirus (SARS-CoV-2) first detecte...</td>\n",
       "      <td>(2.2 with 90% high density interval 1.4-3.8 (R...</td>\n",
       "      <td>medrxiv</td>\n",
       "      <td>10.1101/2020.02.13.20022806</td>\n",
       "      <td>NaN</td>\n",
       "      <td>NaN</td>\n",
       "      <td>medrvix</td>\n",
       "      <td>2020-02-17</td>\n",
       "      <td>Richard A Neher; Robert Dyrdak; Valentin Druel...</td>\n",
       "      <td>nan</td>\n",
       "      <td>False</td>\n",
       "      <td>NaN</td>\n",
       "      <td>NaN</td>\n",
       "      <td>True</td>\n",
       "      <td>biorxiv_medrxiv</td>\n",
       "    </tr>\n",
       "  </tbody>\n",
       "</table>\n",
       "</div>"
      ],
      "text/plain": [
       "                                   paper_id  \\\n",
       "0  f905f78b32f63c6d14a79984dfb33f1b358b8ab4   \n",
       "1  abcfffafab399149d4adadd6bb458c4994e2025d   \n",
       "2  0cb9c296684ca5e71462d825cab2827854a01544   \n",
       "3  9bbfd3d34ee18ea1b9f4669331a6cee9c5992893   \n",
       "4  1218f278a4f8d83dac14b23c8f698062812ef9d5   \n",
       "\n",
       "                                               title  \\\n",
       "0  Multimerization of HIV-1 integrase hinges on c...   \n",
       "1  Time-varying transmission dynamics of Novel Co...   \n",
       "2            p53 is not necessary for DUX4 pathology   \n",
       "3  Virological assessment of hospitalized cases o...   \n",
       "4  Potential impact of seasonal forcing on a SARS...   \n",
       "\n",
       "                                            abstract  \\\n",
       "0  New anti-AIDS treatments must be continually d...   \n",
       "1  Rationale: Several studies have estimated basi...   \n",
       "2  Summary Statement: DUX4 is thought to mediate ...   \n",
       "3  emerged in late 2019 1,2 . Initial outbreaks i...   \n",
       "4  A novel coronavirus (SARS-CoV-2) first detecte...   \n",
       "\n",
       "                                            fulltext   source  \\\n",
       "0  In the absence of a curative treatment, the hi...  biorxiv   \n",
       "1  Eighteen years ago, severe acute respiratory s...  biorxiv   \n",
       "2  Facioscapulohumeral muscular dystrophy (FSHD) ...  biorxiv   \n",
       "3  Pharyngeal virus shedding was very high during...  medrxiv   \n",
       "4  (2.2 with 90% high density interval 1.4-3.8 (R...  medrxiv   \n",
       "\n",
       "                           doi pmcid  pubmed_id  license publish_time  \\\n",
       "0               10.1101/301721   NaN        NaN  biorxiv   2018-04-16   \n",
       "1    10.1101/2020.01.25.919787   NaN        NaN  biorxiv   2020-02-13   \n",
       "2               10.1101/118315   NaN        NaN  biorxiv   2017-03-19   \n",
       "3  10.1101/2020.03.05.20030502   NaN        NaN  medrvix   2020-03-08   \n",
       "4  10.1101/2020.02.13.20022806   NaN        NaN  medrvix   2020-02-17   \n",
       "\n",
       "                                             authors journal  peer_reviewed  \\\n",
       "0                             Galilee, M.; Alian, A.     nan          False   \n",
       "1  Liu, T.; Hu, J.; Xiao, J.; He, G.; Kang, M.; R...     nan          False   \n",
       "2  Bosnakovski, D.; Toso, E. A.; Recht, O. O.; Cu...     nan          False   \n",
       "3  Roman Woelfel; Victor Max Corman; Wolfgang Gug...     nan          False   \n",
       "4  Richard A Neher; Robert Dyrdak; Valentin Druel...     nan          False   \n",
       "\n",
       "   Microsoft Academic Paper ID WHO #Covidence  has_full_text   full_text_file  \n",
       "0                          NaN            NaN           True  biorxiv_medrxiv  \n",
       "1                          NaN            NaN           True  biorxiv_medrxiv  \n",
       "2                          NaN            NaN           True  biorxiv_medrxiv  \n",
       "3                          NaN            NaN           True  biorxiv_medrxiv  \n",
       "4                          NaN            NaN           True  biorxiv_medrxiv  "
      ]
     },
     "execution_count": 53,
     "metadata": {},
     "output_type": "execute_result"
    }
   ],
   "source": [
    "#Made data frame for all journal papers\n",
    "journals_df = allpapers_df[allpapers_df['journal']!='nan']\n",
    "#dataframe for unpublished papers\n",
    "unpublished_df = allpapers_df[allpapers_df['journal']=='nan']"
   ]
  },
  {
   "cell_type": "code",
   "execution_count": 54,
   "metadata": {},
   "outputs": [
    {
     "name": "stdout",
     "output_type": "stream",
     "text": [
      "Total number of papers including journals 27690 \n",
      "\n",
      "Total number of journals 26796 \n",
      "\n",
      "Number of unpublsihed papers 894\n"
     ]
    }
   ],
   "source": [
    "print(f'Total number of papers including journals {len(allpapers_df)} \\n\\nTotal number of journals {len(journals_df)} \\n\\nNumber of unpublsihed papers {len(unpublished_df)}')"
   ]
  },
  {
   "cell_type": "code",
   "execution_count": 61,
   "metadata": {},
   "outputs": [
    {
     "data": {
      "image/png": "[encoded data removed]",
      "text/plain": [
       "<Figure size 2000x1200 with 1 Axes>"
      ]
     },
     "metadata": {},
     "output_type": "display_data"
    }
   ],
   "source": [
    "from collections import Counter\n",
    "journal = Counter(journals_df['journal'])\n",
    "# journal.most_common()\n",
    "jour_mc = journal.most_common()[0:10]\n",
    "\n",
    "names = []\n",
    "nums = []\n",
    "for a,b in jour_mc:\n",
    "    names.append(a)\n",
    "    nums.append(b)\n",
    "from matplotlib.pyplot import figure\n",
    "figure(num=None, figsize=(25, 15), dpi=80, facecolor='w', edgecolor='k')\n",
    "plt.bar(names,nums)\n",
    "plt.xticks(names)\n",
    "plt.ylabel('Num of papers')\n",
    "plt.title('Top ten most common journal in dataset')\n",
    "plt.show()"
   ]
  },
  {
   "cell_type": "markdown",
   "metadata": {},
   "source": [
    "### Range of Incubation periods"
   ]
  },
  {
   "cell_type": "code",
   "execution_count": 63,
   "metadata": {},
   "outputs": [],
   "source": [
    "fulltexts = df['fulltext'].values\n",
    "abstracts = df['abstract'].values"
   ]
  },
  {
   "cell_type": "code",
   "execution_count": 456,
   "metadata": {},
   "outputs": [
    {
     "data": {
      "text/html": [
       "<div>\n",
       "<style scoped>\n",
       "    .dataframe tbody tr th:only-of-type {\n",
       "        vertical-align: middle;\n",
       "    }\n",
       "\n",
       "    .dataframe tbody tr th {\n",
       "        vertical-align: top;\n",
       "    }\n",
       "\n",
       "    .dataframe thead th {\n",
       "        text-align: right;\n",
       "    }\n",
       "</style>\n",
       "<table border=\"1\" class=\"dataframe\">\n",
       "  <thead>\n",
       "    <tr style=\"text-align: right;\">\n",
       "      <th></th>\n",
       "      <th>paper_id</th>\n",
       "      <th>title</th>\n",
       "      <th>abstract</th>\n",
       "      <th>fulltext</th>\n",
       "    </tr>\n",
       "  </thead>\n",
       "  <tbody>\n",
       "    <tr>\n",
       "      <td>1</td>\n",
       "      <td>abcfffafab399149d4adadd6bb458c4994e2025d</td>\n",
       "      <td>Time-varying transmission dynamics of Novel Co...</td>\n",
       "      <td>Rationale: Several studies have estimated basi...</td>\n",
       "      <td>Eighteen years ago, severe acute respiratory s...</td>\n",
       "    </tr>\n",
       "    <tr>\n",
       "      <td>4</td>\n",
       "      <td>1218f278a4f8d83dac14b23c8f698062812ef9d5</td>\n",
       "      <td>Potential impact of seasonal forcing on a SARS...</td>\n",
       "      <td>A novel coronavirus (SARS-CoV-2) first detecte...</td>\n",
       "      <td>(2.2 with 90% high density interval 1.4-3.8 (R...</td>\n",
       "    </tr>\n",
       "    <tr>\n",
       "      <td>13</td>\n",
       "      <td>78e49fdb6f0aa9924a5b510341d52b618fff0ca6</td>\n",
       "      <td>A Multiscale and Comparative Model for Recepto...</td>\n",
       "      <td>The respiratory syndrome caused by a new type ...</td>\n",
       "      <td>The coronavirus disease 2019 has emerged at th...</td>\n",
       "    </tr>\n",
       "    <tr>\n",
       "      <td>20</td>\n",
       "      <td>2afff5fe89a3e3ec270a41c2b929dfeec68d7d50</td>\n",
       "      <td>Real-Time Estimation of the Risk of Death from...</td>\n",
       "      <td>The exported cases of 2019 novel coronavirus i...</td>\n",
       "      <td>Since 8 December, 2019, clusters of pneumonia ...</td>\n",
       "    </tr>\n",
       "    <tr>\n",
       "      <td>24</td>\n",
       "      <td>c85f571a674c7fed0ccb9176e9cf9f3d3659ca32</td>\n",
       "      <td>Title Analysis of the epidemic growth of the e...</td>\n",
       "      <td>Background: On January 23, 2020, a quarantine ...</td>\n",
       "      <td>On December 31, 2019, the Health Commission in...</td>\n",
       "    </tr>\n",
       "  </tbody>\n",
       "</table>\n",
       "</div>"
      ],
      "text/plain": [
       "                                    paper_id  \\\n",
       "1   abcfffafab399149d4adadd6bb458c4994e2025d   \n",
       "4   1218f278a4f8d83dac14b23c8f698062812ef9d5   \n",
       "13  78e49fdb6f0aa9924a5b510341d52b618fff0ca6   \n",
       "20  2afff5fe89a3e3ec270a41c2b929dfeec68d7d50   \n",
       "24  c85f571a674c7fed0ccb9176e9cf9f3d3659ca32   \n",
       "\n",
       "                                                title  \\\n",
       "1   Time-varying transmission dynamics of Novel Co...   \n",
       "4   Potential impact of seasonal forcing on a SARS...   \n",
       "13  A Multiscale and Comparative Model for Recepto...   \n",
       "20  Real-Time Estimation of the Risk of Death from...   \n",
       "24  Title Analysis of the epidemic growth of the e...   \n",
       "\n",
       "                                             abstract  \\\n",
       "1   Rationale: Several studies have estimated basi...   \n",
       "4   A novel coronavirus (SARS-CoV-2) first detecte...   \n",
       "13  The respiratory syndrome caused by a new type ...   \n",
       "20  The exported cases of 2019 novel coronavirus i...   \n",
       "24  Background: On January 23, 2020, a quarantine ...   \n",
       "\n",
       "                                             fulltext  \n",
       "1   Eighteen years ago, severe acute respiratory s...  \n",
       "4   (2.2 with 90% high density interval 1.4-3.8 (R...  \n",
       "13  The coronavirus disease 2019 has emerged at th...  \n",
       "20  Since 8 December, 2019, clusters of pneumonia ...  \n",
       "24  On December 31, 2019, the Health Commission in...  "
      ]
     },
     "execution_count": 456,
     "metadata": {},
     "output_type": "execute_result"
    }
   ],
   "source": [
    "incubation = df[df['fulltext'].str.contains('incubation')]\n",
    "incubation.head()"
   ]
  },
  {
   "cell_type": "code",
   "execution_count": 457,
   "metadata": {},
   "outputs": [],
   "source": [
    "incubation_texts = incubation['fulltext'].values"
   ]
  },
  {
   "cell_type": "code",
   "execution_count": 458,
   "metadata": {},
   "outputs": [
    {
     "data": {
      "text/plain": [
       "8142"
      ]
     },
     "execution_count": 458,
     "metadata": {},
     "output_type": "execute_result"
    }
   ],
   "source": [
    "len(incubation_texts)"
   ]
  },
  {
   "cell_type": "code",
   "execution_count": 485,
   "metadata": {},
   "outputs": [
    {
     "name": "stdout",
     "output_type": "stream",
     "text": [
      "137\n"
     ]
    }
   ],
   "source": [
    "incubation_times = []\n",
    "incubation_dict = {}\n",
    "for t in incubation_texts:\n",
    "    for sentence in t.split('. '):\n",
    "        if 'incubation' in sentence and ('CoV' in sentence or 'COVID'in sentence or 'Covid'in sentence or 'corona virus' in sentence or 'coronavirus' in sentence or 'Coronavirus'in sentence or 'Corona virus'in sentence):\n",
    "#             print(sentence)\n",
    "            single_day = re.findall(r\" \\d{1,2} day\", sentence)\n",
    "            if len(single_day) == 1:\n",
    "                num = single_day[0].split(\" \")\n",
    "                incubation_times.append(float(num[1]))\n",
    "                incubation_dict[sentence] = float(num[1])"
   ]
  },
  {
   "cell_type": "code",
   "execution_count": 487,
   "metadata": {},
   "outputs": [],
   "source": [
    "del incubation_dict['Furthermore, we use R 0 = 2.3, a recovery rate of 0.2days −1 , and an incubation period of 5 days.With these assumptions, we can solve the model and compare the resulting trajectories to the seasonal variation in prevalence of seasonal CoVs, see Fig']\n",
    "del incubation_dict['Since we collected this dataset 13 days after the outbound travel e ban, which is more than the estimated 95 th percentile of the incubation period (Li et al., 2020) , we assume that all 2019-nCoV cases traveled from Wuhan to the selected countries and regions have already been confirmed.We expected that the international travel from Wuhan was relatively stable during this period']\n",
    "del incubation_dict['We assumed that the latent period was 4 days, based on an estimate of the incubation period of SARS, a related coronavirus (Lessler et al., 2009) ']\n",
    "del incubation_dict['On 31 January 2020, the United States Centers for Disease Control announced that all citizens returning from Hubei Province, China would be subject to mandatory quarantine for up to 14 days [5] .Currently, our understanding of the incubation period for 2019-nCoV is limited']\n",
    "del incubation_dict[\"Thus, SARS-CoV RNA was found in patients' stool specimen more than 30 days after the infections.The mean incubation period of SARS was estimated to be 6.4 days (95% confidence interval, 5.2 to 7.7)\"]\n",
    "del incubation_dict['An infectious dose for PDCoV and TGEV has not yet been determined in a feed matrix, but soybean meal also had the highest survival for both viruses with a virus concentration of 5.17 log TCID 50 /mL of PDCoV and 4.95 log TCID 50 /mL of TGEV even after 56 days of incubation.When comparing the inactivation kinetics of each virus, there is a similar trend for soybean meal to have the greatest virus survival']\n",
    "del incubation_dict['8, 16 SARS is unique among the numerous types of community-acquired pneumonia: (1) it has a prohibitive mortality, considerably higher than most other viral or bacterial community-acquired pneumonias, with the exception of pneumonitis caused by Legionella pneumophila or Hantavirus;(2) mortality has been high in adults, especially those older than 60 years, but clinical disease has been uncommon and mild in children 17 ; (3) early microbiologic confirmation of SARS has been difficult because the virus is hard to culture in vitro, conventional DNA/RNA detection techniques such as reverse-transcriptase polymerase chain reaction have been relatively insensitive in the early phase of infection, 4-6,10-12 and seroconversion, which ultimately occurs in nearly all infected individuals, takes up to 20 days 11 ; (4) SARS can be extraordinarily contagious, 18, 19 with more than one half of the early cases involving health care workers 9-12 ; (5) the incubation period of SARS (mean, 6.4 days 13 ) is much longer than that for other respiratory viruses, and it appears that infected persons are not contagious until they become symptomatic; and (6) most cases probably become infected by droplet spread 20 (<10 µM respiratory particles inhaled within 2 m of the source), but SARS-CoV can survive for hours on environmental surfaces, 21 and, at least in theory, there appears to be potential for contact transmission and even fecal-oral spread']\n",
    "# del incubation_dict[]"
   ]
  },
  {
   "cell_type": "code",
   "execution_count": 490,
   "metadata": {},
   "outputs": [],
   "source": [
    "# import csv\n",
    "# with open(\"incubationtimes.csv\", \"w\", newline=\"\") as f:\n",
    "#     writer = csv.writer(f)\n",
    "#     writer.writerow(list(incubation_dict.values()))"
   ]
  },
  {
   "cell_type": "code",
   "execution_count": 489,
   "metadata": {},
   "outputs": [
    {
     "data": {
      "image/png": "[encoded data removed]",
      "text/plain": [
       "<Figure size 432x288 with 1 Axes>"
      ]
     },
     "metadata": {
      "needs_background": "light"
     },
     "output_type": "display_data"
    }
   ],
   "source": [
    "n, bins, patches = plt.hist(incubation_dict.values(), 50, density = True, facecolor='g', alpha=0.75)\n",
    "plt.xlabel('Incubation Days')\n",
    "plt.ylabel('Counts')\n",
    "plt.title('Histogram of Incubation days')\n",
    "plt.show()"
   ]
  },
  {
   "cell_type": "markdown",
   "metadata": {},
   "source": [
    "## NLP summarizer\n",
    "https://stackabuse.com/text-summarization-with-nltk-in-python/"
   ]
  },
  {
   "cell_type": "code",
   "execution_count": 64,
   "metadata": {},
   "outputs": [],
   "source": [
    "import re\n",
    "import nltk\n",
    "\n",
    "# Get a list of stopwords from nltk\n",
    "stopwords = nltk.corpus.stopwords.words(\"english\")\n",
    "\n",
    "def clean_text(text):\n",
    "    # Removing Square Brackets and Extra Spaces\n",
    "    text = re.sub(r'\\[[0-9]*\\]',' ', text)\n",
    "    text = re.sub(r'\\s+',' ', text)\n",
    " \n",
    "    text = re.sub(r'\\{\\{[\\s\\S]*?\\}\\}', '', text)\n",
    "\n",
    "    # Remove doi links\n",
    "    #text = re.sub(r'^https://$', '',text)\n",
    "    return text\n",
    "\n",
    "def clean_spchar_digs(text):\n",
    "    # Removing special characters and digits\n",
    "    text = re.sub('[^a-zA-Z]', ' ', text )\n",
    "    text = re.sub(r'\\s+', ' ', text)\n",
    "    \n",
    "    return text\n",
    "\n",
    "def word_freq(formatted_text):\n",
    "    #creates a dictionary of words as keys and frequency as values\n",
    "    word_frequencies = {}\n",
    "    for word in nltk.word_tokenize(formatted_text):\n",
    "        if word not in stopwords:\n",
    "            if word not in word_frequencies.keys():\n",
    "                word_frequencies[word] = 1\n",
    "            else:\n",
    "                word_frequencies[word] += 1\n",
    "\n",
    "    maximum_frequency = max(word_frequencies.values())\n",
    "    #divides the values by the maximum frequency\n",
    "    for word in word_frequencies.keys():\n",
    "        word_frequencies[word] = (word_frequencies[word]/maximum_frequency)\n",
    "    \n",
    "    return word_frequencies\n",
    "\n",
    "def sent_scores(sentence_list, word_frequencies):\n",
    "    #uses the word frequencies to score the sentences by adding up the scores\n",
    "    #of the words that make up the sentence\n",
    "    sentence_scores = {}\n",
    "    for sent in sentence_list:\n",
    "        for word in nltk.word_tokenize(sent.lower()):\n",
    "            if word in word_frequencies.keys():\n",
    "                if len(sent.split(' ')) <60: #limits sentence to less than 60 words\n",
    "                    if sent not in sentence_scores.keys():\n",
    "                        sentence_scores[sent] = word_frequencies[word]\n",
    "                    else:\n",
    "                        sentence_scores[sent] += word_frequencies[word]\n",
    "                    \n",
    "    return sentence_scores\n",
    "\n",
    "def get_summary(dirty_text):\n",
    "    '''\n",
    "    Input: text that is already filtered for desired keywords\n",
    "    '''\n",
    "    #cleans the text\n",
    "    text = clean_text(dirty_text)\n",
    "    #remove special chars and nums\n",
    "    formatted_text = clean_spchar_digs(text)\n",
    "    #tokenize\n",
    "    sentence_list = nltk.sent_tokenize(text)\n",
    "    #wordfrequencies\n",
    "    word_frequencies = word_freq(formatted_text)\n",
    "    #dictionary of sentences with sentence as key and word frequency score as value\n",
    "    sentence_scores = sent_scores(sentence_list,word_frequencies)\n",
    "    \n",
    "    summary_sentences = heapq.nlargest(7, sentence_scores, key=sentence_scores.get) #first value is number highest scoring sentences to print\n",
    "    summary = '\\n\\n '.join(summary_sentences)\n",
    "    return summary\n",
    "\n",
    "def run_nlp(searchlist):\n",
    "    '''\n",
    "    Input: list of key words\n",
    "    Output: sentence with a keyword and a covid aliases summarizer thought were important\n",
    "    '''\n",
    "    #get summary where all you have to do is provide the words you are searching for in a list\n",
    "    covid_alias = ['CoV', 'COVID', 'Covid', 'corona virus', 'coronavirus', 'Coronavirus', 'Corona virus'] #depending on here the results w\n",
    "    #dictionary of sentences that contain the key terms\n",
    "    desired_sents = {}\n",
    "    #dictionary of sentences that contain a covid alias\n",
    "    covid_sents = {}\n",
    "    \n",
    "    for text in fulltexts:\n",
    "        for sentence in text.split('. '):\n",
    "            for i in searchlist:\n",
    "                if i.lower() in sentence.lower(): #using .lower changes the results dramatically\n",
    "                    if sentence not in desired_sents.keys():\n",
    "                        desired_sents[sentence] = sentence \n",
    "            for j in covid_alias:\n",
    "                if j in sentence:\n",
    "                    if sentence not in covid_sents.keys():\n",
    "                        covid_sents[sentence] = sentence\n",
    "    desired_sents = set(desired_sents.keys())\n",
    "    covid_sents = set(covid_sents.keys())\n",
    "    #list of the intersetion of sentences with key terms and covid aliases\n",
    "    desired_sents = list(desired_sents.intersection(covid_sents))\n",
    "    \n",
    "    desired_text = ''\n",
    "    for x in desired_sents:\n",
    "        desired_text += ' ' + x\n",
    "    \n",
    "    result = get_summary(desired_text)\n",
    "    return result"
   ]
  },
  {
   "cell_type": "markdown",
   "metadata": {},
   "source": [
    "### Seasonality"
   ]
  },
  {
   "cell_type": "code",
   "execution_count": 65,
   "metadata": {},
   "outputs": [
    {
     "data": {
      "text/html": [
       "<div>\n",
       "<style scoped>\n",
       "    .dataframe tbody tr th:only-of-type {\n",
       "        vertical-align: middle;\n",
       "    }\n",
       "\n",
       "    .dataframe tbody tr th {\n",
       "        vertical-align: top;\n",
       "    }\n",
       "\n",
       "    .dataframe thead th {\n",
       "        text-align: right;\n",
       "    }\n",
       "</style>\n",
       "<table border=\"1\" class=\"dataframe\">\n",
       "  <thead>\n",
       "    <tr style=\"text-align: right;\">\n",
       "      <th></th>\n",
       "      <th>paper_id</th>\n",
       "      <th>title</th>\n",
       "      <th>abstract</th>\n",
       "      <th>fulltext</th>\n",
       "    </tr>\n",
       "  </thead>\n",
       "  <tbody>\n",
       "    <tr>\n",
       "      <td>4</td>\n",
       "      <td>1218f278a4f8d83dac14b23c8f698062812ef9d5</td>\n",
       "      <td>Potential impact of seasonal forcing on a SARS...</td>\n",
       "      <td>A novel coronavirus (SARS-CoV-2) first detecte...</td>\n",
       "      <td>(2.2 with 90% high density interval 1.4-3.8 (R...</td>\n",
       "    </tr>\n",
       "    <tr>\n",
       "      <td>7</td>\n",
       "      <td>78ab35770cc98632c434523df48c6ba290182d37</td>\n",
       "      <td>Excess cases of Influenza like illnesses in Fr...</td>\n",
       "      <td>Several French regions where COVID19 has been ...</td>\n",
       "      <td>Influenza Like illnesses cases are defined as ...</td>\n",
       "    </tr>\n",
       "    <tr>\n",
       "      <td>10</td>\n",
       "      <td>317215c463463ddb39fa7564f67239dc484b86a9</td>\n",
       "      <td>Projecting the end of the Zika virus epidemic ...</td>\n",
       "      <td>International Concern following a cluster of a...</td>\n",
       "      <td>Starting as early as 2013, 1 has since spread ...</td>\n",
       "    </tr>\n",
       "    <tr>\n",
       "      <td>36</td>\n",
       "      <td>c6039f8933305c9f44a44c81a15b321b6c2848dc</td>\n",
       "      <td>Far-UVC light: A new tool to control the sprea...</td>\n",
       "      <td>Airborne-mediated microbial diseases such as i...</td>\n",
       "      <td>Airborne-mediated microbial diseases represent...</td>\n",
       "    </tr>\n",
       "    <tr>\n",
       "      <td>41</td>\n",
       "      <td>28b53e0cab53b10ab87431d6cc4ac1e0a7c4d6b9</td>\n",
       "      <td>Effects of temperature variation and humidity ...</td>\n",
       "      <td>Object Meteorological parameters are the impor...</td>\n",
       "      <td>In December 2019, a novel coronavirus disease ...</td>\n",
       "    </tr>\n",
       "  </tbody>\n",
       "</table>\n",
       "</div>"
      ],
      "text/plain": [
       "                                    paper_id  \\\n",
       "4   1218f278a4f8d83dac14b23c8f698062812ef9d5   \n",
       "7   78ab35770cc98632c434523df48c6ba290182d37   \n",
       "10  317215c463463ddb39fa7564f67239dc484b86a9   \n",
       "36  c6039f8933305c9f44a44c81a15b321b6c2848dc   \n",
       "41  28b53e0cab53b10ab87431d6cc4ac1e0a7c4d6b9   \n",
       "\n",
       "                                                title  \\\n",
       "4   Potential impact of seasonal forcing on a SARS...   \n",
       "7   Excess cases of Influenza like illnesses in Fr...   \n",
       "10  Projecting the end of the Zika virus epidemic ...   \n",
       "36  Far-UVC light: A new tool to control the sprea...   \n",
       "41  Effects of temperature variation and humidity ...   \n",
       "\n",
       "                                             abstract  \\\n",
       "4   A novel coronavirus (SARS-CoV-2) first detecte...   \n",
       "7   Several French regions where COVID19 has been ...   \n",
       "10  International Concern following a cluster of a...   \n",
       "36  Airborne-mediated microbial diseases such as i...   \n",
       "41  Object Meteorological parameters are the impor...   \n",
       "\n",
       "                                             fulltext  \n",
       "4   (2.2 with 90% high density interval 1.4-3.8 (R...  \n",
       "7   Influenza Like illnesses cases are defined as ...  \n",
       "10  Starting as early as 2013, 1 has since spread ...  \n",
       "36  Airborne-mediated microbial diseases represent...  \n",
       "41  In December 2019, a novel coronavirus disease ...  "
      ]
     },
     "execution_count": 65,
     "metadata": {},
     "output_type": "execute_result"
    }
   ],
   "source": [
    "season = df[df['fulltext'].str.contains('season')]\n",
    "season.head()"
   ]
  },
  {
   "cell_type": "code",
   "execution_count": 66,
   "metadata": {},
   "outputs": [],
   "source": [
    "season_texts = season['fulltext'].values"
   ]
  },
  {
   "cell_type": "code",
   "execution_count": 67,
   "metadata": {},
   "outputs": [],
   "source": [
    "season_data = ''\n",
    "for t in season_texts:\n",
    "    for sentence in t.split('. '):\n",
    "        if 'season' in sentence:\n",
    "            if 'winter' in sentence or 'summer' in sentence or 'fall' in sentence or 'spring' in sentence:\n",
    "#                 print(sentence)\n",
    "#                 print()\n",
    "#                 print()\n",
    "                    season_data += ' ' + sentence"
   ]
  },
  {
   "cell_type": "code",
   "execution_count": 68,
   "metadata": {},
   "outputs": [],
   "source": [
    "season_result = get_summary(season_data)"
   ]
  },
  {
   "cell_type": "markdown",
   "metadata": {},
   "source": [
    "### Immunity"
   ]
  },
  {
   "cell_type": "code",
   "execution_count": 69,
   "metadata": {},
   "outputs": [],
   "source": [
    "from re import search\n",
    "immunity_text = ''\n",
    "for text in fulltexts:\n",
    "    for sentence in text.split('. '):\n",
    "        if ('immunity' in sentence or 'immune' in sentence) and ('Cov' in sentence or 'Covid' in sentence or 'COVID' in sentence or 'corona virus' in sentence):\n",
    "#             print(sentence)\n",
    "#             print()\n",
    "#             print()\n",
    "            immunity_text += ' ' + sentence"
   ]
  },
  {
   "cell_type": "code",
   "execution_count": 70,
   "metadata": {},
   "outputs": [],
   "source": [
    "immunity_result = get_summary(immunity_text)"
   ]
  },
  {
   "cell_type": "markdown",
   "metadata": {},
   "source": [
    "### Role of Environment "
   ]
  },
  {
   "cell_type": "code",
   "execution_count": 71,
   "metadata": {},
   "outputs": [],
   "source": [
    "enviro_data = ''\n",
    "for text in fulltexts:\n",
    "    for sentence in text.split('. '):\n",
    "        if ('environment' in sentence or 'environmental stability' in sentence) and ('Cov' in sentence or 'Covid' in sentence or 'COVID' in sentence or 'corona virus' in sentence):\n",
    "#             print(sentence)\n",
    "#             print()\n",
    "#             print()\n",
    "            enviro_data += ' ' + sentence"
   ]
  },
  {
   "cell_type": "code",
   "execution_count": 72,
   "metadata": {},
   "outputs": [
    {
     "ename": "NameError",
     "evalue": "name 'control_data' is not defined",
     "output_type": "error",
     "traceback": [
      "\u001b[0;31m---------------------------------------------------------------------------\u001b[0m",
      "\u001b[0;31mNameError\u001b[0m                                 Traceback (most recent call last)",
      "\u001b[0;32m<ipython-input-72-43dc72749e54>\u001b[0m in \u001b[0;36m<module>\u001b[0;34m\u001b[0m\n\u001b[0;32m----> 1\u001b[0;31m \u001b[0menviro_result\u001b[0m \u001b[0;34m=\u001b[0m \u001b[0mget_summary\u001b[0m\u001b[0;34m(\u001b[0m\u001b[0mcontrol_data\u001b[0m\u001b[0;34m)\u001b[0m\u001b[0;34m\u001b[0m\u001b[0;34m\u001b[0m\u001b[0m\n\u001b[0m",
      "\u001b[0;31mNameError\u001b[0m: name 'control_data' is not defined"
     ]
    }
   ],
   "source": [
    "enviro_result = get_summary(control_data)"
   ]
  },
  {
   "cell_type": "markdown",
   "metadata": {},
   "source": [
    "### History "
   ]
  },
  {
   "cell_type": "code",
   "execution_count": null,
   "metadata": {},
   "outputs": [],
   "source": [
    "history_data = ''\n",
    "for text in fulltexts:\n",
    "    for sentence in text.split('. '):\n",
    "        if ('history' in sentence or 'natural history' in sentence or 'diagnostics' in sentence) and ('Cov' in sentence or 'Covid' in sentence or 'COVID' in sentence or 'corona virus' in sentence):\n",
    "#             print(sentence)\n",
    "#             print()\n",
    "#             print()\n",
    "            history_data += ' ' + sentence"
   ]
  },
  {
   "cell_type": "code",
   "execution_count": null,
   "metadata": {},
   "outputs": [],
   "source": [
    "history_result = get_summary(history_data)"
   ]
  },
  {
   "cell_type": "code",
   "execution_count": 390,
   "metadata": {
    "scrolled": false
   },
   "outputs": [
    {
     "name": "stdout",
     "output_type": "stream",
     "text": [
      "\u001b[1mSeasonality\u001b[0m\n",
      "\n",
      "Conducting the trial during winter months will maximize the efficiency of the trial because AOM and URTI incidences are highest during that time Thus sufficient patients will be recruited during two calendar years for the intervention to take place over two winter seasons The intervention will be given during the winter season.\n",
      "\n",
      " Given the overlap in the winter season of these viruses in temperate areas, it is not surprising that co-infections with two or more viruses occur Therefore, contact and droplet precautions are sufficient to prevent transmission in most settings; handwashing is critical in healthcare settings during the winter season.\n",
      "\n",
      " The virulence, spread and type of circulating influenza strains varies from season to season.\n",
      "\n",
      " In our study, picornaviruses had the highest prevalence over all seasons, although other viruses such as influenza virus and RSV increased their prevalence in winter As expected, we found that influenza viruses and other viruses increase in prevalence with a seasonal distribution in winter (see Fig Less common causes include parainfluenza, metapneumovirus, coronavirus, influenza, bocavirus, and adenovirus.\n",
      "\n",
      " Meteorological parameters, in particular temperature and humidity, may contribute to the observed seasonal variation in the occurrence of influenza episodes Studies from temperate and tropical climates have demonstrated that low temperature and humidity increase the risk of seasonal influenza onset in the winter Both intake groups served part of their military training during the winter season.\n",
      "\n",
      " The winter season is the preferred season for infection by HCoV-NL63, yet large year-to-year differences in frequency is apparent Furthermore, with seasonal changes (particularly the fall and winter) also comes an increased exposure to viruses like rhinovirus and influenza that commonly precipitate asthma attacks.\n",
      "\n",
      " Influenza Figure 2) Yearly hMPV activity varied from being almost absent during the winter season 2006 to 2007, to causing yearly winter outbreaks during the following years ( Figure 2, Figure 3 ) Detection of PIV3 increased during the spring and summer and HRV was detected year-round, whereas other viruses were observed with no clear seasonal distribution.\n",
      "\n",
      "\u001b[1mImmunity\u001b[0m\n",
      "\n",
      "Derivation of monoclonal anti-idiotype antibodies to an antigen-specific bovine monocl onal antibody Jerne (1974) proposed a network theory of the immune system in which idiotypes and anti-idiotypes play a central regulatory role Other suspected, but not well-documented, agents which can provoke immune complex vasculitis include streptococcal infection, herpes virus infection, equine infectious anaemia virus, and canine corona virus .\n",
      "\n",
      " We discussed the dynamic characteristics of host immune system and the imbalance of gut microbiota in 3 critical patients with COVID-2019 https://doi.org/10.1101/2020.03.03.20030650 doi: medRxiv preprint severity was closely related with host immune cell levels, and the vicious circle between immune disorder and gut microbiota imbalance may be a high risk of fatal pneumonia.\n",
      "\n",
      " CD4 + T cells play a pivotal role in regulating immune responses, orchestrating the deletion 3 7 7 and amplification of immune cells, especially CD8 + T cells Here, we focus on insights into blood immune responses to COVID-19 using 5' mRNA, TCR, and BCR V(D)J recombination analysis with 4 4 single-cell resolution.\n",
      "\n",
      " Together, our data showed an increased recruitment of immune cells to the lung in response to SARS-CoV-2 infection, and that the lung immune cell compartments differed between mild and severe COVID-19 patients.\n",
      "\n",
      " All rights reserved A well co-ordinated innate and adaptive immune response may rapidly control of the virus, while a failed immune response leads to viral spreading, cytokine storm, and high mortality .\n",
      "\n",
      " Since it will take several years to develop specific drugs to treat COVID-19, repurposing currently marketed drugs would provide valuable opportunities This high mortality rate among corona virus infected old patients is explained by the high virulence of the new virus in the absence of previous immunity and already compromised immune system among old peoples.\n",
      "\n",
      " Cytokines are produced by both innate immune cells and adaptive immune cells These damages might be attributable to indirect cytokines storm initiated by immune system and direct attack from SARS-CoV-2 itself.\n",
      "\n",
      "\u001b[1mRole of Environment\u001b[0m\n",
      "\n",
      "In addition to population mobility and human-to-human contact, environmental factors can impact droplet transmission and survival of viruses (e.g., influenza) but have not yet been examined for this novel pathogen In order to identify the sta- Table 1 : Relationship between local exponential growth, log(R proxy ), and environmental factors (i.e., absolute humidity and temperature).\n",
      "\n",
      " This investigation showed that the hospital environment frequently becomes contaminated when providing care to COVID-19 patients A lack of resources also meant that we were unable to conduct 1 3 These findings emphasize the need to ensure adequate environmental cleaning, strengthen infection prevention training, and improve infection prevention precautions among HCWs during the outbreak of COVID-19.\n",
      "\n",
      " Evidence exists that each of these routes of transmission is possible: symptomatic ( 8 ) , pre-symptomatic ( 9 ) ; asymptomatic ( 10 ) ; and environmental ( 8 ) 23.20026690 doi: medRxiv preprint cells formed in the mildly infected patients support the notion that a rapid and robust adaptive immune response is potentially critical for controlling COVID-19.\n",
      "\n",
      " The transmission rate of COVID-19 may be affected by many environmental factors Hospital waiting times were extended, which increased the time before infected individuals were identified and placed into isolation.\n",
      "\n",
      " Second, our paper complements the epidemiologic studies on the basic reproduction number of COVID-19 Second, we match the daily weather variables to the number of new cases of COVID-19 based on city name and date.\n",
      "\n",
      " Based on the epidemic of COVID-19 in mainland China, we developed data-driven SEIQR models to investigate the impact of social distancing and epicenter lockdown on the epidemic dynamics The basic reproductive number for COVID-19 was then found to be 5.6, which is substantially higher than that for SARS.\n",
      "\n",
      " In an enclosed and crowded environment, the transmission of SARS-CoV-2 was thought to significantly increase Patient 19's partner was clinical diagnosed with COVID-19, while patient 14's was not.\n",
      "\n",
      "\u001b[1mHistory\u001b[0m\n",
      "\n",
      "In the 853 confirmed COVID-19 patients, 199 cases reported their contact history, in which 172 patients (86.43%) had a history of having been to Hubei or living in Hubei, 19 patients (9.55%) had a history of contacting confirmed cases, 8 patients (4.02%) had a history of contacting people who were from Hubei ( Figure 6 ).\n",
      "\n",
      " We collected all publicly available information of confirmed COVID-19 patients in Hefei and Shenzhen, including sex, age, travel history, information of contact with patients with similar symptoms or confirmed COVID-19, symptoms related to SARS-CoV-2 infection and time when these symptoms first appeared, and time of conformation of COVID-19.\n",
      "\n",
      " We used WHO training material for the detection, prevention, response, and control of COVID-19 to develop a validated questionnaire first reported 41 COVID-19 cases, most of whom had a history of exposure to Huanan Seafood Wholesale Market Secondary outcomes included the history of epidemiology of CML patients, the clinical characteristics and outcomes of CML patients with COVID-19.\n",
      "\n",
      " Person who had a close (within 1 m) but short (< 15 min) contact with a confirmed case, or a distant (> 1 m) but prolonged contact in public settings, or any contact in private settings that does not match with the moderate/high risk of exposure criteria.\n",
      "\n",
      " Clinical details on the cancer history and COVID-19 pneumonia are summarized in Table 1 1 case had history of Wuhan contact and the other 2 cases had no clear epidemiological history (Table 1 ).\n",
      "\n",
      " Of the 106 confirmed COVID-19 cases with a clear travel or contact history, the median age was 41 years (range, 19 to 73), and 70 (66.0%) were known to be male ( Table 1 ) Particularly, 66.2% of the secondary cases were infected within three days before the symptom onset dates of the first-generation cases.\n",
      "\n",
      " Our study provided three cases as clinical-confirmed COVID-19 pneumonia because of their epidemiological history, signs, symptoms and chest CT evidence according to guidance, though they tested negative for the SARS-CoV-2 26.20028225 doi: medRxiv preprint Figure 2 : Sexual behavior history, diagnosis and treatment process of patient 14 and patient 19 with COVID-19.\n",
      "\n"
     ]
    }
   ],
   "source": [
    "class color:\n",
    "   PURPLE = '\\033[95m'\n",
    "   CYAN = '\\033[96m'\n",
    "   DARKCYAN = '\\033[36m'\n",
    "   BLUE = '\\033[94m'\n",
    "   GREEN = '\\033[92m'\n",
    "   YELLOW = '\\033[93m'\n",
    "   RED = '\\033[91m'\n",
    "   BOLD = '\\033[1m'\n",
    "   UNDERLINE = '\\033[4m'\n",
    "   END = '\\033[0m'\n",
    "\n",
    "print(color.BOLD + 'Seasonality' + color.END)\n",
    "print()\n",
    "print(season_result)\n",
    "print()\n",
    "print(color.BOLD + 'Immunity' + color.END)\n",
    "print()\n",
    "print(immunity_result)\n",
    "print()\n",
    "print(color.BOLD + 'Role of Environment' + color.END)\n",
    "print()\n",
    "print(enviro_result)\n",
    "print()\n",
    "print(color.BOLD + 'History' + color.END)\n",
    "print()\n",
    "print(history_result)\n",
    "print()"
   ]
  }
 ],
 "metadata": {
  "kernelspec": {
   "display_name": "Python 3",
   "language": "python",
   "name": "python3"
  },
  "language_info": {
   "codemirror_mode": {
    "name": "ipython",
    "version": 3
   },
   "file_extension": ".py",
   "mimetype": "text/x-python",
   "name": "python",
   "nbconvert_exporter": "python",
   "pygments_lexer": "ipython3",
   "version": "3.7.3"
  }
 },
 "nbformat": 4,
 "nbformat_minor": 2
}
