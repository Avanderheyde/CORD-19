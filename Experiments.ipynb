{
 "cells": [
  {
   "cell_type": "markdown",
   "metadata": {},
   "source": [
    "Tried to get the rankings in the dataframe but the csv is too wonky\n",
    "https://www.scimagojr.com/journalrank.php?page=1&total_size=31971"
   ]
  },
  {
   "cell_type": "code",
   "execution_count": 2,
   "metadata": {},
   "outputs": [
    {
     "ename": "NameError",
     "evalue": "name 'pd' is not defined",
     "output_type": "error",
     "traceback": [
      "\u001b[0;31m---------------------------------------------------------------------------\u001b[0m",
      "\u001b[0;31mNameError\u001b[0m                                 Traceback (most recent call last)",
      "\u001b[0;32m<ipython-input-2-74e02c94d49d>\u001b[0m in \u001b[0;36m<module>\u001b[0;34m\u001b[0m\n\u001b[0;32m----> 1\u001b[0;31m \u001b[0mjournal_rankings\u001b[0m \u001b[0;34m=\u001b[0m \u001b[0mpd\u001b[0m\u001b[0;34m.\u001b[0m\u001b[0mread_csv\u001b[0m\u001b[0;34m(\u001b[0m\u001b[0;34m\"/Users/alderik/Documents/Job/Projects/CORD-19/journal_rankings.csv\"\u001b[0m\u001b[0;34m)\u001b[0m\u001b[0;34m\u001b[0m\u001b[0;34m\u001b[0m\u001b[0m\n\u001b[0m\u001b[1;32m      2\u001b[0m \u001b[0mjournal_rankings\u001b[0m\u001b[0;34m.\u001b[0m\u001b[0mhead\u001b[0m\u001b[0;34m(\u001b[0m\u001b[0;34m)\u001b[0m\u001b[0;34m\u001b[0m\u001b[0;34m\u001b[0m\u001b[0m\n\u001b[1;32m      3\u001b[0m \u001b[0mnew_header\u001b[0m \u001b[0;34m=\u001b[0m \u001b[0mjournal_rankings\u001b[0m\u001b[0;34m.\u001b[0m\u001b[0miloc\u001b[0m\u001b[0;34m[\u001b[0m\u001b[0;36m0\u001b[0m\u001b[0;34m]\u001b[0m \u001b[0;31m#grab the first row for the header\u001b[0m\u001b[0;34m\u001b[0m\u001b[0;34m\u001b[0m\u001b[0m\n\u001b[1;32m      4\u001b[0m \u001b[0mjournal_rankings\u001b[0m\u001b[0;34m.\u001b[0m\u001b[0miloc\u001b[0m\u001b[0;34m[\u001b[0m\u001b[0;36m1\u001b[0m\u001b[0;34m]\u001b[0m\u001b[0;34m\u001b[0m\u001b[0;34m\u001b[0m\u001b[0m\n\u001b[1;32m      5\u001b[0m \u001b[0;31m# new_header = [\"Rank\", \"Sourceid\", \"Title\", \"Type\", \"Issn\",\"SJR\", \"SJR Best Quartile\", \"H index\", \"Total Docs. (2018)\",\" Total Docs. (3years)\",\" Total Refs.\", \"Total Cites (3years)\", \"Citable Docs. (3years)\", \"Cites / Doc. (2years)\", \"Ref. / Doc.\", \"Country\", \"Publisher\", \"Coverage\", \"Categories\"]\u001b[0m\u001b[0;34m\u001b[0m\u001b[0;34m\u001b[0m\u001b[0;34m\u001b[0m\u001b[0m\n",
      "\u001b[0;31mNameError\u001b[0m: name 'pd' is not defined"
     ]
    }
   ],
   "source": [
    "journal_rankings = pd.read_csv(\"/Users/alderik/Documents/Job/Projects/CORD-19/journal_rankings.csv\")\n",
    "journal_rankings.head()\n",
    "new_header = journal_rankings.iloc[0] #grab the first row for the header\n",
    "journal_rankings.iloc[1]\n",
    "# new_header = [\"Rank\", \"Sourceid\", \"Title\", \"Type\", \"Issn\",\"SJR\", \"SJR Best Quartile\", \"H index\", \"Total Docs. (2018)\",\" Total Docs. (3years)\",\" Total Refs.\", \"Total Cites (3years)\", \"Citable Docs. (3years)\", \"Cites / Doc. (2years)\", \"Ref. / Doc.\", \"Country\", \"Publisher\", \"Coverage\", \"Categories\"]\n",
    "# journal_rankings = journal_rankings[1:] #take the data less the header row\n",
    "# journal_rankings.columns = new_header #set the header row as the df header\n",
    "# journal_rankings.head()journal.most_common()journal.most_common()"
   ]
  },
  {
   "cell_type": "code",
   "execution_count": null,
   "metadata": {},
   "outputs": [],
   "source": []
  }
 ],
 "metadata": {
  "kernelspec": {
   "display_name": "Python 3",
   "language": "python",
   "name": "python3"
  },
  "language_info": {
   "codemirror_mode": {
    "name": "ipython",
    "version": 3
   },
   "file_extension": ".py",
   "mimetype": "text/x-python",
   "name": "python",
   "nbconvert_exporter": "python",
   "pygments_lexer": "ipython3",
   "version": "3.7.3"
  }
 },
 "nbformat": 4,
 "nbformat_minor": 2
}
